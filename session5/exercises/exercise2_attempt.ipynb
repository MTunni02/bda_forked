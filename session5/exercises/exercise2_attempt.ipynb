{
 "cells": [
  {
   "cell_type": "code",
   "execution_count": 101,
   "id": "1bbe5a54",
   "metadata": {},
   "outputs": [],
   "source": [
    "import time\n",
    "import multiprocessing\n",
    "import requests\n",
    "import re"
   ]
  },
  {
   "cell_type": "code",
   "execution_count": 102,
   "id": "29535909",
   "metadata": {},
   "outputs": [],
   "source": [
    "urls = [\n",
    "        'http://www.gutenberg.org/files/1342/1342-0.txt',  # Pride and Prejudice by Jane Austen\n",
    "        'http://www.gutenberg.org/cache/epub/11/pg11.txt',  # Alice’s Adventures in Wonderland by Lewis Carroll\n",
    "        'http://www.gutenberg.org/files/84/84-0.txt',  # Frankenstein by Mary Shelley\n",
    "        'http://www.gutenberg.org/files/1080/1080-0.txt',  # A Modest Proposal by Jonathan Swift\n",
    "        'http://www.gutenberg.org/files/98/98-0.txt',  # A Tale of Two Cities by Charles Dickens\n",
    "        'http://www.gutenberg.org/files/2701/2701-0.txt',  # Moby Dick by Herman Melville\n",
    "        'http://www.gutenberg.org/files/2600/2600-0.txt',  # War and Peace by Leo Tolstoy\n",
    "        'http://www.gutenberg.org/files/174/174-0.txt',  # The Picture of Dorian Gray by Oscar Wilde\n",
    "        'http://www.gutenberg.org/files/43/43-0.txt',  # The Strange Case of Dr. Jekyll and Mr. Hyde by Robert Louis Stevenson\n",
    "        'http://www.gutenberg.org/files/1661/1661-0.txt'  # The Adventures of Sherlock Holmes by Arthur Conan Doyle\n",
    "    ]"
   ]
  },
  {
   "cell_type": "markdown",
   "id": "d8c9e1be",
   "metadata": {},
   "source": [
    "** 1. Create a function to store a list of strings into a file."
   ]
  },
  {
   "cell_type": "code",
   "execution_count": 103,
   "id": "e238ae2c",
   "metadata": {},
   "outputs": [],
   "source": [
    "def save_text_to_file(text_list, filename):\n",
    "    with open(filename, 'w', encoding='utf-8') as file:\n",
    "        for text in text_list:\n",
    "            file.write(text + '\\n')\n"
   ]
  },
  {
   "cell_type": "markdown",
   "id": "308fd0d0",
   "metadata": {},
   "source": [
    "** 2. Create a function to download a book from a list and save it"
   ]
  },
  {
   "cell_type": "code",
   "execution_count": 104,
   "id": "508457a1",
   "metadata": {},
   "outputs": [],
   "source": [
    "def download_book(url):\n",
    "    response = requests.get(url)\n",
    "    book = response.text\n",
    "    pattern = r'[^/]+$'\n",
    "    match = re.search(pattern, url)\n",
    "    title = match.group(0)\n",
    "    save_text_to_file(book,title)\n",
    "    return book"
   ]
  },
  {
   "cell_type": "markdown",
   "id": "6c752428",
   "metadata": {},
   "source": [
    "** 3. Serial downloader - saves each book in sequence"
   ]
  },
  {
   "cell_type": "code",
   "execution_count": 105,
   "id": "cacaa239",
   "metadata": {},
   "outputs": [],
   "source": [
    "# Serial runner\n",
    "def serial_downloader():\n",
    "    start=time.perf_counter()\n",
    "    for url in urls:\n",
    "        book = download_book(url)\n",
    "    end=time.perf_counter()\n",
    "    print(f'Serial run took {round(end-start,2)} second(s)')"
   ]
  },
  {
   "cell_type": "markdown",
   "id": "d04bd64a",
   "metadata": {},
   "source": [
    "** 4. Parallel downloader - works on each book in parallel"
   ]
  },
  {
   "cell_type": "code",
   "execution_count": 106,
   "id": "92f9b35a",
   "metadata": {},
   "outputs": [],
   "source": [
    "# Parallel runner\n",
    "def parallel_downloader():\n",
    "    start=time.perf_counter()\n",
    "    processes = []\n",
    "    for url in urls:\n",
    "        p = multiprocessing.Process(target=download_book,args=[url])\n",
    "        p.start()\n",
    "        processes.append(p)\n",
    "    for p in processes:\n",
    "        p.join()\n",
    "    end=time.perf_counter()\n",
    "    print(f'Parallel took {round(end-start,2)} second(s)')"
   ]
  },
  {
   "cell_type": "code",
   "execution_count": null,
   "id": "ac6d1c0e",
   "metadata": {},
   "outputs": [
    {
     "name": "stdout",
     "output_type": "stream",
     "text": [
      "Downloading and processing 10 file(s)...\n",
      "Parallel took 0.24 second(s)\n"
     ]
    }
   ],
   "source": [
    "if __name__ == '__main__':\n",
    "    print(f\"Downloading and processing {len(urls)} file(s)...\")\n",
    "    serial_downloader()\n",
    "    parallel_downloader()"
   ]
  }
 ],
 "metadata": {
  "kernelspec": {
   "display_name": "Python 3",
   "language": "python",
   "name": "python3"
  },
  "language_info": {
   "codemirror_mode": {
    "name": "ipython",
    "version": 3
   },
   "file_extension": ".py",
   "mimetype": "text/x-python",
   "name": "python",
   "nbconvert_exporter": "python",
   "pygments_lexer": "ipython3",
   "version": "3.13.3"
  }
 },
 "nbformat": 4,
 "nbformat_minor": 5
}

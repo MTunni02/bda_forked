{
 "cells": [
  {
   "cell_type": "code",
   "execution_count": 3,
   "id": "1e3a6286",
   "metadata": {},
   "outputs": [],
   "source": [
    "import time\n",
    "import concurrent.futures\n",
    "import multiprocessing"
   ]
  },
  {
   "cell_type": "code",
   "execution_count": 4,
   "id": "a075959d",
   "metadata": {},
   "outputs": [],
   "source": [
    "def sum_square(n):\n",
    "    return sum(i * i for i in range(n))"
   ]
  },
  {
   "cell_type": "code",
   "execution_count": 5,
   "id": "f0065fe9",
   "metadata": {},
   "outputs": [],
   "source": [
    "def serial_runner(arange):\n",
    "    start = time.perf_counter()\n",
    "    for i in range(arange):\n",
    "        sum_square(i)\n",
    "    end = time.perf_counter()\n",
    "    print(f'Serial processing time: {end-start} second(s)')"
   ]
  },
  {
   "cell_type": "code",
   "execution_count": 6,
   "id": "ac6e2d3d",
   "metadata": {},
   "outputs": [],
   "source": [
    "def parallel_runner(arange):\n",
    "    start = time.perf_counter()\n",
    "    with concurrent.futures.ProcessPoolExecutor(max_workers=8) as executor:\n",
    "        results = list(executor.map(sum_square, range(arange)))\n",
    "    end = time.perf_counter()\n",
    "    print(f'Parallel (process poolmap - 8 workers): {end-start:.4f} second(s).')\n",
    "    return results"
   ]
  },
  {
   "cell_type": "code",
   "execution_count": 7,
   "id": "4f7f9d93",
   "metadata": {},
   "outputs": [],
   "source": [
    "def multi_runner(arange):\n",
    "    start = time.perf_counter()\n",
    "    with multiprocessing.Pool() as p:\n",
    "        results = list(p.map(sum_square,range(arange)))\n",
    "    end = time.perf_counter()\n",
    "    print(f\"Multiprocessing time: {end-start} second(s).\")\n",
    "    return results"
   ]
  },
  {
   "cell_type": "code",
   "execution_count": null,
   "id": "97771ab4",
   "metadata": {},
   "outputs": [],
   "source": [
    "if __name__ == \"__main__\":\n",
    "    arange = 200\n",
    "    #serial_runner(arange)\n",
    "    multi_runner(arange)"
   ]
  }
 ],
 "metadata": {
  "kernelspec": {
   "display_name": "Python 3",
   "language": "python",
   "name": "python3"
  },
  "language_info": {
   "codemirror_mode": {
    "name": "ipython",
    "version": 3
   },
   "file_extension": ".py",
   "mimetype": "text/x-python",
   "name": "python",
   "nbconvert_exporter": "python",
   "pygments_lexer": "ipython3",
   "version": "3.13.3"
  }
 },
 "nbformat": 4,
 "nbformat_minor": 5
}

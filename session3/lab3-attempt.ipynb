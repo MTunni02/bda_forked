{
 "cells": [
  {
   "cell_type": "markdown",
   "id": "6703a9ef",
   "metadata": {},
   "source": [
    "### Lab 3: CSV Analysis with Python (Netflix Dataset)\n",
    "\n",
    "**Learning goals:**\n",
    "\n",
    "* Load and parse CSV files using Python.\n",
    "* Build custom reusable functions to process tabular data.\n",
    "* Use generators with `yield` to write memory-efficient code.\n",
    "* Filter and analyze records from a dataset using conditional logic.\n",
    "* Create summaries, counters, and frequency tables using `for` loops and dictionaries.\n",
    "* Perform basic sorting, aggregation, and statistical operations manually.\n",
    "\n",
    "Dataset:\n",
    "\n",
    "* Download the data from Kaggle:\n",
    "  * [Netflix Movies and TV Shows](https://www.kaggle.com/datasets/shivamb/netflix-shows)"
   ]
  },
  {
   "cell_type": "markdown",
   "id": "39d9a600",
   "metadata": {},
   "source": [
    "1. **Load the data in Python as a dictionary.**\n",
    "\n",
    "Read the CSV data into a list of dictionaries, for later usage."
   ]
  },
  {
   "cell_type": "code",
   "execution_count": 2,
   "id": "71e2fb41",
   "metadata": {},
   "outputs": [
    {
     "name": "stdout",
     "output_type": "stream",
     "text": [
      "{'show_id': 's2', 'type': 'TV Show', 'title': 'Blood & Water', 'director': '', 'cast': 'Ama Qamata, Khosi Ngema, Gail Mabalane, Thabang Molaba, Dillon Windvogel, Natasha Thahane, Arno Greeff, Xolile Tshabalala, Getmore Sithole, Cindy Mahlangu, Ryle De Morny, Greteli Fincham, Sello Maake Ka-Ncube, Odwa Gwanya, Mekaila Mathys, Sandi Schultz, Duane Williams, Shamilla Miller, Patrick Mofokeng', 'country': 'South Africa', 'date_added': 'September 24, 2021', 'release_year': '2021', 'rating': 'TV-MA', 'duration': '2 Seasons', 'listed_in': 'International TV Shows, TV Dramas, TV Mysteries', 'description': 'After crossing paths at a party, a Cape Town teen sets out to prove whether a private-school swimming star is her sister who was abducted at birth.'}\n"
     ]
    }
   ],
   "source": [
    "import csv\n",
    "\n",
    "with open('C:/Users/markt/OneDrive/Documents/Birkbeck/MSc Data Science/Big Data Analytics/Lab-Exercises/Lab3/netflix_titles.csv', mode='r', newline='') as file:\n",
    "    reader = csv.DictReader(file)\n",
    "    data = [row for row in reader]\n",
    "\n",
    "print(data[1])"
   ]
  },
  {
   "cell_type": "markdown",
   "id": "aa45c524",
   "metadata": {},
   "source": [
    "**Here is the function implementation.**"
   ]
  },
  {
   "cell_type": "code",
   "execution_count": 3,
   "id": "b701ee12",
   "metadata": {},
   "outputs": [
    {
     "name": "stdout",
     "output_type": "stream",
     "text": [
      "[{'show_id': 's1', 'type': 'Movie', 'title': 'Dick Johnson Is Dead', 'director': 'Kirsten Johnson', 'cast': '', 'country': 'United States', 'date_added': 'September 25, 2021', 'release_year': '2020', 'rating': 'PG-13', 'duration': '90 min', 'listed_in': 'Documentaries', 'description': 'As her father nears the end of his life, filmmaker Kirsten Johnson stages his death in inventive and comical ways to help them both face the inevitable.'}, {'show_id': 's2', 'type': 'TV Show', 'title': 'Blood & Water', 'director': '', 'cast': 'Ama Qamata, Khosi Ngema, Gail Mabalane, Thabang Molaba, Dillon Windvogel, Natasha Thahane, Arno Greeff, Xolile Tshabalala, Getmore Sithole, Cindy Mahlangu, Ryle De Morny, Greteli Fincham, Sello Maake Ka-Ncube, Odwa Gwanya, Mekaila Mathys, Sandi Schultz, Duane Williams, Shamilla Miller, Patrick Mofokeng', 'country': 'South Africa', 'date_added': 'September 24, 2021', 'release_year': '2021', 'rating': 'TV-MA', 'duration': '2 Seasons', 'listed_in': 'International TV Shows, TV Dramas, TV Mysteries', 'description': 'After crossing paths at a party, a Cape Town teen sets out to prove whether a private-school swimming star is her sister who was abducted at birth.'}, {'show_id': 's3', 'type': 'TV Show', 'title': 'Ganglands', 'director': 'Julien Leclercq', 'cast': 'Sami Bouajila, Tracy Gotoas, Samuel Jouy, Nabiha Akkari, Sofia Lesaffre, Salim Kechiouche, Noureddine Farihi, Geert Van Rampelberg, Bakary Diombera', 'country': '', 'date_added': 'September 24, 2021', 'release_year': '2021', 'rating': 'TV-MA', 'duration': '1 Season', 'listed_in': 'Crime TV Shows, International TV Shows, TV Action & Adventure', 'description': 'To protect his family from a powerful drug lord, skilled thief Mehdi and his expert team of robbers are pulled into a violent and deadly turf war.'}, {'show_id': 's4', 'type': 'TV Show', 'title': 'Jailbirds New Orleans', 'director': '', 'cast': '', 'country': '', 'date_added': 'September 24, 2021', 'release_year': '2021', 'rating': 'TV-MA', 'duration': '1 Season', 'listed_in': 'Docuseries, Reality TV', 'description': 'Feuds, flirtations and toilet talk go down among the incarcerated women at the Orleans Justice Center in New Orleans on this gritty reality series.'}, {'show_id': 's5', 'type': 'TV Show', 'title': 'Kota Factory', 'director': '', 'cast': 'Mayur More, Jitendra Kumar, Ranjan Raj, Alam Khan, Ahsaas Channa, Revathi Pillai, Urvi Singh, Arun Kumar', 'country': 'India', 'date_added': 'September 24, 2021', 'release_year': '2021', 'rating': 'TV-MA', 'duration': '2 Seasons', 'listed_in': 'International TV Shows, Romantic TV Shows, TV Comedies', 'description': 'In a city of coaching centers known to train India’s finest collegiate minds, an earnest but unexceptional student and his friends navigate campus life.'}, {'show_id': 's6', 'type': 'TV Show', 'title': 'Midnight Mass', 'director': 'Mike Flanagan', 'cast': 'Kate Siegel, Zach Gilford, Hamish Linklater, Henry Thomas, Kristin Lehman, Samantha Sloyan, Igby Rigney, Rahul Kohli, Annarah Cymone, Annabeth Gish, Alex Essoe, Rahul Abburi, Matt Biedel, Michael Trucco, Crystal Balint, Louis Oliver', 'country': '', 'date_added': 'September 24, 2021', 'release_year': '2021', 'rating': 'TV-MA', 'duration': '1 Season', 'listed_in': 'TV Dramas, TV Horror, TV Mysteries', 'description': 'The arrival of a charismatic young priest brings glorious miracles, ominous mysteries and renewed religious fervor to a dying town desperate to believe.'}, {'show_id': 's7', 'type': 'Movie', 'title': 'My Little Pony: A New Generation', 'director': 'Robert Cullen, José Luis Ucha', 'cast': 'Vanessa Hudgens, Kimiko Glenn, James Marsden, Sofia Carson, Liza Koshy, Ken Jeong, Elizabeth Perkins, Jane Krakowski, Michael McKean, Phil LaMarr', 'country': '', 'date_added': 'September 24, 2021', 'release_year': '2021', 'rating': 'PG', 'duration': '91 min', 'listed_in': 'Children & Family Movies', 'description': \"Equestria's divided. But a bright-eyed hero believes Earth Ponies, Pegasi and Unicorns should be pals — and, hoof to heart, she’s determined to prove it.\"}, {'show_id': 's8', 'type': 'Movie', 'title': 'Sankofa', 'director': 'Haile Gerima', 'cast': 'Kofi Ghanaba, Oyafunmike Ogunlano, Alexandra Duah, Nick Medley, Mutabaruka, Afemo Omilami, Reggie Carter, Mzuri', 'country': 'United States, Ghana, Burkina Faso, United Kingdom, Germany, Ethiopia', 'date_added': 'September 24, 2021', 'release_year': '1993', 'rating': 'TV-MA', 'duration': '125 min', 'listed_in': 'Dramas, Independent Movies, International Movies', 'description': 'On a photo shoot in Ghana, an American model slips back in time, becomes enslaved on a plantation and bears witness to the agony of her ancestral past.'}, {'show_id': 's9', 'type': 'TV Show', 'title': 'The Great British Baking Show', 'director': 'Andy Devonshire', 'cast': 'Mel Giedroyc, Sue Perkins, Mary Berry, Paul Hollywood', 'country': 'United Kingdom', 'date_added': 'September 24, 2021', 'release_year': '2021', 'rating': 'TV-14', 'duration': '9 Seasons', 'listed_in': 'British TV Shows, Reality TV', 'description': \"A talented batch of amateur bakers face off in a 10-week competition, whipping up their best dishes in the hopes of being named the U.K.'s best.\"}, {'show_id': 's10', 'type': 'Movie', 'title': 'The Starling', 'director': 'Theodore Melfi', 'cast': \"Melissa McCarthy, Chris O'Dowd, Kevin Kline, Timothy Olyphant, Daveed Diggs, Skyler Gisondo, Laura Harrier, Rosalind Chao, Kimberly Quinn, Loretta Devine, Ravi Kapoor\", 'country': 'United States', 'date_added': 'September 24, 2021', 'release_year': '2021', 'rating': 'PG-13', 'duration': '104 min', 'listed_in': 'Comedies, Dramas', 'description': \"A woman adjusting to life after a loss contends with a feisty bird that's taken over her garden — and a husband who's struggling to find a way forward.\"}]\n"
     ]
    }
   ],
   "source": [
    "import csv\n",
    "\n",
    "def load_data(filename):\n",
    "    with open(filename, mode='r', newline='', encoding='utf-8') as file:\n",
    "        reader = csv.DictReader(file)\n",
    "        data = [row for row in reader]\n",
    "    return data\n",
    "\n",
    "netflix_data = load_data('C:/Users/markt/OneDrive/Documents/Birkbeck/MSc Data Science/Big Data Analytics/Lab-Exercises/Lab3/netflix_titles.csv')\n",
    "print(netflix_data[:10])  # Print first entry"
   ]
  },
  {
   "cell_type": "markdown",
   "id": "7a4fed5c",
   "metadata": {},
   "source": [
    "**Time Complexity**: `O(n·m)`\n",
    "\n",
    "- Opening file: `O(1)`\n",
    "- Reading file line by line: `O(n)`, where n is the number of rows (excluding the header)\n",
    "- Parsing each row into a dictionary: `O(n·m)`, where m is the number of columns (fields)\n",
    "  - Each field is mapped to a key, so constructing a dict is `O(m)`\n",
    "- List comprehension to store all rows: `O(n)`\n",
    "\n",
    "**Space Complexity**: `O(n·m)`\n",
    "\n",
    "* Data stores all n rows in memory\n",
    "* Each row is a dictionary with m key-value pairs\n"
   ]
  },
  {
   "cell_type": "markdown",
   "id": "627b3c0b",
   "metadata": {},
   "source": [
    "2. **Create a function called `my_head(alist,limit)` to return the `n` first records of the dataset in a new list.**\n"
   ]
  },
  {
   "cell_type": "code",
   "execution_count": 4,
   "id": "7ced119d",
   "metadata": {},
   "outputs": [
    {
     "name": "stdout",
     "output_type": "stream",
     "text": [
      "{'show_id': 's1', 'type': 'Movie', 'title': 'Dick Johnson Is Dead', 'director': 'Kirsten Johnson', 'cast': '', 'country': 'United States', 'date_added': 'September 25, 2021', 'release_year': '2020', 'rating': 'PG-13', 'duration': '90 min', 'listed_in': 'Documentaries', 'description': 'As her father nears the end of his life, filmmaker Kirsten Johnson stages his death in inventive and comical ways to help them both face the inevitable.'}\n",
      "{'show_id': 's2', 'type': 'TV Show', 'title': 'Blood & Water', 'director': '', 'cast': 'Ama Qamata, Khosi Ngema, Gail Mabalane, Thabang Molaba, Dillon Windvogel, Natasha Thahane, Arno Greeff, Xolile Tshabalala, Getmore Sithole, Cindy Mahlangu, Ryle De Morny, Greteli Fincham, Sello Maake Ka-Ncube, Odwa Gwanya, Mekaila Mathys, Sandi Schultz, Duane Williams, Shamilla Miller, Patrick Mofokeng', 'country': 'South Africa', 'date_added': 'September 24, 2021', 'release_year': '2021', 'rating': 'TV-MA', 'duration': '2 Seasons', 'listed_in': 'International TV Shows, TV Dramas, TV Mysteries', 'description': 'After crossing paths at a party, a Cape Town teen sets out to prove whether a private-school swimming star is her sister who was abducted at birth.'}\n",
      "{'show_id': 's3', 'type': 'TV Show', 'title': 'Ganglands', 'director': 'Julien Leclercq', 'cast': 'Sami Bouajila, Tracy Gotoas, Samuel Jouy, Nabiha Akkari, Sofia Lesaffre, Salim Kechiouche, Noureddine Farihi, Geert Van Rampelberg, Bakary Diombera', 'country': '', 'date_added': 'September 24, 2021', 'release_year': '2021', 'rating': 'TV-MA', 'duration': '1 Season', 'listed_in': 'Crime TV Shows, International TV Shows, TV Action & Adventure', 'description': 'To protect his family from a powerful drug lord, skilled thief Mehdi and his expert team of robbers are pulled into a violent and deadly turf war.'}\n",
      "{'show_id': 's4', 'type': 'TV Show', 'title': 'Jailbirds New Orleans', 'director': '', 'cast': '', 'country': '', 'date_added': 'September 24, 2021', 'release_year': '2021', 'rating': 'TV-MA', 'duration': '1 Season', 'listed_in': 'Docuseries, Reality TV', 'description': 'Feuds, flirtations and toilet talk go down among the incarcerated women at the Orleans Justice Center in New Orleans on this gritty reality series.'}\n",
      "{'show_id': 's5', 'type': 'TV Show', 'title': 'Kota Factory', 'director': '', 'cast': 'Mayur More, Jitendra Kumar, Ranjan Raj, Alam Khan, Ahsaas Channa, Revathi Pillai, Urvi Singh, Arun Kumar', 'country': 'India', 'date_added': 'September 24, 2021', 'release_year': '2021', 'rating': 'TV-MA', 'duration': '2 Seasons', 'listed_in': 'International TV Shows, Romantic TV Shows, TV Comedies', 'description': 'In a city of coaching centers known to train India’s finest collegiate minds, an earnest but unexceptional student and his friends navigate campus life.'}\n",
      "{'show_id': 's6', 'type': 'TV Show', 'title': 'Midnight Mass', 'director': 'Mike Flanagan', 'cast': 'Kate Siegel, Zach Gilford, Hamish Linklater, Henry Thomas, Kristin Lehman, Samantha Sloyan, Igby Rigney, Rahul Kohli, Annarah Cymone, Annabeth Gish, Alex Essoe, Rahul Abburi, Matt Biedel, Michael Trucco, Crystal Balint, Louis Oliver', 'country': '', 'date_added': 'September 24, 2021', 'release_year': '2021', 'rating': 'TV-MA', 'duration': '1 Season', 'listed_in': 'TV Dramas, TV Horror, TV Mysteries', 'description': 'The arrival of a charismatic young priest brings glorious miracles, ominous mysteries and renewed religious fervor to a dying town desperate to believe.'}\n",
      "{'show_id': 's7', 'type': 'Movie', 'title': 'My Little Pony: A New Generation', 'director': 'Robert Cullen, José Luis Ucha', 'cast': 'Vanessa Hudgens, Kimiko Glenn, James Marsden, Sofia Carson, Liza Koshy, Ken Jeong, Elizabeth Perkins, Jane Krakowski, Michael McKean, Phil LaMarr', 'country': '', 'date_added': 'September 24, 2021', 'release_year': '2021', 'rating': 'PG', 'duration': '91 min', 'listed_in': 'Children & Family Movies', 'description': \"Equestria's divided. But a bright-eyed hero believes Earth Ponies, Pegasi and Unicorns should be pals — and, hoof to heart, she’s determined to prove it.\"}\n",
      "{'show_id': 's8', 'type': 'Movie', 'title': 'Sankofa', 'director': 'Haile Gerima', 'cast': 'Kofi Ghanaba, Oyafunmike Ogunlano, Alexandra Duah, Nick Medley, Mutabaruka, Afemo Omilami, Reggie Carter, Mzuri', 'country': 'United States, Ghana, Burkina Faso, United Kingdom, Germany, Ethiopia', 'date_added': 'September 24, 2021', 'release_year': '1993', 'rating': 'TV-MA', 'duration': '125 min', 'listed_in': 'Dramas, Independent Movies, International Movies', 'description': 'On a photo shoot in Ghana, an American model slips back in time, becomes enslaved on a plantation and bears witness to the agony of her ancestral past.'}\n",
      "{'show_id': 's9', 'type': 'TV Show', 'title': 'The Great British Baking Show', 'director': 'Andy Devonshire', 'cast': 'Mel Giedroyc, Sue Perkins, Mary Berry, Paul Hollywood', 'country': 'United Kingdom', 'date_added': 'September 24, 2021', 'release_year': '2021', 'rating': 'TV-14', 'duration': '9 Seasons', 'listed_in': 'British TV Shows, Reality TV', 'description': \"A talented batch of amateur bakers face off in a 10-week competition, whipping up their best dishes in the hopes of being named the U.K.'s best.\"}\n",
      "{'show_id': 's10', 'type': 'Movie', 'title': 'The Starling', 'director': 'Theodore Melfi', 'cast': \"Melissa McCarthy, Chris O'Dowd, Kevin Kline, Timothy Olyphant, Daveed Diggs, Skyler Gisondo, Laura Harrier, Rosalind Chao, Kimberly Quinn, Loretta Devine, Ravi Kapoor\", 'country': 'United States', 'date_added': 'September 24, 2021', 'release_year': '2021', 'rating': 'PG-13', 'duration': '104 min', 'listed_in': 'Comedies, Dramas', 'description': \"A woman adjusting to life after a loss contends with a feisty bird that's taken over her garden — and a husband who's struggling to find a way forward.\"}\n"
     ]
    }
   ],
   "source": [
    "def my_head(alist,limit):\n",
    "    n = 0\n",
    "    for n in range(limit):\n",
    "        if n < len(alist):\n",
    "            yield alist[n]\n",
    "        else:\n",
    "            break\n",
    "\n",
    "for item in my_head(load_data('C:/Users/markt/OneDrive/Documents/Birkbeck/MSc Data Science/Big Data Analytics/Lab-Exercises/Lab3/netflix_titles.csv'),10):\n",
    "    print(item)"
   ]
  },
  {
   "cell_type": "markdown",
   "id": "5a51e5ed",
   "metadata": {},
   "source": [
    "**Why use `yield`?**\n",
    "\n",
    "- You get one item at a time (no list built in memory).\n",
    "- It’s more efficient when you only need a few items from a large list or stream.\n",
    "- Works well in pipelines or streaming scenarios.\n",
    "\n",
    "Time Complexity: O(k) where k = min(limit,len(alist))\n",
    "\n",
    "Space complexity: O(1) as just one item is in memory at each point in time\n"
   ]
  },
  {
   "cell_type": "markdown",
   "id": "9e7b5e8d",
   "metadata": {},
   "source": [
    "3. **Create a function called `my_head_col(alist,col,limit)`  to return the first records of a specific column from the dataset as a list.**"
   ]
  },
  {
   "cell_type": "code",
   "execution_count": 9,
   "id": "71aa1997",
   "metadata": {},
   "outputs": [
    {
     "name": "stdout",
     "output_type": "stream",
     "text": [
      "['Dick Johnson Is Dead', 'Blood & Water', 'Ganglands', 'Jailbirds New Orleans', 'Kota Factory', 'Midnight Mass', 'My Little Pony: A New Generation', 'Sankofa', 'The Great British Baking Show']\n"
     ]
    }
   ],
   "source": [
    "def my_head_col(alist,col,limit):\n",
    "    return_data = []\n",
    "    for n in range(limit-1):\n",
    "        if n < len(alist):\n",
    "            return_data.append(alist[n][col])\n",
    "        else:\n",
    "            break\n",
    "    return return_data\n",
    "\n",
    "print(my_head_col(data,\"title\",10))"
   ]
  },
  {
   "cell_type": "markdown",
   "id": "caf1bf76",
   "metadata": {},
   "source": [
    "Time complexity: O(n) - worst case is limit = len(alist)\n",
    "\n",
    "Space Complexity: O(k) - where k is the limit (worst case = O(n))"
   ]
  },
  {
   "cell_type": "markdown",
   "id": "61fdd150",
   "metadata": {},
   "source": [
    "4. **Filters `titles` added in the year `2021`.**\n",
    "\n",
    "**Develop a function for `shows_added_in_2021(data)` for `titles` from United States**\n",
    "\n",
    "* **Solution with `return`**"
   ]
  },
  {
   "cell_type": "code",
   "execution_count": 18,
   "id": "f77677bc",
   "metadata": {},
   "outputs": [
    {
     "name": "stdout",
     "output_type": "stream",
     "text": [
      "['Blood & Water', 'Ganglands', 'Jailbirds New Orleans', 'Kota Factory', 'Midnight Mass', 'My Little Pony: A New Generation', 'The Great British Baking Show', 'The Starling', 'Vendetta: Truth, Lies and The Mafia', 'Bangkok Breaking', 'Je Suis Karl', 'Confessions of an Invisible Girl', 'Crime Stories: India Detectives', 'Dear White People', 'Intrusion', 'Jaguar', 'Monsters Inside: The 24 Faces of Billy Milligan', 'Go! Go! Cory Carson: Chrissy Takes the Wheel', 'Love on the Spectrum', 'Ankahi Kahaniya', 'Chicago Party Aunt', 'Squid Game', 'The Father Who Moves Mountains', 'The Stronghold', 'Chhota Bheem', 'He-Man and the Masters of the Universe', 'My Heroes Were Cowboys', 'Castle and Castle', 'Nailed It', 'Nightbooks', 'Numberblocks', 'Schumacher', 'Too Hot To Handle: Latino', 'A StoryBots Space Adventure', 'Jack Whitehall: Travels with My Father', \"The World's Most Amazing Vacation Rentals\", 'You vs. Wild: Out Cold', 'Little Singham - Black Shadow', 'Tughlaq Durbar (Telugu)', 'Firedrake the Silver Dragon', 'Kate', 'Lucifer', 'Metal Shop Masters', 'Pokémon Master Journeys: The Series', 'Prey', 'Blood Brothers: Malcolm X & Muhammad Ali', 'The Women and the Murderer', 'Into the Night', 'JJ+E', 'The Circle', 'Kid Cosmic', 'Octonauts: Above & Beyond', 'On the Verge', 'Untold: Breaking Point', 'Countdown: Inspiration4 Mission to Space', \"Bunk'd\", 'Dive Club', 'La casa de papel', 'Money Heist: From Tokyo to Berlin', 'Sharkdog', 'Worth', 'Afterlife of the Party', 'Final Account', 'Heroes of Goo Jit Zu', 'Q-Force', 'Barbie Big City Big Dreams', 'Brave Animated Series', 'How to Be a Cowboy', 'Turning Point: 9/11 and the War on Terror', 'Sparking Joy', 'Untold: Crime & Penalties', 'Hometown Cha-Cha-Cha', 'The Ingenuity of the Househusband', 'Thimmarusu', 'D.P.', \"He's All That\", 'I Heart Arlo', 'King of Boys: The Return of the King', 'RIDE ON TIME', 'SAS: Rise of the Black Swan', 'Titletown High', 'EDENS ZERO', 'Family Reunion', 'Bob Ross: Happy Accidents, Betrayal & Greed', 'Clickbait', 'John of God: The Crimes of a Spiritual Healer', 'Motel Makeover', 'Open Your Eyes', 'Post Mortem: No One Dies in Skarnes', 'The River Runner', 'The Water Man', 'Count Me In', 'Oggy Oggy', 'Untold: Caitlyn Jenner', 'Boomika', 'Boomika (Hindi)', 'Boomika (Malayalam)', 'Boomika (Telugu)', 'The Witcher: Nightmare of the Wolf', 'Manifest', 'Comedy Premium League', 'Everything Will Be Fine', 'Korean Cold Noodle Rhapsody', 'Man in Love', 'Sweet Girl', 'The Chair', 'The Loud House Movie', 'Black Island', 'Go! Go! Cory Carson', 'Memories of a Murderer: The Nilsen Tapes', 'The Secret Diary of an Exchange Student', 'Untold: Deal With the Devil', 'Beckett', 'Brand New Cherry Flavor', 'Fast & Furious Spy Racers', 'Gone for Good', 'Grace and Frankie', 'The Kingdom', 'Valeria', 'AlRawabi School for Girls', \"Lokillo: Nothing's the Same\", 'Monster Hunter: Legends of the Guild', 'Bake Squad', 'Misha and the Wolves', 'The Kissing Booth 3', \"Gabby's Dollhouse\", 'I Need Romance', 'Untold: Malice at the Palace', 'SHAMAN KING', 'Slay', 'The Paper Tigers', 'Hit & Run', 'Navarasa', 'The Swarm', 'Vivo', 'Lady Boss: The Jackie Collins Story', 'Aftermath', 'Car Masters: Rust to Riches', 'Cocaine Cowboys: The Kings of Miami', 'Control Z', 'Cooking With Paris', 'Pray Away', 'Shiny_Flakes: The Teenage Drug Lord', 'Top Secret UFO Projects: Declassified', \"I missed you: Director's Cut\", 'Charmed', 'The Vault', 'Centaurworld', 'Glow Up', 'Myth & Mogul: John DeLorean', 'Outer Banks', 'Rurouni Kenshin: The Beginning', 'The Last Mercenary', 'Resort to Love', 'Transformers: War for Cybertron: Kingdom', 'Bartkowiak', 'Tattoo Redo', 'The Flash', 'The Snitch Cartel: Origins', 'All American', 'Hostage House', 'How to Sell Drugs Online (Fast)', 'Mighty Express', 'Mimi', 'Plastic Cup Boyz: Laughing My Mask Off!', 'A Second Chance:  Rivals!', 'African America', 'Bankrolled', 'Blood Red Sky', 'Feels Like Ishq', 'Kingdom: Ashin of the North', 'Masters of the Universe: Revelation', 'Revelations: The Masters of the Universe: Revelation Aftershow', 'Sky Rojo', 'The Last Letter From Your Lover', 'The Movies That Made Us', '9to5: The Story of a Movement', 'Cousins', 'Words Bubble Up Like Soda Pop', 'Sexy Beasts', 'Too Hot to Handle: Brazil', 'Trollhunters: Rise of the Titans', 'The Tambour of Retribution', 'Cosmic Sin', 'Deep', 'Explained', 'Fear Street Part 3: 1666', 'Johnny Test', 'Naomi Osaka', 'A Perfect Fit', 'BEASTARS', 'Emicida: AmarElo - Live in São Paulo', 'Lift Like a Girl', 'My Amanda', 'Never Have I Ever', 'A Classic Horror Story', 'Gunpowder Milkshake', 'Heist', 'My Unorthodox Life', 'Private Network: Who Killed Manuel Buendía?', 'The Guide to the Perfect Family', 'Bridgerton - The Afterparty', 'Day of Destiny', 'Ridley Jones', 'Atypical', 'Biohackers', 'Fear Street Part 2: 1978', 'How I Became a Superhero', 'How to Become a Tyrant', 'Last Summer', 'Lee Su-geun: The Sense Coach', 'Lethal Love', 'The Cook of Castamar', 'Virgin River', 'Elize Matsunaga: Once Upon a Crime', 'RESIDENT EVIL: Infinite Darkness', 'Cat People', 'Dogs', 'Major Grom: Plague Doctor', 'The Mire', 'The War Next-door', 'This Little Love Of Mine', 'Girl from Nowhere', 'I Think You Should Leave with Tim Robinson', \"Kim's Convenience\", 'Shtisel', 'The A List', \"Workin' Moms\", 'You Are My Spring', 'We the People', 'Fear Street Part 1: 1994', 'Haseen Dillruba', 'The 8th Night', 'Audible', 'Dynasty Warriors', 'Generation 56k', 'Masameer County', 'Mobile Suit Gundam Hathaway', 'Young Royals', 'America: The Motion Picture', 'Mommy Issues', 'Prime Time', 'Somos.', 'Sophie: A Murder in West Cork', 'StarBeam', 'The Seven Deadly Sins', 'The Ice Road', 'Ray', 'Sex/Life', 'Godzilla Singular Point', 'Jiva!', 'Sisters on Track', 'The Naked Director', 'The Seventh Day', 'Good on Paper', 'Murder by the Coast', 'The House of Flowers: The Movie', 'The Parisian Agency: Exclusive Properties', 'Too Hot to Handle', 'This Is Pop', 'Nevertheless,', 'Black Lightning', 'Why Are You Like This', 'A Family', 'Elite', 'Fatherhood', 'Hospital Playlist', 'Jagame Thandhiram', 'Rurouni Kenshin: The Final', 'So Not Worth It', 'The Rational Life', 'Ali & Ratu Ratu Queens', 'Black Summer', 'Elite Short Stories: Carla Samuel', 'Katla', 'Record of Ragnarok', 'The Gift', 'Elite Short Stories: Omar Ander Alexis', \"Let's Eat\", 'Penguin Town', 'Security', 'Beyond Evil', 'Elite Short Stories: Nadia Guzmán', 'Headspace: Unwind Your Mind', 'Power Rangers Dino Fury', 'Rhyme Time Town', 'The Reason I Jump', 'Elite Short Stories: Guzmán Caye Rebe', 'The Devil Below', 'Bling Empire - The Afterparty', 'Cobra Kai - The Afterparty', 'Love (ft. Marriage and Divorce)', 'To All the Boys: Always and Forever - The Afterparty', 'Lupin', 'Sarbath', 'Skater Girl', 'Trese', 'Trese After Dark', 'Wish Dragon', 'Camellia Sisters', 'Locombianos', 'Awake', 'Fresh, Fried & Crispy', 'L.A.’s Finest', 'Tragic Jungle', 'Kitty Love: An Homage to Cats', 'Breaking Boundaries: The Science Of Our Planet', 'Feel Good', 'Human: The World Within', 'Sweet & Sour', 'Sweet Tooth', \"Trippin' with the Kandasamys\", 'Xtreme', 'Alan Saldaña: Locked Up', \"Creator's File: GOLD\", 'Dancing Queens', 'Myriam Fares: The Journey', 'Pretty Guardian Sailor Moon Eternal The Movie', 'Summertime', 'Black Holes | The Edge of All We Know', 'Carnaval', 'Cocomelon', 'Racket Boys', 'Super Monsters: Once Upon a Rhyme', 'The Platform', 'Bo Burnham: Inside', 'One Lagos Night', 'Dog Gone Trouble', 'The Kominsky Method', 'The Least Expected Day: Inside the Movistar Team 2019', 'Word of Honor', 'Black Space', 'Blue Miracle', 'Eden', 'Ghost Lab', 'Ragnarok', 'Soy Rada: Serendipity', 'Baggio: The Divine Ponytail', 'Gatao - The Last Stray', 'High on the Hog: How African American Cuisine Transformed America', 'Nail Bomber: Manhunt', 'Mad for Each Other', 'Master of None', '99 Songs', '99 Songs (Tamil)', '99 Songs (Telugu)', 'Army of the Dead', 'Creating an Army of the Dead', 'Jurassic World Camp Cretaceous', 'The Neighbor', 'Little Singham Future mein Satakli', 'Special', 'Who Killed Sara?', 'Amy Tan: Unintended Memoir', 'Sardar Ka Grandson', 'Ahaan', 'Booba: Food Puzzle', 'Alma Matters', 'Cinema Bandi', 'Ferry', 'Halston', 'Haunted', 'I Am All Girls', 'Jungle Beat: The Movie', 'Love, Death & Robots', 'Move to Heaven', 'The Upshaws - The Afterparty', 'The Woman in the Window', 'Castlevania', 'Dance of the Forty One', 'Oxygen', 'The Upshaws', 'Use For My Talent', 'Money, Explained', 'Mine', 'Nayattu', 'Super Me', \"Jupiter's Legacy\", 'Milestone', 'Monster', 'The Circle - The Afterparty', 'Lava Ka Dhaava', 'The Sons of Sam: A Descent into Darkness', 'Trash Truck', 'Pet Stars', 'The Disciple', 'The Innocent', 'The Mitchells vs. The Machines', 'The Unremarkable Juanquini', 'Things Heard & Seen', 'Yasuke', 'Get the Grift', 'Headspace Guide to Sleep', 'Sexify', 'Fatma', 'Shadow and Bone - The Afterparty', 'Heroes: Silence and Rock & Roll', \"Let's Fight Ghost\", 'Shadow and Bone', 'HOMUNCULUS', 'Life in Color with David Attenborough', 'Searching For Sheela', 'Stowaway', 'Tell Me When', 'Zero', \"Izzy's Koala World\", 'Luis Miguel - The Series', 'Ajeeb Daastaans', 'Arlo the Alligator Boy', 'Bakugan: Geogan Rising', 'Barbie & Chelsea: The Lost Birthday', 'Dad Stop Embarrassing Me - The Afterparty', 'Love Naggers', 'Tuesdays & Fridays', 'High-Rise Invasion', 'Ride or Die', 'Dad Stop Embarrassing Me!', 'Fate: The Winx Saga', 'Law School', 'The Soul', 'Why Did You Kill Me?', 'My Love: Six Stories of True Love', 'New Gods: Nezha Reborn', \"Don't be the First one\", 'Night in Paradise', 'Roohi', 'Thunder Force', 'Two Distant Strangers', 'The Way of the Househusband', 'Dolly Parton: A MusiCares Tribute', 'The Big Day', 'The Wedding Coach', \"This Is a Robbery: The World's Biggest Art Heist\", 'The Last Kids on Earth: Happy Apocalypse to You', 'Mandela', 'Concrete Cowboy', 'Irul', 'Just Say Yes', 'Madame Claude', 'Magical Andes', 'Prank Encounters', 'Tersanjung the Movie', 'Worn Stories', 'Haunted: Latin America', '7 Yards: The Chris Norton Story', 'Octonauts & the Ring of Fire', 'Marked', 'A Week Away', 'Bad Trip', 'Magic for Humans Spain', 'Pagglait', 'The Irregulars', 'Caught by a Wave', \"DOTA: Dragon's Blood\", 'Pui Pui Molcar', 'Secret Magic Control Agency', 'Seaspiracy', 'Loyiso Gola: Unlearning', 'Men on a Mission', 'Navillera', 'Alien TV', 'Country Comfort', 'Formula 1: Drive to Survive', 'The Yin Yang Master', 'B: The Beginning', 'Deadly Illusions', 'Get the Goat', 'Nate Bargatze: The Greatest Average American', 'Operation Varsity Blues:\\xa0The\\xa0College\\xa0Admissions\\xa0Scandal', 'Under Suspicion: Uncovering the Wesphael Case', 'RebellComedy: Straight Outta the Zoo', 'Waffles + Mochi', 'Abla Fahita: Drama Queen', 'C/O Kaadhal', 'The Lost Pirate Kingdom', 'Zero Chill', 'Love Alarm', 'Paper Lives', 'Paradise PD', 'The One', 'YES DAY', 'Coven of Sisters', 'Dealer', 'Last Chance U: Basketball', 'Marriage or Mortgage', 'The Houseboat', 'Bombay Begums', 'Bombay Rose', 'Aelay', 'City of Ghosts', 'Dogwashers', 'Nevenka: Breaking the Silence', 'Pokémon Journeys: The Series', 'Sentinelle', 'Pacific Rim: The Black', 'Moxie', 'Murder Among the Mormons', 'Word Party', 'Biggie: I Got a Story to Tell', 'Blanche Gardin: The All-Nighter', 'Connected', 'Bigfoot Family', 'Crazy About Her', 'Ginny & Georgia - The Afterparty', 'The Girl on the Train', 'Geez & Ann', 'Age of Samurai: Battle for Japan', 'Canine Intervention', 'Ginny & Georgia', 'Two Sentence Horror Stories', 'Brian Regan: On the Rocks', 'Pelé', 'Red', 'Vincenzo', 'Fate: The Winx Saga - The Afterparty', 'I Care a Lot', 'Pitta Kathalu', 'Tribes of Europa', 'Hello, Me!', 'Sisyphus', 'Thus Spoke Kishibe Rohan', 'Amend: The Fight for America', 'Behind Her Eyes', 'MeatEater', 'Animals on the Loose: A You vs. Wild Movie', 'Booba', 'The Crew', 'Namaste Wahala', 'Buried by the Bernards', 'Hate by Dani Rovira', 'Nadiya Bakes', 'To All The Boys: Always And Forever', \"Xico's Journey\", 'Red Dot', 'Squared Love', 'Crime Scene: The Vanishing at the Cecil Hotel', 'The Misadventures of Hedi and Cokeman', 'Hache', 'Invisible City', 'Malcolm & Marie', 'Space Sweepers', 'Strip Down, Rise Up', 'The Yin-Yang Master: Dream Of Eternity', 'Firefly Lane', 'Tiffany Haddish Presents: They Ready', 'Below Zero', 'Finding ‘Ohana', 'The Dig', 'We Are: The Brooklyn Saints', 'June & Kopi', '50M2', 'Accomplice', 'BONDING', 'Penguin Bloom', 'Go Dog Go', 'Blown Away', 'Busted!', 'The White Tiger', 'Daughter From Another Mother', 'Spycraft', 'Hello Ninja', 'Bling Empire', 'Carmen Sandiego', 'Disenchantment', 'Outside the Wire', 'Tribhanga - Tedhi Medhi Crazy', 'What Would Sophia Loren Do?', 'Wish You', 'Night Stalker: The Hunt for a Serial Killer', 'Chris Rock Total Blackout: The Tamborine Extended Cut', 'Crack: Cocaine, Corruption & Conspiracy', 'Charming', \"Creating The Queen's Gambit\", 'Inside the World’s Toughest Prisons', 'Mighty Little Bheem: Kite Festival', 'Pretend It’s a City', 'Stuck Apart', 'The Idhun Chronicles', 'Ratones Paranoicos: The Band that Rocked Argentina', 'Surviving Death', 'History of Swear Words', 'Nailed It! Mexico', 'Cobra Kai', 'Dream Home Makeover', 'Headspace Guide to Meditation', 'Monarca', 'The Minimalists: Less Is Now', 'What Happened to Mr. Cha?', 'Hilda', 'Polly Pocket', 'Love Is Blind', 'The Netflix Afterparty']\n"
     ]
    }
   ],
   "source": [
    "def shows_added_in_year(data,col,year):\n",
    "    return_list = []\n",
    "    for line in data:\n",
    "        if line[\"release_year\"] == str(year):\n",
    "            return_list.append(line[col])\n",
    "    return return_list\n",
    "\n",
    "print(shows_added_in_year(data,\"title\",2021))"
   ]
  },
  {
   "cell_type": "markdown",
   "id": "90034970",
   "metadata": {},
   "source": [
    "Time complexity:  O(n)\n",
    "\n",
    "Space complexity: O(k) - where k is the number of titles from US added in 2021\n",
    "\n",
    "* **Solution with `yield`**"
   ]
  },
  {
   "cell_type": "code",
   "execution_count": 19,
   "id": "f7db355f",
   "metadata": {},
   "outputs": [
    {
     "name": "stdout",
     "output_type": "stream",
     "text": [
      "['Blood & Water', 'Ganglands', 'Jailbirds New Orleans', 'Kota Factory', 'Midnight Mass', 'My Little Pony: A New Generation', 'The Great British Baking Show', 'The Starling', 'Vendetta: Truth, Lies and The Mafia', 'Bangkok Breaking', 'Je Suis Karl', 'Confessions of an Invisible Girl', 'Crime Stories: India Detectives', 'Dear White People', 'Intrusion', 'Jaguar', 'Monsters Inside: The 24 Faces of Billy Milligan', 'Go! Go! Cory Carson: Chrissy Takes the Wheel', 'Love on the Spectrum', 'Ankahi Kahaniya', 'Chicago Party Aunt', 'Squid Game', 'The Father Who Moves Mountains', 'The Stronghold', 'Chhota Bheem', 'He-Man and the Masters of the Universe', 'My Heroes Were Cowboys', 'Castle and Castle', 'Nailed It', 'Nightbooks', 'Numberblocks', 'Schumacher', 'Too Hot To Handle: Latino', 'A StoryBots Space Adventure', 'Jack Whitehall: Travels with My Father', \"The World's Most Amazing Vacation Rentals\", 'You vs. Wild: Out Cold', 'Little Singham - Black Shadow', 'Tughlaq Durbar (Telugu)', 'Firedrake the Silver Dragon', 'Kate', 'Lucifer', 'Metal Shop Masters', 'Pokémon Master Journeys: The Series', 'Prey', 'Blood Brothers: Malcolm X & Muhammad Ali', 'The Women and the Murderer', 'Into the Night', 'JJ+E', 'The Circle', 'Kid Cosmic', 'Octonauts: Above & Beyond', 'On the Verge', 'Untold: Breaking Point', 'Countdown: Inspiration4 Mission to Space', \"Bunk'd\", 'Dive Club', 'La casa de papel', 'Money Heist: From Tokyo to Berlin', 'Sharkdog', 'Worth', 'Afterlife of the Party', 'Final Account', 'Heroes of Goo Jit Zu', 'Q-Force', 'Barbie Big City Big Dreams', 'Brave Animated Series', 'How to Be a Cowboy', 'Turning Point: 9/11 and the War on Terror', 'Sparking Joy', 'Untold: Crime & Penalties', 'Hometown Cha-Cha-Cha', 'The Ingenuity of the Househusband', 'Thimmarusu', 'D.P.', \"He's All That\", 'I Heart Arlo', 'King of Boys: The Return of the King', 'RIDE ON TIME', 'SAS: Rise of the Black Swan', 'Titletown High', 'EDENS ZERO', 'Family Reunion', 'Bob Ross: Happy Accidents, Betrayal & Greed', 'Clickbait', 'John of God: The Crimes of a Spiritual Healer', 'Motel Makeover', 'Open Your Eyes', 'Post Mortem: No One Dies in Skarnes', 'The River Runner', 'The Water Man', 'Count Me In', 'Oggy Oggy', 'Untold: Caitlyn Jenner', 'Boomika', 'Boomika (Hindi)', 'Boomika (Malayalam)', 'Boomika (Telugu)', 'The Witcher: Nightmare of the Wolf', 'Manifest', 'Comedy Premium League', 'Everything Will Be Fine', 'Korean Cold Noodle Rhapsody', 'Man in Love', 'Sweet Girl', 'The Chair', 'The Loud House Movie', 'Black Island', 'Go! Go! Cory Carson', 'Memories of a Murderer: The Nilsen Tapes', 'The Secret Diary of an Exchange Student', 'Untold: Deal With the Devil', 'Beckett', 'Brand New Cherry Flavor', 'Fast & Furious Spy Racers', 'Gone for Good', 'Grace and Frankie', 'The Kingdom', 'Valeria', 'AlRawabi School for Girls', \"Lokillo: Nothing's the Same\", 'Monster Hunter: Legends of the Guild', 'Bake Squad', 'Misha and the Wolves', 'The Kissing Booth 3', \"Gabby's Dollhouse\", 'I Need Romance', 'Untold: Malice at the Palace', 'SHAMAN KING', 'Slay', 'The Paper Tigers', 'Hit & Run', 'Navarasa', 'The Swarm', 'Vivo', 'Lady Boss: The Jackie Collins Story', 'Aftermath', 'Car Masters: Rust to Riches', 'Cocaine Cowboys: The Kings of Miami', 'Control Z', 'Cooking With Paris', 'Pray Away', 'Shiny_Flakes: The Teenage Drug Lord', 'Top Secret UFO Projects: Declassified', \"I missed you: Director's Cut\", 'Charmed', 'The Vault', 'Centaurworld', 'Glow Up', 'Myth & Mogul: John DeLorean', 'Outer Banks', 'Rurouni Kenshin: The Beginning', 'The Last Mercenary', 'Resort to Love', 'Transformers: War for Cybertron: Kingdom', 'Bartkowiak', 'Tattoo Redo', 'The Flash', 'The Snitch Cartel: Origins', 'All American', 'Hostage House', 'How to Sell Drugs Online (Fast)', 'Mighty Express', 'Mimi', 'Plastic Cup Boyz: Laughing My Mask Off!', 'A Second Chance:  Rivals!', 'African America', 'Bankrolled', 'Blood Red Sky', 'Feels Like Ishq', 'Kingdom: Ashin of the North', 'Masters of the Universe: Revelation', 'Revelations: The Masters of the Universe: Revelation Aftershow', 'Sky Rojo', 'The Last Letter From Your Lover', 'The Movies That Made Us', '9to5: The Story of a Movement', 'Cousins', 'Words Bubble Up Like Soda Pop', 'Sexy Beasts', 'Too Hot to Handle: Brazil', 'Trollhunters: Rise of the Titans', 'The Tambour of Retribution', 'Cosmic Sin', 'Deep', 'Explained', 'Fear Street Part 3: 1666', 'Johnny Test', 'Naomi Osaka', 'A Perfect Fit', 'BEASTARS', 'Emicida: AmarElo - Live in São Paulo', 'Lift Like a Girl', 'My Amanda', 'Never Have I Ever', 'A Classic Horror Story', 'Gunpowder Milkshake', 'Heist', 'My Unorthodox Life', 'Private Network: Who Killed Manuel Buendía?', 'The Guide to the Perfect Family', 'Bridgerton - The Afterparty', 'Day of Destiny', 'Ridley Jones', 'Atypical', 'Biohackers', 'Fear Street Part 2: 1978', 'How I Became a Superhero', 'How to Become a Tyrant', 'Last Summer', 'Lee Su-geun: The Sense Coach', 'Lethal Love', 'The Cook of Castamar', 'Virgin River', 'Elize Matsunaga: Once Upon a Crime', 'RESIDENT EVIL: Infinite Darkness', 'Cat People', 'Dogs', 'Major Grom: Plague Doctor', 'The Mire', 'The War Next-door', 'This Little Love Of Mine', 'Girl from Nowhere', 'I Think You Should Leave with Tim Robinson', \"Kim's Convenience\", 'Shtisel', 'The A List', \"Workin' Moms\", 'You Are My Spring', 'We the People', 'Fear Street Part 1: 1994', 'Haseen Dillruba', 'The 8th Night', 'Audible', 'Dynasty Warriors', 'Generation 56k', 'Masameer County', 'Mobile Suit Gundam Hathaway', 'Young Royals', 'America: The Motion Picture', 'Mommy Issues', 'Prime Time', 'Somos.', 'Sophie: A Murder in West Cork', 'StarBeam', 'The Seven Deadly Sins', 'The Ice Road', 'Ray', 'Sex/Life', 'Godzilla Singular Point', 'Jiva!', 'Sisters on Track', 'The Naked Director', 'The Seventh Day', 'Good on Paper', 'Murder by the Coast', 'The House of Flowers: The Movie', 'The Parisian Agency: Exclusive Properties', 'Too Hot to Handle', 'This Is Pop', 'Nevertheless,', 'Black Lightning', 'Why Are You Like This', 'A Family', 'Elite', 'Fatherhood', 'Hospital Playlist', 'Jagame Thandhiram', 'Rurouni Kenshin: The Final', 'So Not Worth It', 'The Rational Life', 'Ali & Ratu Ratu Queens', 'Black Summer', 'Elite Short Stories: Carla Samuel', 'Katla', 'Record of Ragnarok', 'The Gift', 'Elite Short Stories: Omar Ander Alexis', \"Let's Eat\", 'Penguin Town', 'Security', 'Beyond Evil', 'Elite Short Stories: Nadia Guzmán', 'Headspace: Unwind Your Mind', 'Power Rangers Dino Fury', 'Rhyme Time Town', 'The Reason I Jump', 'Elite Short Stories: Guzmán Caye Rebe', 'The Devil Below', 'Bling Empire - The Afterparty', 'Cobra Kai - The Afterparty', 'Love (ft. Marriage and Divorce)', 'To All the Boys: Always and Forever - The Afterparty', 'Lupin', 'Sarbath', 'Skater Girl', 'Trese', 'Trese After Dark', 'Wish Dragon', 'Camellia Sisters', 'Locombianos', 'Awake', 'Fresh, Fried & Crispy', 'L.A.’s Finest', 'Tragic Jungle', 'Kitty Love: An Homage to Cats', 'Breaking Boundaries: The Science Of Our Planet', 'Feel Good', 'Human: The World Within', 'Sweet & Sour', 'Sweet Tooth', \"Trippin' with the Kandasamys\", 'Xtreme', 'Alan Saldaña: Locked Up', \"Creator's File: GOLD\", 'Dancing Queens', 'Myriam Fares: The Journey', 'Pretty Guardian Sailor Moon Eternal The Movie', 'Summertime', 'Black Holes | The Edge of All We Know', 'Carnaval', 'Cocomelon', 'Racket Boys', 'Super Monsters: Once Upon a Rhyme', 'The Platform', 'Bo Burnham: Inside', 'One Lagos Night', 'Dog Gone Trouble', 'The Kominsky Method', 'The Least Expected Day: Inside the Movistar Team 2019', 'Word of Honor', 'Black Space', 'Blue Miracle', 'Eden', 'Ghost Lab', 'Ragnarok', 'Soy Rada: Serendipity', 'Baggio: The Divine Ponytail', 'Gatao - The Last Stray', 'High on the Hog: How African American Cuisine Transformed America', 'Nail Bomber: Manhunt', 'Mad for Each Other', 'Master of None', '99 Songs', '99 Songs (Tamil)', '99 Songs (Telugu)', 'Army of the Dead', 'Creating an Army of the Dead', 'Jurassic World Camp Cretaceous', 'The Neighbor', 'Little Singham Future mein Satakli', 'Special', 'Who Killed Sara?', 'Amy Tan: Unintended Memoir', 'Sardar Ka Grandson', 'Ahaan', 'Booba: Food Puzzle', 'Alma Matters', 'Cinema Bandi', 'Ferry', 'Halston', 'Haunted', 'I Am All Girls', 'Jungle Beat: The Movie', 'Love, Death & Robots', 'Move to Heaven', 'The Upshaws - The Afterparty', 'The Woman in the Window', 'Castlevania', 'Dance of the Forty One', 'Oxygen', 'The Upshaws', 'Use For My Talent', 'Money, Explained', 'Mine', 'Nayattu', 'Super Me', \"Jupiter's Legacy\", 'Milestone', 'Monster', 'The Circle - The Afterparty', 'Lava Ka Dhaava', 'The Sons of Sam: A Descent into Darkness', 'Trash Truck', 'Pet Stars', 'The Disciple', 'The Innocent', 'The Mitchells vs. The Machines', 'The Unremarkable Juanquini', 'Things Heard & Seen', 'Yasuke', 'Get the Grift', 'Headspace Guide to Sleep', 'Sexify', 'Fatma', 'Shadow and Bone - The Afterparty', 'Heroes: Silence and Rock & Roll', \"Let's Fight Ghost\", 'Shadow and Bone', 'HOMUNCULUS', 'Life in Color with David Attenborough', 'Searching For Sheela', 'Stowaway', 'Tell Me When', 'Zero', \"Izzy's Koala World\", 'Luis Miguel - The Series', 'Ajeeb Daastaans', 'Arlo the Alligator Boy', 'Bakugan: Geogan Rising', 'Barbie & Chelsea: The Lost Birthday', 'Dad Stop Embarrassing Me - The Afterparty', 'Love Naggers', 'Tuesdays & Fridays', 'High-Rise Invasion', 'Ride or Die', 'Dad Stop Embarrassing Me!', 'Fate: The Winx Saga', 'Law School', 'The Soul', 'Why Did You Kill Me?', 'My Love: Six Stories of True Love', 'New Gods: Nezha Reborn', \"Don't be the First one\", 'Night in Paradise', 'Roohi', 'Thunder Force', 'Two Distant Strangers', 'The Way of the Househusband', 'Dolly Parton: A MusiCares Tribute', 'The Big Day', 'The Wedding Coach', \"This Is a Robbery: The World's Biggest Art Heist\", 'The Last Kids on Earth: Happy Apocalypse to You', 'Mandela', 'Concrete Cowboy', 'Irul', 'Just Say Yes', 'Madame Claude', 'Magical Andes', 'Prank Encounters', 'Tersanjung the Movie', 'Worn Stories', 'Haunted: Latin America', '7 Yards: The Chris Norton Story', 'Octonauts & the Ring of Fire', 'Marked', 'A Week Away', 'Bad Trip', 'Magic for Humans Spain', 'Pagglait', 'The Irregulars', 'Caught by a Wave', \"DOTA: Dragon's Blood\", 'Pui Pui Molcar', 'Secret Magic Control Agency', 'Seaspiracy', 'Loyiso Gola: Unlearning', 'Men on a Mission', 'Navillera', 'Alien TV', 'Country Comfort', 'Formula 1: Drive to Survive', 'The Yin Yang Master', 'B: The Beginning', 'Deadly Illusions', 'Get the Goat', 'Nate Bargatze: The Greatest Average American', 'Operation Varsity Blues:\\xa0The\\xa0College\\xa0Admissions\\xa0Scandal', 'Under Suspicion: Uncovering the Wesphael Case', 'RebellComedy: Straight Outta the Zoo', 'Waffles + Mochi', 'Abla Fahita: Drama Queen', 'C/O Kaadhal', 'The Lost Pirate Kingdom', 'Zero Chill', 'Love Alarm', 'Paper Lives', 'Paradise PD', 'The One', 'YES DAY', 'Coven of Sisters', 'Dealer', 'Last Chance U: Basketball', 'Marriage or Mortgage', 'The Houseboat', 'Bombay Begums', 'Bombay Rose', 'Aelay', 'City of Ghosts', 'Dogwashers', 'Nevenka: Breaking the Silence', 'Pokémon Journeys: The Series', 'Sentinelle', 'Pacific Rim: The Black', 'Moxie', 'Murder Among the Mormons', 'Word Party', 'Biggie: I Got a Story to Tell', 'Blanche Gardin: The All-Nighter', 'Connected', 'Bigfoot Family', 'Crazy About Her', 'Ginny & Georgia - The Afterparty', 'The Girl on the Train', 'Geez & Ann', 'Age of Samurai: Battle for Japan', 'Canine Intervention', 'Ginny & Georgia', 'Two Sentence Horror Stories', 'Brian Regan: On the Rocks', 'Pelé', 'Red', 'Vincenzo', 'Fate: The Winx Saga - The Afterparty', 'I Care a Lot', 'Pitta Kathalu', 'Tribes of Europa', 'Hello, Me!', 'Sisyphus', 'Thus Spoke Kishibe Rohan', 'Amend: The Fight for America', 'Behind Her Eyes', 'MeatEater', 'Animals on the Loose: A You vs. Wild Movie', 'Booba', 'The Crew', 'Namaste Wahala', 'Buried by the Bernards', 'Hate by Dani Rovira', 'Nadiya Bakes', 'To All The Boys: Always And Forever', \"Xico's Journey\", 'Red Dot', 'Squared Love', 'Crime Scene: The Vanishing at the Cecil Hotel', 'The Misadventures of Hedi and Cokeman', 'Hache', 'Invisible City', 'Malcolm & Marie', 'Space Sweepers', 'Strip Down, Rise Up', 'The Yin-Yang Master: Dream Of Eternity', 'Firefly Lane', 'Tiffany Haddish Presents: They Ready', 'Below Zero', 'Finding ‘Ohana', 'The Dig', 'We Are: The Brooklyn Saints', 'June & Kopi', '50M2', 'Accomplice', 'BONDING', 'Penguin Bloom', 'Go Dog Go', 'Blown Away', 'Busted!', 'The White Tiger', 'Daughter From Another Mother', 'Spycraft', 'Hello Ninja', 'Bling Empire', 'Carmen Sandiego', 'Disenchantment', 'Outside the Wire', 'Tribhanga - Tedhi Medhi Crazy', 'What Would Sophia Loren Do?', 'Wish You', 'Night Stalker: The Hunt for a Serial Killer', 'Chris Rock Total Blackout: The Tamborine Extended Cut', 'Crack: Cocaine, Corruption & Conspiracy', 'Charming', \"Creating The Queen's Gambit\", 'Inside the World’s Toughest Prisons', 'Mighty Little Bheem: Kite Festival', 'Pretend It’s a City', 'Stuck Apart', 'The Idhun Chronicles', 'Ratones Paranoicos: The Band that Rocked Argentina', 'Surviving Death', 'History of Swear Words', 'Nailed It! Mexico', 'Cobra Kai', 'Dream Home Makeover', 'Headspace Guide to Meditation', 'Monarca', 'The Minimalists: Less Is Now', 'What Happened to Mr. Cha?', 'Hilda', 'Polly Pocket', 'Love Is Blind', 'The Netflix Afterparty']\n"
     ]
    }
   ],
   "source": [
    "def yield_shows_added_in_year(data,col,year):\n",
    "    for line in data:\n",
    "        if line[\"release_year\"] == str(year):\n",
    "            yield line[col]\n",
    "\n",
    "print([line for line in yield_shows_added_in_year(data,\"title\",2021)])"
   ]
  },
  {
   "cell_type": "markdown",
   "id": "9e0b9d38",
   "metadata": {},
   "source": [
    "**Why use `yield`?**\n",
    "\n",
    "* Time complexity:  O(n) - need to run through all the lines\n",
    "\n",
    "* Space complexity: O(1) - only one item stored in memory\n"
   ]
  },
  {
   "cell_type": "markdown",
   "id": "0b19013b",
   "metadata": {},
   "source": [
    "6. **Develop a function for `shows_added_in_2021(data)` for `titles` from United States**\n",
    "\n",
    "Lists titles where country is `United States`.\n",
    "\n",
    "* **Solution with `return`**"
   ]
  },
  {
   "cell_type": "code",
   "execution_count": 22,
   "id": "87cbb73c",
   "metadata": {},
   "outputs": [
    {
     "name": "stdout",
     "output_type": "stream",
     "text": [
      "['Winx Club', '44 Cats', 'A Classic Horror Story', 'Security', 'Summertime', 'Baggio: The Divine Ponytail', 'Zero', 'Caught by a Wave', 'The Last Paradiso', 'SanPa: Sins of the Savior', 'Rose Island', 'The Beast', 'The Life Ahead', 'Suburra: Blood on Rome', 'The Binding', 'Baby', 'The Match', 'The Players', '#AnneFrank - Parallel Stories', 'Under the Riccione Sun', 'Curon', '18 Presents', 'The Trial', 'Ultras', 'Luna Nera', 'The App', 'Saverio Raimondo: Il Satiro Parlante', 'Francesco De Carlo: Cose di Questo Mondo', 'Edoardo Ferrario: Temi Caldi', '5 Star Christmas', 'On My Skin', 'Slam', 'Grillo vs Grillo', 'Welcome Mr. President', 'Bat Pat', 'Call Me Francis', 'Euphoria', 'La Coppia dei Campioni', 'Maggie & Bianca: Fashion Friends', 'My Honor Was Loyalty', 'Numero Zero. The Roots of Italian Rap', 'Roberto Saviano: Writing Under Police Protection', 'S Is for Stanley', 'The Music of Silence', 'The Sign of Venus']\n"
     ]
    }
   ],
   "source": [
    "def list_titles_from_country(data,country):\n",
    "    result_list = []\n",
    "    for item in data:\n",
    "        if item[\"country\"] == country:\n",
    "            result_list.append(item[\"title\"])\n",
    "    return result_list\n",
    "\n",
    "print(list_titles_from_country(data,\"Italy\"))\n"
   ]
  },
  {
   "cell_type": "markdown",
   "id": "43ead6b2",
   "metadata": {},
   "source": [
    "Complexities are the same as 5 `return`.\n",
    "\n",
    "* **Solution with `yield`**"
   ]
  },
  {
   "cell_type": "code",
   "execution_count": 26,
   "id": "7cdf6ac9",
   "metadata": {},
   "outputs": [
    {
     "name": "stdout",
     "output_type": "stream",
     "text": [
      "['Winx Club', '44 Cats', 'A Classic Horror Story', 'Security', 'Summertime', 'Baggio: The Divine Ponytail', 'Zero', 'Caught by a Wave', 'The Last Paradiso', 'SanPa: Sins of the Savior', 'Rose Island', 'The Beast', 'The Life Ahead', 'Suburra: Blood on Rome', 'The Binding', 'Baby', 'The Match', 'The Players', '#AnneFrank - Parallel Stories', 'Under the Riccione Sun', 'Curon', '18 Presents', 'The Trial', 'Ultras', 'Luna Nera', 'The App', 'Saverio Raimondo: Il Satiro Parlante', 'Francesco De Carlo: Cose di Questo Mondo', 'Edoardo Ferrario: Temi Caldi', '5 Star Christmas', 'On My Skin', 'Slam', 'Grillo vs Grillo', 'Welcome Mr. President', 'Bat Pat', 'Call Me Francis', 'Euphoria', 'La Coppia dei Campioni', 'Maggie & Bianca: Fashion Friends', 'My Honor Was Loyalty', 'Numero Zero. The Roots of Italian Rap', 'Roberto Saviano: Writing Under Police Protection', 'S Is for Stanley', 'The Music of Silence', 'The Sign of Venus']\n"
     ]
    }
   ],
   "source": [
    "def yield_titles_from_country(data,country):\n",
    "    for item in data:\n",
    "        if item[\"country\"] == country:\n",
    "            yield item[\"title\"]\n",
    "\n",
    "print([line for line in yield_titles_from_country(data,\"Italy\")])"
   ]
  },
  {
   "cell_type": "markdown",
   "id": "559956ee",
   "metadata": {},
   "source": [
    "- Time complexity: O(n)\n",
    "\n",
    "- Space complexity: O(1) - only one item in memory at any time"
   ]
  },
  {
   "cell_type": "markdown",
   "id": "8e8ebf17",
   "metadata": {},
   "source": [
    "7. **Titles with `love` (any case).**\n",
    "\n",
    "Searches for titles containing the word `love` (case-insensitive).\n",
    "\n",
    "* **Solution with `return`**\n"
   ]
  },
  {
   "cell_type": "code",
   "execution_count": 28,
   "id": "8bbdd9d1",
   "metadata": {},
   "outputs": [
    {
     "name": "stdout",
     "output_type": "stream",
     "text": [
      "['Love on the Spectrum', \"Love Don't Cost a Thing\", 'Love in a Puff', 'LSD: Love, Sex Aur Dhokha', 'Really Love', 'Man in Love', 'Resort to Love', 'The Last Letter From Your Lover', 'Lethal Love', 'This Little Love Of Mine', 'Why Do Fools Fall in Love', 'Love Is a Story', 'Bangkok Love Stories: Innocence', 'Love (ft. Marriage and Divorce)', 'Kitty Love: An Homage to Cats', 'Love Jones', 'Sam Smith: Love Goes - Live at Abbey Road Studios', 'Love or Money', 'Love, Death & Robots', 'The Clovehitch Killer', 'The Lovely Bones', 'Love Naggers', 'My Love: Six Stories of True Love', \"Story of Kale: When Someone's in Love\", 'Elizabeth and Margaret: Love and Loyalty', 'Love Alarm', 'Love', 'Squared Love', 'Love Daily', 'Is Love Enough? Sir', 'A Love So Beautiful', 'Hello, Love, Goodbye', 'Lovestruck in the City', 'Ariana grande: excuse me, i love you', 'Eggnoid: Love & Time Portal', 'Love You to the Stars and Back', 'Must Be... Love', 'If Anything Happens I Love You', 'A Very Special Love', 'First Love', 'Love & Anarchy', 'Love Like the Falling Rain', 'Walk Away from Love', 'A Love Song for Latasha', 'So Much Love to Give', 'Love, Guaranteed', 'Almost Love', 'Was It Love?', 'All For Love', 'Revolutionary Love', 'The Lovebirds', 'My Sleeping Lover', 'Patton Oswalt: I Love Everything', 'I love you, stupid', 'Rich in Love', 'The Forest of Love: Deep Cut', 'A Secret Love', 'Love Is War', 'Love Aaj Kal', 'Love 101', 'World Famous Lover', 'Love Wedding Repeat', 'Well-Intended Love', 'All About Love', 'Calico Critters Mini Episodes Clover', 'When Love Happens', 'Love Is Blind', 'To All the Boys: P.S. I Still Love You', 'Love for Sale 2', 'My Holo Love', 'Faith, Hope & Love', 'Love Jacked', 'Ainori Love Wagon: African Journey', 'What the Love! with Karan Johar', 'Live Twice, Love Once', 'Pucca: Love Recipe', 'Crazy, Lovely, Cool', 'The Road to Love', 'The Lovers', 'Tune in for Love', 'Love, Chunibyo & Other Delusions!', 'A Little Thing Called First Love', 'Love, Surreal and Odd', 'Verses of Love 2', 'Black Money Love', 'The Forest of Love', 'Love for Sale', 'Brother in Love', 'The Liar and His Lover', 'Falling Inn Love', 'My First First Love', 'Unrequited Love', 'Bangkok Love Stories: Objects of Affection', 'Bangkok Love Stories: Plead', 'Love O2O', 'Ainori Love Wagon: Asian Journey', 'Verses of Love', 'A Love Story', 'Barcelona: A Love Untold', 'Bangkok Love Stories: Hey You!', 'The Love Affair', 'Everyday I Love You', \"Can't Help Falling in Love\", 'Love Off the Cuff', 'Just Love', 'Memory Love', 'Way Back into Love', 'Love @ Seventeen', 'Ashes of Love', 'Love and Fortune', 'Eternal Love', 'They’ll Love Me When I’m Dead', 'Accidentally in Love', 'Love and Shukla', 'To All the Boys I’ve Loved Before', 'Tere Naal Love Ho Gaya', 'Alex Strangelove', 'Love Beats Rhymes', 'Schubert In Love', 'Best Lover', 'Love Per Square Foot', 'The Cloverfield Paradox', 'Love and Hong Kong', 'Lovesick', 'Much Loved', 'Have You Ever Fallen in Love, Miss Jiang?', 'Love Storm', 'Diamond Lover', 'My Only Love Song', 'Love.com', 'Lovesong', 'Our Lovers', 'Love Is in the Air', 'Love Me As I Am', 'Love for Ten: Generation of Youth', 'Casablancas: The Man Who Loved Women', 'For the Love of Spock', 'Donald Glover: Weirdo', 'Love Around', 'Love Family', 'Love Me or Leave Me', 'Love Now', 'Fall in Love with Me', 'Love Cheque Charge', \"Murphy's Law of Love\", 'Lavell Crawford: Can a Brother Get Some Love?', 'Just Another Love Story', 'A Tale of Love and Darkness', 'A Thin Line Between Love & Hate', 'Age Gap Love', 'All the Boys Love Mandy Lane', 'Bangkok Traffic (Love) Story', 'Beiimaan Love', 'Berlin, I Love You', 'Chaotic Love Poems', 'Christiane Amanpour: Sex & Love Around the World', 'Cloverfield', 'Deviant Love', 'Eat Pray Love', 'For Love or Money', 'For the Love of Benji', 'From Paris with Love', 'Harold and Lillian: A Hollywood Love Story', 'How to Be a Latin Lover', 'I Fine... Thank You... Love You', \"I'm in Love with a Church Girl\", \"Jaan-E-Mann: Let's Fall in Love... Again\", 'Loco Love', 'Love Cuisine', 'Love Dot Com: The Social Experiment', 'Love In A Puff', 'Love Ni Bhavai', 'Love on Delivery', 'Love Rain', 'Love Rhythms - Accidental Daddy', 'Love Shot', 'Love Station', 'Love You... Love You Not', 'Love Your Garden', 'Love, Rosie', 'LoveTrue', 'Lucky: No Time for Love', 'Mission: Destroy Love', 'Monster High: Why Do Ghouls Fall in Love?', 'Mr. Gaga: A True Story of Love and Dance', 'O-Negative, Love Can’t Be Designed', 'P.S. I Love You', 'Roonpi Secret Love', 'The Love Guru', 'The Lovers and the Despot', 'The One I Love', 'The Year of Happiness and Love', 'This Is My Love', 'Two Lovers and a Bear', 'What Is Love?', \"What's Up With Love?\"]\n"
     ]
    }
   ],
   "source": [
    "def titles_with_love(data):\n",
    "    return_list = []\n",
    "    for item in data:\n",
    "        if \"love\" in item[\"title\"].lower():\n",
    "            return_list.append(item[\"title\"])\n",
    "    return return_list\n",
    "\n",
    "print(titles_with_love(data))"
   ]
  },
  {
   "cell_type": "markdown",
   "id": "c5a7a4be",
   "metadata": {},
   "source": [
    "* **Solution with `yield`**"
   ]
  },
  {
   "cell_type": "code",
   "execution_count": 29,
   "id": "f97245c0",
   "metadata": {},
   "outputs": [
    {
     "name": "stdout",
     "output_type": "stream",
     "text": [
      "['Love on the Spectrum', \"Love Don't Cost a Thing\", 'Love in a Puff', 'LSD: Love, Sex Aur Dhokha', 'Really Love', 'Man in Love', 'Resort to Love', 'The Last Letter From Your Lover', 'Lethal Love', 'This Little Love Of Mine', 'Why Do Fools Fall in Love', 'Love Is a Story', 'Bangkok Love Stories: Innocence', 'Love (ft. Marriage and Divorce)', 'Kitty Love: An Homage to Cats', 'Love Jones', 'Sam Smith: Love Goes - Live at Abbey Road Studios', 'Love or Money', 'Love, Death & Robots', 'The Clovehitch Killer', 'The Lovely Bones', 'Love Naggers', 'My Love: Six Stories of True Love', \"Story of Kale: When Someone's in Love\", 'Elizabeth and Margaret: Love and Loyalty', 'Love Alarm', 'Love', 'Squared Love', 'Love Daily', 'Is Love Enough? Sir', 'A Love So Beautiful', 'Hello, Love, Goodbye', 'Lovestruck in the City', 'Ariana grande: excuse me, i love you', 'Eggnoid: Love & Time Portal', 'Love You to the Stars and Back', 'Must Be... Love', 'If Anything Happens I Love You', 'A Very Special Love', 'First Love', 'Love & Anarchy', 'Love Like the Falling Rain', 'Walk Away from Love', 'A Love Song for Latasha', 'So Much Love to Give', 'Love, Guaranteed', 'Almost Love', 'Was It Love?', 'All For Love', 'Revolutionary Love', 'The Lovebirds', 'My Sleeping Lover', 'Patton Oswalt: I Love Everything', 'I love you, stupid', 'Rich in Love', 'The Forest of Love: Deep Cut', 'A Secret Love', 'Love Is War', 'Love Aaj Kal', 'Love 101', 'World Famous Lover', 'Love Wedding Repeat', 'Well-Intended Love', 'All About Love', 'Calico Critters Mini Episodes Clover', 'When Love Happens', 'Love Is Blind', 'To All the Boys: P.S. I Still Love You', 'Love for Sale 2', 'My Holo Love', 'Faith, Hope & Love', 'Love Jacked', 'Ainori Love Wagon: African Journey', 'What the Love! with Karan Johar', 'Live Twice, Love Once', 'Pucca: Love Recipe', 'Crazy, Lovely, Cool', 'The Road to Love', 'The Lovers', 'Tune in for Love', 'Love, Chunibyo & Other Delusions!', 'A Little Thing Called First Love', 'Love, Surreal and Odd', 'Verses of Love 2', 'Black Money Love', 'The Forest of Love', 'Love for Sale', 'Brother in Love', 'The Liar and His Lover', 'Falling Inn Love', 'My First First Love', 'Unrequited Love', 'Bangkok Love Stories: Objects of Affection', 'Bangkok Love Stories: Plead', 'Love O2O', 'Ainori Love Wagon: Asian Journey', 'Verses of Love', 'A Love Story', 'Barcelona: A Love Untold', 'Bangkok Love Stories: Hey You!', 'The Love Affair', 'Everyday I Love You', \"Can't Help Falling in Love\", 'Love Off the Cuff', 'Just Love', 'Memory Love', 'Way Back into Love', 'Love @ Seventeen', 'Ashes of Love', 'Love and Fortune', 'Eternal Love', 'They’ll Love Me When I’m Dead', 'Accidentally in Love', 'Love and Shukla', 'To All the Boys I’ve Loved Before', 'Tere Naal Love Ho Gaya', 'Alex Strangelove', 'Love Beats Rhymes', 'Schubert In Love', 'Best Lover', 'Love Per Square Foot', 'The Cloverfield Paradox', 'Love and Hong Kong', 'Lovesick', 'Much Loved', 'Have You Ever Fallen in Love, Miss Jiang?', 'Love Storm', 'Diamond Lover', 'My Only Love Song', 'Love.com', 'Lovesong', 'Our Lovers', 'Love Is in the Air', 'Love Me As I Am', 'Love for Ten: Generation of Youth', 'Casablancas: The Man Who Loved Women', 'For the Love of Spock', 'Donald Glover: Weirdo', 'Love Around', 'Love Family', 'Love Me or Leave Me', 'Love Now', 'Fall in Love with Me', 'Love Cheque Charge', \"Murphy's Law of Love\", 'Lavell Crawford: Can a Brother Get Some Love?', 'Just Another Love Story', 'A Tale of Love and Darkness', 'A Thin Line Between Love & Hate', 'Age Gap Love', 'All the Boys Love Mandy Lane', 'Bangkok Traffic (Love) Story', 'Beiimaan Love', 'Berlin, I Love You', 'Chaotic Love Poems', 'Christiane Amanpour: Sex & Love Around the World', 'Cloverfield', 'Deviant Love', 'Eat Pray Love', 'For Love or Money', 'For the Love of Benji', 'From Paris with Love', 'Harold and Lillian: A Hollywood Love Story', 'How to Be a Latin Lover', 'I Fine... Thank You... Love You', \"I'm in Love with a Church Girl\", \"Jaan-E-Mann: Let's Fall in Love... Again\", 'Loco Love', 'Love Cuisine', 'Love Dot Com: The Social Experiment', 'Love In A Puff', 'Love Ni Bhavai', 'Love on Delivery', 'Love Rain', 'Love Rhythms - Accidental Daddy', 'Love Shot', 'Love Station', 'Love You... Love You Not', 'Love Your Garden', 'Love, Rosie', 'LoveTrue', 'Lucky: No Time for Love', 'Mission: Destroy Love', 'Monster High: Why Do Ghouls Fall in Love?', 'Mr. Gaga: A True Story of Love and Dance', 'O-Negative, Love Can’t Be Designed', 'P.S. I Love You', 'Roonpi Secret Love', 'The Love Guru', 'The Lovers and the Despot', 'The One I Love', 'The Year of Happiness and Love', 'This Is My Love', 'Two Lovers and a Bear', 'What Is Love?', \"What's Up With Love?\"]\n"
     ]
    }
   ],
   "source": [
    "def yield_titles_with_love(data):\n",
    "    for item in data:\n",
    "        if \"love\" in item[\"title\"].lower():\n",
    "            yield item[\"title\"]\n",
    "                       \n",
    "print([line for line in yield_titles_with_love(data)])"
   ]
  },
  {
   "cell_type": "markdown",
   "id": "8101bcc0",
   "metadata": {},
   "source": [
    "Time complexity: O(n*m) - run through n lines and to search within the string is O(m)\n",
    "\n",
    "Space complexity: O(n) where n is the number of matching titles that contain love.  Or O(1) for yield?"
   ]
  },
  {
   "cell_type": "markdown",
   "id": "5d6ae7f6",
   "metadata": {},
   "source": [
    "8. **PG-13 Movies**\n",
    "\n",
    "Finds all movies with a `PG-13` rating.\n",
    "\n",
    "* **Solution with `return`**"
   ]
  },
  {
   "cell_type": "code",
   "execution_count": 30,
   "id": "716fe3cb",
   "metadata": {},
   "outputs": [
    {
     "name": "stdout",
     "output_type": "stream",
     "text": [
      "['Dick Johnson Is Dead', 'The Starling', 'Grown Ups', 'Dark Skies', 'Paranoia', 'Birth of the Dragon', 'Jaws: The Revenge', 'Blood Brothers: Malcolm X & Muhammad Ali', 'Worth', 'Final Account', \"Agatha Christie's Crooked House\", 'An Unfinished Life', 'Clear and Present Danger', 'Dear John', 'Freedom Writers', 'Green Lantern', \"Love Don't Cost a Thing\", 'Mars Attacks!', 'Marshall', 'Mystery Men', 'Poseidon', 'Same Kind of Different as Me', 'School of Rock', 'Snervous Tyler Oakley', 'The Golden Child', 'The Nutty Professor', 'The Nutty Professor II: The Klumps', 'Welcome Home Roscoe Jenkins', 'Like Crazy', 'Misha and the Wolves', 'Quartet', 'The Paper Tigers', 'Pray Away', 'Beowulf', 'Catch Me If You Can', \"Ferris Bueller's Day Off\", 'Five Feet Apart', 'Inception', 'Major Payne', 'My Girl', 'Poms', 'Seabiscuit', 'Space Cowboys', 'The Losers', 'The Net', \"Valentine's Day\", 'The Book of Henry', 'The Twilight Saga: Breaking Dawn: Part 1', 'The Twilight Saga: Breaking Dawn: Part 2', 'The Twilight Saga: Eclipse', 'The Twilight Saga: New Moon', 'Twilight', 'Home Again', 'Midnight Sun', 'Brick Mansions', 'Winchester', 'Audible', 'Austin Powers in Goldmember', 'Austin Powers: International Man of Mystery', 'Austin Powers: The Spy Who Shagged Me', \"Charlie's Angels\", 'Congo', 'Hampstead', 'Life as We Know It', 'Memoirs of a Geisha', 'Mortal Kombat', \"Mother's Day\", 'Ophelia', 'Seven Pounds', 'Star Trek', 'Talladega Nights: The Ballad of Ricky Bobby', 'The Best of Enemies', 'The Queen', 'The Sum of All Fears', 'The Tourist', 'What Dreams May Come', 'The Ice Road', 'Fatherhood', 'Lowriders', 'Vampire Academy', '2 Hearts', 'American Outlaws', 'Battlefield Earth', 'Domestic Disturbance', 'Fools Rush In', 'I Am Sam', 'Million Dollar Baby', 'Starsky & Hutch', 'The Interpreter', 'The Meddler', 'The Mirror Has Two Faces', 'Collateral Beauty', 'The Last Days', 'Best of the Best', 'Fun with Dick & Jane', 'Never Back Down', 'Stargate', 'State of Play', 'The Darkest Hour', 'The Lovely Bones', 'Battle: Los Angeles', \"The Zookeeper's Wife\", 'Thunder Force', 'Accepted', 'Wild Child', '2012', '3 Idiots', 'Insidious', 'Kingsglaive: Final Fantasy XV', 'Legally Blonde', 'Takers', 'The Stepfather', 'Yes Man', \"At Eternity's Gate\", 'Mandela: Long Walk to Freedom', 'Philomena', 'The Fluffy Movie', 'Get on Up', 'Bombay Rose', 'Safe Haven', 'Moxie', 'Black or White', 'Dances with Wolves', 'Operation Finale', 'Beverly Hills Ninja', 'Fatima', 'The Dig', 'The Next Three Days', 'A Monster Calls', 'Playing for Keeps', 'Gimme Shelter', 'Good Hair', 'Mean Girls 2', 'Unknown', \"What's Eating Gilbert Grape\", 'Cops and Robbers', 'The Midnight Sky', 'Atlas Shrugged: Part II', 'Incarnate', \"Lee Daniels' The Butler\", 'A California Christmas', 'Giving Voice', 'The Prom', '3 Days to Kill', 'Angels & Demons', 'Effie Gray', 'Quigley Down Under', 'The Da Vinci Code', 'Loving', 'The Life Ahead', 'Prom Night', 'The Impossible', \"Fisherman's Friends\", 'Rebecca', 'Tremors: Shrieker Island', 'Hubie Halloween', 'Vampires vs. the Bronx', 'Hunt for the Wilderpeople', 'Rize', 'Bully', 'Amandla! A Revolution in Four Part Harmony', 'Real Steel', 'Enola Holmes', 'The Social Dilemma', 'Adrift', 'The Young Messiah', 'Rising Phoenix', 'Septembers of Shiraz', 'Les Misérables', 'Seventh Son', 'The Lost Husband', 'I Am Not Your Negro', 'Stardust', 'Eurovision Song Contest: The Story of Fire Saga', 'Athlete A', 'The Darkness', 'Before I Fall', 'Big Stone Gap', \"Bennett's War\", 'The Half Of It', 'The Reliant', 'The Artist', 'Hail, Caesar!', 'The Forest', 'Polaroid', 'Dragonheart: Vengeance', 'Love Jacked', 'Benchwarmers 2: Breaking Balls', 'Grand-Daddy Day Care', 'Sweetheart', 'The Two Popes', 'Nothing to Lose 2', 'Suffragette', 'Let It Snow', 'Echo in the Canyon', 'The Command', 'After', 'The Grandmaster', 'Selfless', 'Murder Mystery', 'The Silence', '5 Flights Up', 'The Theory of Everything', \"Dumplin'\", 'Mowgli: Legend of the Jungle', 'Happy as Lazzaro', 'Dovlatov', 'Scorpion King 5: Book of Souls', 'Seven in Heaven', 'The Black Prince', 'Sierra Burgess Is A Loser', 'Pad Man', 'Brain on Fire', \"Sunday's Illness\", 'Lupin the 3rd: The Castle of Cagliostro: Special Edition', 'In This Corner of the World', 'The Cloverfield Paradox', 'Step Sisters', 'Before I Wake', 'Pottersville', 'Poster Boys', 'Mubarakan', 'SPF-18', 'Generation Iron 2', 'Undefeated', 'Enter the Warriors Gate', 'Wild Oats', 'Under the Shadow', 'Ip Man 3', 'Crouching Tiger, Hidden Dragon: Sword of Destiny', '9', '21', 'Æon Flux', '10,000 B.C.', '16 Blocks', '17 Again', '20 Feet From Stardom', '28 Days', '3 Generations', '50 First Dates', 'A Murder in the Park', 'A Night at the Roxbury', 'A Separation', 'A Tale of Love and Darkness', 'A Thousand Words', 'About a Boy', 'Across the Universe', 'Anger Management', 'Ant-Man and the Wasp', 'Apollo 18', 'Arthur', 'As Good as It Gets', 'Avengers: Infinity War', 'Barely Lethal', 'Bathtubs Over Broadway', 'Bean: The Ultimate Disaster Movie', 'Beavis and Butt-head Do America', \"Bebe's Kids\", 'Becoming Jane', 'Big Daddy', 'Black Panther', 'Blackfish', 'Blackway', 'Blue Jasmine', 'Blue Streak', 'Bring It On: Worldwide Showdown', 'Burlesque', \"Can't Hardly Wait\", 'Carriers', 'Casino Royale', 'Center Stage', 'Chappaquiddick', \"Charlie's Angels: Full Throttle\", \"Cirque du Freak: The Vampire's Assistant\", 'Clash of the Titans', 'Click', 'Cloverfield', 'Coach Carter', 'Code Name: The Cleaner', 'Crouching Tiger, Hidden Dragon', \"Dante's Peak\", 'Dean', 'Die Another Day', 'Dinner for Schmucks', 'Doctor Zhivago', 'Don Verdean', 'Doubt', 'Dragonheart', 'Dragonheart 3: The Sorcerer', 'Dragonheart: Battle for the Heartfire', 'Dumb and Dumberer: When Harry Met Lloyd', 'Easy A', 'Eat Pray Love', 'Employee of the Month', 'Equals', 'Evolution', 'Flash of Genius', 'Four Christmases', 'Get Smart', 'Getting Played', 'Ghost Rider', 'Ginger & Rosa', 'GoldenEye', 'HALO Legends', 'He Named Me Malala', 'Heartbreakers', 'Hellboy', 'Hitch', 'Honey 2', 'Honey: Rise Up and Dance', 'Hot Rod', 'House at the End of the Street', 'How to Be a Latin Lover', 'How to Make an American Quilt', 'Hulk Vs.', \"I Don't Know How She Does It\", \"I'll See You in My Dreams\", 'In The Deep', 'Indiana Jones and the Kingdom of the Crystal Skull', 'Indiana Jones and the Last Crusade', 'Instructions Not Included', 'Invictus', \"Jeremy Scott: The People's Designer\", 'John Carter', 'Julie & Julia', 'Jumping the Broom', 'Jupiter Ascending', 'Just Friends', 'K-19: The Widowmaker', 'Kate & Leopold', 'Killer Klowns from Outer Space', 'Killers', \"King's Ransom\", 'Kingpin', 'Knowing', 'Kon-Tiki', 'La Bamba', 'Lady in the Water', 'Left Behind', 'Lincoln', 'Little Nicky', 'Lo and Behold: Reveries of the Connected World', 'Lockout', 'Mad Money', 'Manglehorn', 'Mansfield Park', 'Men in Black', 'Men in Black II', 'Midnight Special', 'Miss Hokusai', 'Miss Julie', 'Mona Lisa Smile', 'Monster-in-Law', 'Mr. Church', 'Mr. Deeds', 'Mr. Woodcock', 'Mud', 'My Entire High School Sinking Into the Sea', 'My Life as a Zucchini', \"My Sister's Keeper\", \"National Lampoon's Loaded Weapon 1\", 'Next', 'Nights in Rodanthe', 'November Criminals', 'Now and Then', \"Ocean's Thirteen\", \"Ocean's Twelve\", 'Once Upon a Time in the West', 'Our House', 'P.S. I Love You', 'Philadelphia', 'Quantum of Solace', 'Queen of the Desert', 'Rebel Without a Cause', 'Red Dawn', 'Remember Me', 'Rememory', 'Rocky V', 'Rumor Has It', 'S.W.A.T.', 'Samson', \"Sarah's Key\", 'Saving Mr. Banks', 'Scary Movie 5', 'Scott Pilgrim vs. the World', 'Searching for Sugar Man', 'Season of the Witch', 'Secret in Their Eyes', 'Senna', 'Shark Night', 'Sherlock Holmes', 'Singularity', 'Skiptrace', 'Skyline', 'Small Soldiers', 'SMOSH: The Movie', 'Solo: A Star Wars Story', 'Solo: A Star Wars Story (Spanish Version)', \"Something's Gotta Give\", 'Speech & Debate', 'Spider-Man 3', 'Star Wars: Episode VIII: The Last Jedi', 'Stonehearst Asylum', 'Strange but True', 'Stranger than Fiction', 'Superman Returns', 'Superstar', 'Terminator Salvation', 'The American President', 'The Bounty Hunter', 'The Box', 'The Boy', 'The Boy in the Striped Pajamas', 'The Breadwinner', 'The Break-Up', 'The Brothers Grimm', 'The Bucket List', 'The Bye Bye Man', 'The Confirmation', 'The Dukes of Hazzard', 'The Forbidden Kingdom', 'The Founder', 'The Good Catholic', 'The Green Hornet', 'The Haunting of Molly Hartley', 'The Help', 'The Hurricane Heist', 'The Hurt Business', 'The Imaginarium of Doctor Parnassus', 'The Invention of Lying', 'The Iron Lady', 'The Jane Austen Book Club', 'The Keeping Hours', 'The Last Exorcism', 'The Look of Silence', 'The Lord of the Rings: The Return of the King', 'The Lord of the Rings: The Two Towers', 'The Love Guru', 'The Mask of Zorro', 'The Naked Gun 2 1/2: The Smell of Fear', 'The Naked Gun: From the Files of Police Squad!', 'The Other Guys', 'The Pelican Brief', 'The Perks of Being a Wallflower', 'The Phantom of the Opera', 'The Pursuit of Happyness', 'The Rainmaker', 'The Ring', 'The River Wild', 'The Roommate', 'The Sapphires', 'The Sea of Trees', 'The Signal', 'The Social Network', 'The Space Between Us', 'The Time Machine', \"The Time Traveler's Wife\", 'The Tuxedo', 'The Unknown Known', 'The Vatican Tapes', 'The Waterboy', 'The World Is Not Enough', 'Thelonious Monk: Straight, No Chaser', 'Thor: Ragnarok', 'To Wong Foo, Thanks for Everything! Julie Newmar', 'Tomorrow Never Dies', 'Tortilla Soup', 'Tracers', 'Traitor', 'Transcendence', 'Tremors', 'Tremors 2: Aftershocks', 'Tremors 4: The Legend Begins', 'Tremors 5:  Bloodline', 'Tremors 6: A Cold Day in Hell', 'Undercover Grandpa', 'Unfinished Song', 'Vantage Point', 'Victor', 'Walking Out', 'War Horse', 'What Lies Beneath', 'Where the Money Is', 'Wild Wild West', 'Wildlife', 'World Trade Center', 'Wyatt Earp', 'XXx', 'XXX: State of the Union', 'Yoga Hosers']\n"
     ]
    }
   ],
   "source": [
    "def find_PG13(data):\n",
    "    result_list = []\n",
    "    for item in data:\n",
    "        if item[\"rating\"] == \"PG-13\":\n",
    "            result_list.append(item[\"title\"])\n",
    "    return result_list\n",
    "\n",
    "print(find_PG13(data))"
   ]
  },
  {
   "cell_type": "markdown",
   "id": "c27a5c4e",
   "metadata": {},
   "source": [
    "* **Solution with `yield`**"
   ]
  },
  {
   "cell_type": "code",
   "execution_count": 31,
   "id": "384915f4",
   "metadata": {},
   "outputs": [
    {
     "name": "stdout",
     "output_type": "stream",
     "text": [
      "['Dick Johnson Is Dead', 'The Starling', 'Grown Ups', 'Dark Skies', 'Paranoia', 'Birth of the Dragon', 'Jaws: The Revenge', 'Blood Brothers: Malcolm X & Muhammad Ali', 'Worth', 'Final Account', \"Agatha Christie's Crooked House\", 'An Unfinished Life', 'Clear and Present Danger', 'Dear John', 'Freedom Writers', 'Green Lantern', \"Love Don't Cost a Thing\", 'Mars Attacks!', 'Marshall', 'Mystery Men', 'Poseidon', 'Same Kind of Different as Me', 'School of Rock', 'Snervous Tyler Oakley', 'The Golden Child', 'The Nutty Professor', 'The Nutty Professor II: The Klumps', 'Welcome Home Roscoe Jenkins', 'Like Crazy', 'Misha and the Wolves', 'Quartet', 'The Paper Tigers', 'Pray Away', 'Beowulf', 'Catch Me If You Can', \"Ferris Bueller's Day Off\", 'Five Feet Apart', 'Inception', 'Major Payne', 'My Girl', 'Poms', 'Seabiscuit', 'Space Cowboys', 'The Losers', 'The Net', \"Valentine's Day\", 'The Book of Henry', 'The Twilight Saga: Breaking Dawn: Part 1', 'The Twilight Saga: Breaking Dawn: Part 2', 'The Twilight Saga: Eclipse', 'The Twilight Saga: New Moon', 'Twilight', 'Home Again', 'Midnight Sun', 'Brick Mansions', 'Winchester', 'Audible', 'Austin Powers in Goldmember', 'Austin Powers: International Man of Mystery', 'Austin Powers: The Spy Who Shagged Me', \"Charlie's Angels\", 'Congo', 'Hampstead', 'Life as We Know It', 'Memoirs of a Geisha', 'Mortal Kombat', \"Mother's Day\", 'Ophelia', 'Seven Pounds', 'Star Trek', 'Talladega Nights: The Ballad of Ricky Bobby', 'The Best of Enemies', 'The Queen', 'The Sum of All Fears', 'The Tourist', 'What Dreams May Come', 'The Ice Road', 'Fatherhood', 'Lowriders', 'Vampire Academy', '2 Hearts', 'American Outlaws', 'Battlefield Earth', 'Domestic Disturbance', 'Fools Rush In', 'I Am Sam', 'Million Dollar Baby', 'Starsky & Hutch', 'The Interpreter', 'The Meddler', 'The Mirror Has Two Faces', 'Collateral Beauty', 'The Last Days', 'Best of the Best', 'Fun with Dick & Jane', 'Never Back Down', 'Stargate', 'State of Play', 'The Darkest Hour', 'The Lovely Bones', 'Battle: Los Angeles', \"The Zookeeper's Wife\", 'Thunder Force', 'Accepted', 'Wild Child', '2012', '3 Idiots', 'Insidious', 'Kingsglaive: Final Fantasy XV', 'Legally Blonde', 'Takers', 'The Stepfather', 'Yes Man', \"At Eternity's Gate\", 'Mandela: Long Walk to Freedom', 'Philomena', 'The Fluffy Movie', 'Get on Up', 'Bombay Rose', 'Safe Haven', 'Moxie', 'Black or White', 'Dances with Wolves', 'Operation Finale', 'Beverly Hills Ninja', 'Fatima', 'The Dig', 'The Next Three Days', 'A Monster Calls', 'Playing for Keeps', 'Gimme Shelter', 'Good Hair', 'Mean Girls 2', 'Unknown', \"What's Eating Gilbert Grape\", 'Cops and Robbers', 'The Midnight Sky', 'Atlas Shrugged: Part II', 'Incarnate', \"Lee Daniels' The Butler\", 'A California Christmas', 'Giving Voice', 'The Prom', '3 Days to Kill', 'Angels & Demons', 'Effie Gray', 'Quigley Down Under', 'The Da Vinci Code', 'Loving', 'The Life Ahead', 'Prom Night', 'The Impossible', \"Fisherman's Friends\", 'Rebecca', 'Tremors: Shrieker Island', 'Hubie Halloween', 'Vampires vs. the Bronx', 'Hunt for the Wilderpeople', 'Rize', 'Bully', 'Amandla! A Revolution in Four Part Harmony', 'Real Steel', 'Enola Holmes', 'The Social Dilemma', 'Adrift', 'The Young Messiah', 'Rising Phoenix', 'Septembers of Shiraz', 'Les Misérables', 'Seventh Son', 'The Lost Husband', 'I Am Not Your Negro', 'Stardust', 'Eurovision Song Contest: The Story of Fire Saga', 'Athlete A', 'The Darkness', 'Before I Fall', 'Big Stone Gap', \"Bennett's War\", 'The Half Of It', 'The Reliant', 'The Artist', 'Hail, Caesar!', 'The Forest', 'Polaroid', 'Dragonheart: Vengeance', 'Love Jacked', 'Benchwarmers 2: Breaking Balls', 'Grand-Daddy Day Care', 'Sweetheart', 'The Two Popes', 'Nothing to Lose 2', 'Suffragette', 'Let It Snow', 'Echo in the Canyon', 'The Command', 'After', 'The Grandmaster', 'Selfless', 'Murder Mystery', 'The Silence', '5 Flights Up', 'The Theory of Everything', \"Dumplin'\", 'Mowgli: Legend of the Jungle', 'Happy as Lazzaro', 'Dovlatov', 'Scorpion King 5: Book of Souls', 'Seven in Heaven', 'The Black Prince', 'Sierra Burgess Is A Loser', 'Pad Man', 'Brain on Fire', \"Sunday's Illness\", 'Lupin the 3rd: The Castle of Cagliostro: Special Edition', 'In This Corner of the World', 'The Cloverfield Paradox', 'Step Sisters', 'Before I Wake', 'Pottersville', 'Poster Boys', 'Mubarakan', 'SPF-18', 'Generation Iron 2', 'Undefeated', 'Enter the Warriors Gate', 'Wild Oats', 'Under the Shadow', 'Ip Man 3', 'Crouching Tiger, Hidden Dragon: Sword of Destiny', '9', '21', 'Æon Flux', '10,000 B.C.', '16 Blocks', '17 Again', '20 Feet From Stardom', '28 Days', '3 Generations', '50 First Dates', 'A Murder in the Park', 'A Night at the Roxbury', 'A Separation', 'A Tale of Love and Darkness', 'A Thousand Words', 'About a Boy', 'Across the Universe', 'Anger Management', 'Ant-Man and the Wasp', 'Apollo 18', 'Arthur', 'As Good as It Gets', 'Avengers: Infinity War', 'Barely Lethal', 'Bathtubs Over Broadway', 'Bean: The Ultimate Disaster Movie', 'Beavis and Butt-head Do America', \"Bebe's Kids\", 'Becoming Jane', 'Big Daddy', 'Black Panther', 'Blackfish', 'Blackway', 'Blue Jasmine', 'Blue Streak', 'Bring It On: Worldwide Showdown', 'Burlesque', \"Can't Hardly Wait\", 'Carriers', 'Casino Royale', 'Center Stage', 'Chappaquiddick', \"Charlie's Angels: Full Throttle\", \"Cirque du Freak: The Vampire's Assistant\", 'Clash of the Titans', 'Click', 'Cloverfield', 'Coach Carter', 'Code Name: The Cleaner', 'Crouching Tiger, Hidden Dragon', \"Dante's Peak\", 'Dean', 'Die Another Day', 'Dinner for Schmucks', 'Doctor Zhivago', 'Don Verdean', 'Doubt', 'Dragonheart', 'Dragonheart 3: The Sorcerer', 'Dragonheart: Battle for the Heartfire', 'Dumb and Dumberer: When Harry Met Lloyd', 'Easy A', 'Eat Pray Love', 'Employee of the Month', 'Equals', 'Evolution', 'Flash of Genius', 'Four Christmases', 'Get Smart', 'Getting Played', 'Ghost Rider', 'Ginger & Rosa', 'GoldenEye', 'HALO Legends', 'He Named Me Malala', 'Heartbreakers', 'Hellboy', 'Hitch', 'Honey 2', 'Honey: Rise Up and Dance', 'Hot Rod', 'House at the End of the Street', 'How to Be a Latin Lover', 'How to Make an American Quilt', 'Hulk Vs.', \"I Don't Know How She Does It\", \"I'll See You in My Dreams\", 'In The Deep', 'Indiana Jones and the Kingdom of the Crystal Skull', 'Indiana Jones and the Last Crusade', 'Instructions Not Included', 'Invictus', \"Jeremy Scott: The People's Designer\", 'John Carter', 'Julie & Julia', 'Jumping the Broom', 'Jupiter Ascending', 'Just Friends', 'K-19: The Widowmaker', 'Kate & Leopold', 'Killer Klowns from Outer Space', 'Killers', \"King's Ransom\", 'Kingpin', 'Knowing', 'Kon-Tiki', 'La Bamba', 'Lady in the Water', 'Left Behind', 'Lincoln', 'Little Nicky', 'Lo and Behold: Reveries of the Connected World', 'Lockout', 'Mad Money', 'Manglehorn', 'Mansfield Park', 'Men in Black', 'Men in Black II', 'Midnight Special', 'Miss Hokusai', 'Miss Julie', 'Mona Lisa Smile', 'Monster-in-Law', 'Mr. Church', 'Mr. Deeds', 'Mr. Woodcock', 'Mud', 'My Entire High School Sinking Into the Sea', 'My Life as a Zucchini', \"My Sister's Keeper\", \"National Lampoon's Loaded Weapon 1\", 'Next', 'Nights in Rodanthe', 'November Criminals', 'Now and Then', \"Ocean's Thirteen\", \"Ocean's Twelve\", 'Once Upon a Time in the West', 'Our House', 'P.S. I Love You', 'Philadelphia', 'Quantum of Solace', 'Queen of the Desert', 'Rebel Without a Cause', 'Red Dawn', 'Remember Me', 'Rememory', 'Rocky V', 'Rumor Has It', 'S.W.A.T.', 'Samson', \"Sarah's Key\", 'Saving Mr. Banks', 'Scary Movie 5', 'Scott Pilgrim vs. the World', 'Searching for Sugar Man', 'Season of the Witch', 'Secret in Their Eyes', 'Senna', 'Shark Night', 'Sherlock Holmes', 'Singularity', 'Skiptrace', 'Skyline', 'Small Soldiers', 'SMOSH: The Movie', 'Solo: A Star Wars Story', 'Solo: A Star Wars Story (Spanish Version)', \"Something's Gotta Give\", 'Speech & Debate', 'Spider-Man 3', 'Star Wars: Episode VIII: The Last Jedi', 'Stonehearst Asylum', 'Strange but True', 'Stranger than Fiction', 'Superman Returns', 'Superstar', 'Terminator Salvation', 'The American President', 'The Bounty Hunter', 'The Box', 'The Boy', 'The Boy in the Striped Pajamas', 'The Breadwinner', 'The Break-Up', 'The Brothers Grimm', 'The Bucket List', 'The Bye Bye Man', 'The Confirmation', 'The Dukes of Hazzard', 'The Forbidden Kingdom', 'The Founder', 'The Good Catholic', 'The Green Hornet', 'The Haunting of Molly Hartley', 'The Help', 'The Hurricane Heist', 'The Hurt Business', 'The Imaginarium of Doctor Parnassus', 'The Invention of Lying', 'The Iron Lady', 'The Jane Austen Book Club', 'The Keeping Hours', 'The Last Exorcism', 'The Look of Silence', 'The Lord of the Rings: The Return of the King', 'The Lord of the Rings: The Two Towers', 'The Love Guru', 'The Mask of Zorro', 'The Naked Gun 2 1/2: The Smell of Fear', 'The Naked Gun: From the Files of Police Squad!', 'The Other Guys', 'The Pelican Brief', 'The Perks of Being a Wallflower', 'The Phantom of the Opera', 'The Pursuit of Happyness', 'The Rainmaker', 'The Ring', 'The River Wild', 'The Roommate', 'The Sapphires', 'The Sea of Trees', 'The Signal', 'The Social Network', 'The Space Between Us', 'The Time Machine', \"The Time Traveler's Wife\", 'The Tuxedo', 'The Unknown Known', 'The Vatican Tapes', 'The Waterboy', 'The World Is Not Enough', 'Thelonious Monk: Straight, No Chaser', 'Thor: Ragnarok', 'To Wong Foo, Thanks for Everything! Julie Newmar', 'Tomorrow Never Dies', 'Tortilla Soup', 'Tracers', 'Traitor', 'Transcendence', 'Tremors', 'Tremors 2: Aftershocks', 'Tremors 4: The Legend Begins', 'Tremors 5:  Bloodline', 'Tremors 6: A Cold Day in Hell', 'Undercover Grandpa', 'Unfinished Song', 'Vantage Point', 'Victor', 'Walking Out', 'War Horse', 'What Lies Beneath', 'Where the Money Is', 'Wild Wild West', 'Wildlife', 'World Trade Center', 'Wyatt Earp', 'XXx', 'XXX: State of the Union', 'Yoga Hosers']\n"
     ]
    }
   ],
   "source": [
    "def yield_find_PG13(data):\n",
    "    for item in data:\n",
    "        if item[\"rating\"] == \"PG-13\":\n",
    "            yield item[\"title\"]\n",
    "\n",
    "print([line for line in yield_find_PG13(data)])"
   ]
  },
  {
   "cell_type": "markdown",
   "id": "bdda9ec5",
   "metadata": {},
   "source": [
    "* Time complexity: O(n)\n",
    "* Space complexity: O(k) for return, O(1) for yield"
   ]
  },
  {
   "cell_type": "markdown",
   "id": "3a6e597f",
   "metadata": {},
   "source": [
    "9. **Develop the `my_len` function, to count the total entries**\n",
    "\n",
    "Counts the number of rows in the dataset."
   ]
  },
  {
   "cell_type": "code",
   "execution_count": 32,
   "id": "8bc15ead",
   "metadata": {},
   "outputs": [
    {
     "name": "stdout",
     "output_type": "stream",
     "text": [
      "8807\n"
     ]
    }
   ],
   "source": [
    "def my_len(data):\n",
    "    count = 0\n",
    "    for _ in data:\n",
    "        count += 1\n",
    "    return count\n",
    "\n",
    "print(my_len(data))"
   ]
  },
  {
   "cell_type": "markdown",
   "id": "3eea8ee6",
   "metadata": {},
   "source": [
    "**Can I use yield?**\n",
    "\n",
    "No because yield returns values one by one.  My_len is a function to return a single number, the total size."
   ]
  },
  {
   "cell_type": "markdown",
   "id": "31230125",
   "metadata": {},
   "source": [
    "- Time complexity: O(n)\n",
    "- Space complexity: O(1)"
   ]
  },
  {
   "cell_type": "markdown",
   "id": "43dd54ef",
   "metadata": {},
   "source": [
    "10. **Count Types**\n",
    "\n",
    "Counts how many entries are `TV Show` vs. `Movie`."
   ]
  },
  {
   "cell_type": "code",
   "execution_count": 47,
   "id": "1c35c7c4",
   "metadata": {},
   "outputs": [
    {
     "name": "stdout",
     "output_type": "stream",
     "text": [
      "Number of TV shows: 2676.  Number of movies: 6131.\n"
     ]
    }
   ],
   "source": [
    "def count_types(data):\n",
    "    TV_shows = 0\n",
    "    Movie = 0\n",
    "    for item in data:\n",
    "        if item[\"type\"] == \"TV Show\":\n",
    "            TV_shows += 1\n",
    "        elif item[\"type\"] == \"Movie\":\n",
    "            Movie += 1\n",
    "    return \"Number of TV shows: \" + str(TV_shows) + \".  Number of movies: \" + str(Movie) + \".\"\n",
    "\n",
    "print(count_types(data))"
   ]
  },
  {
   "cell_type": "markdown",
   "id": "aad85e41",
   "metadata": {},
   "source": [
    "- Time complexity: O(n)\n",
    "- Space complexity: O(1)"
   ]
  },
  {
   "cell_type": "code",
   "execution_count": 54,
   "id": "f5da7d62",
   "metadata": {},
   "outputs": [
    {
     "name": "stdout",
     "output_type": "stream",
     "text": [
      "{'Movie': 6131, 'TV Show': 2676}\n"
     ]
    }
   ],
   "source": [
    "def freq_table(data):\n",
    "    result_dict = {}\n",
    "    for item in data:\n",
    "        if item[\"type\"] in result_dict:\n",
    "            result_dict[item[\"type\"]] +=1\n",
    "        else:\n",
    "            result_dict[item[\"type\"]] = 1\n",
    "    return result_dict\n",
    "\n",
    "print(freq_table(data))  "
   ]
  },
  {
   "cell_type": "markdown",
   "id": "9b627ede",
   "metadata": {},
   "source": [
    "- Time complexity:  O(n) - since dictionary operations  like '+=1' and 'in' are on average O(1)\n",
    "- Space complexity:  O(t) - where t is the number of types (usually t is small so treated as O(1))"
   ]
  },
  {
   "cell_type": "markdown",
   "id": "933feffe",
   "metadata": {},
   "source": [
    "12. **Average TV show seasons**\n",
    "\n",
    "Calculates average number of seasons for TV shows."
   ]
  },
  {
   "cell_type": "code",
   "execution_count": 62,
   "id": "82b8584c",
   "metadata": {},
   "outputs": [
    {
     "name": "stdout",
     "output_type": "stream",
     "text": [
      "Average season duration: 1.7.\n"
     ]
    }
   ],
   "source": [
    "def average_seasons(data):\n",
    "    total = 0\n",
    "    count = 0\n",
    "    for item in data:\n",
    "        if \"Season\" in item[\"duration\"] and item[\"duration\"][0].isnumeric() and item[\"type\"] == \"TV Show\":\n",
    "            total += int(item[\"duration\"][0])\n",
    "            count += 1\n",
    "    return \"Average season duration: \" + str(round(total / count,2)) + \".\"\n",
    "\n",
    "print(average_seasons(data))"
   ]
  },
  {
   "cell_type": "markdown",
   "id": "8db04b83",
   "metadata": {},
   "source": [
    "\n",
    "\n",
    "\n",
    "\n",
    "```python\n",
    "\n",
    "```\n",
    "\n",
    "- Time complexity:\n",
    "- Space complexity: \n",
    "\n",
    "---\n",
    "\n",
    "13. Sort by release year using `Bubble sort`.\n",
    "\n",
    "```python\n",
    "\n",
    "```\n",
    "\n",
    "**How Bubble Sort Works:**\n",
    "\n",
    "- Repeatedly compares adjacent elements\n",
    "- Swaps them if they're in the wrong order\n",
    "- \"Bubbles\" the largest value to the end in each pass\n",
    "\n",
    "Time complexity: `O(n^2)`\n",
    "\n",
    "Space complexity: `O(n)` — due to copying the list\n",
    "\n",
    "---\n",
    "\n",
    "14. **Convert durations**\n",
    "\n",
    "The function extracts numeric values from the `\"duration\"` field and groups them into a dictionary based on units like `\"min\"`, `\"Season\"`, or `\"Seasons\"`. It skips empty or malformed entries.\n",
    "\n",
    "*It works on a list of dictionaries where each dictionary has a `'duration'` key.*\n",
    "\n",
    "```python\n",
    "\n",
    "```\n",
    "\n",
    "**Output**\n",
    "\n",
    "```python\n",
    "{\n",
    "    \"min\": [90, 91, 125, 104, 127, 91,...],\n",
    "    \"Seasons\": [2, 2, 9,..],\n",
    "    \"Season\": [1, 1, 1, 1, 1,...]\n",
    "}\n",
    "```\n",
    "\n",
    "---\n",
    "\n",
    "15. **What is the distribution of content types (TV Show vs Movie)?**\n",
    "\n",
    "Create a **bar chart** showing how many titles fall into each type.\n",
    "\n",
    "```python\n",
    "\n",
    "```\n",
    "\n",
    "![Bar chart](bar-chart.png)"
   ]
  }
 ],
 "metadata": {
  "kernelspec": {
   "display_name": "base",
   "language": "python",
   "name": "python3"
  },
  "language_info": {
   "codemirror_mode": {
    "name": "ipython",
    "version": 3
   },
   "file_extension": ".py",
   "mimetype": "text/x-python",
   "name": "python",
   "nbconvert_exporter": "python",
   "pygments_lexer": "ipython3",
   "version": "3.12.7"
  }
 },
 "nbformat": 4,
 "nbformat_minor": 5
}

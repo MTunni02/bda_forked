{
  "cells": [
    {
      "cell_type": "markdown",
      "metadata": {
        "id": "bA_Wh_A6cxG5"
      },
      "source": [
        "# Part 1: Intro to dataframes"
      ]
    },
    {
      "cell_type": "markdown",
      "metadata": {
        "id": "kA12mE2acE5K"
      },
      "source": [
        "1. Pandas is an open-source Python library that offers powerful tools for data analysis. Start by creating a new DataFrame using the following dataset (defined as a dictionary):"
      ]
    },
    {
      "cell_type": "code",
      "execution_count": 3,
      "metadata": {
        "id": "ZcYR1jzCcJVR"
      },
      "outputs": [],
      "source": [
        "data = {'City': ['London', 'Athens', 'Paris', 'Rome'],\n",
        "        'Population': [8.982, 3.154, 2.1, 2.8]}"
      ]
    },
    {
      "cell_type": "code",
      "execution_count": 4,
      "metadata": {
        "colab": {
          "base_uri": "https://localhost:8080/",
          "height": 191
        },
        "id": "RwEzOH9lcOCn",
        "outputId": "44e99ddc-b4e7-4041-feba-ad42809563e4"
      },
      "outputs": [
        {
          "data": {
            "text/html": [
              "<div>\n",
              "<style scoped>\n",
              "    .dataframe tbody tr th:only-of-type {\n",
              "        vertical-align: middle;\n",
              "    }\n",
              "\n",
              "    .dataframe tbody tr th {\n",
              "        vertical-align: top;\n",
              "    }\n",
              "\n",
              "    .dataframe thead th {\n",
              "        text-align: right;\n",
              "    }\n",
              "</style>\n",
              "<table border=\"1\" class=\"dataframe\">\n",
              "  <thead>\n",
              "    <tr style=\"text-align: right;\">\n",
              "      <th></th>\n",
              "      <th>City</th>\n",
              "      <th>Population</th>\n",
              "    </tr>\n",
              "  </thead>\n",
              "  <tbody>\n",
              "    <tr>\n",
              "      <th>0</th>\n",
              "      <td>London</td>\n",
              "      <td>8.982</td>\n",
              "    </tr>\n",
              "    <tr>\n",
              "      <th>1</th>\n",
              "      <td>Athens</td>\n",
              "      <td>3.154</td>\n",
              "    </tr>\n",
              "    <tr>\n",
              "      <th>2</th>\n",
              "      <td>Paris</td>\n",
              "      <td>2.100</td>\n",
              "    </tr>\n",
              "    <tr>\n",
              "      <th>3</th>\n",
              "      <td>Rome</td>\n",
              "      <td>2.800</td>\n",
              "    </tr>\n",
              "  </tbody>\n",
              "</table>\n",
              "</div>"
            ],
            "text/plain": [
              "     City  Population\n",
              "0  London       8.982\n",
              "1  Athens       3.154\n",
              "2   Paris       2.100\n",
              "3    Rome       2.800"
            ]
          },
          "execution_count": 4,
          "metadata": {},
          "output_type": "execute_result"
        }
      ],
      "source": [
        "# Import pandas library\n",
        "import pandas as pd\n",
        "\n",
        "# Initialize data as a dictionary\n",
        "data = {\n",
        "    'City': ['London', 'Athens', 'Paris', 'Rome'],\n",
        "    'Population': [8.982, 3.154, 2.1, 2.8]\n",
        "}\n",
        "\n",
        "# Create a DataFrame from the dictionary\n",
        "df = pd.DataFrame(data)\n",
        "\n",
        "# Print dataframe\n",
        "df"
      ]
    },
    {
      "cell_type": "markdown",
      "metadata": {
        "id": "jXyZ5Znzcr3K"
      },
      "source": [
        "2. Print column name with each row (per column with rows)"
      ]
    },
    {
      "cell_type": "code",
      "execution_count": 6,
      "metadata": {
        "colab": {
          "base_uri": "https://localhost:8080/"
        },
        "id": "sOzb-ayscsUG",
        "outputId": "8fe5b83f-6d27-4e8e-fbea-036585c8208a"
      },
      "outputs": [
        {
          "name": "stdout",
          "output_type": "stream",
          "text": [
            "Row: 0; Column: City; Value: London\n",
            "Row: 0; Column: Population; Value: 8.982\n",
            "Row: 1; Column: City; Value: Athens\n",
            "Row: 1; Column: Population; Value: 3.154\n",
            "Row: 2; Column: City; Value: Paris\n",
            "Row: 2; Column: Population; Value: 2.1\n",
            "Row: 3; Column: City; Value: Rome\n",
            "Row: 3; Column: Population; Value: 2.8\n"
          ]
        }
      ],
      "source": [
        "for (index, row) in df.iterrows():\n",
        "    for column in df.columns:\n",
        "        print(f\"Row: {index}; Column: {column}; Value: {row[column]}\")"
      ]
    },
    {
      "cell_type": "markdown",
      "metadata": {
        "id": "jNTwQtuvc3hU"
      },
      "source": [
        "3. Print column `City`.\n"
      ]
    },
    {
      "cell_type": "code",
      "execution_count": 9,
      "metadata": {
        "colab": {
          "base_uri": "https://localhost:8080/"
        },
        "id": "qBYPW4DldEvs",
        "outputId": "82838a6c-bd7b-48d2-a134-7f5bc5409346"
      },
      "outputs": [
        {
          "name": "stdout",
          "output_type": "stream",
          "text": [
            "0    London\n",
            "1    Athens\n",
            "2     Paris\n",
            "3      Rome\n",
            "Name: City, dtype: object\n"
          ]
        }
      ],
      "source": [
        "print(df['City'])"
      ]
    },
    {
      "cell_type": "markdown",
      "metadata": {
        "id": "fHxya4d0dMjZ"
      },
      "source": [
        "4. Print record with index 3."
      ]
    },
    {
      "cell_type": "code",
      "execution_count": 13,
      "metadata": {
        "colab": {
          "base_uri": "https://localhost:8080/"
        },
        "id": "sABbWNY5dTNQ",
        "outputId": "22ee14c8-106a-45c0-be9d-a4110e49ac7a"
      },
      "outputs": [
        {
          "name": "stdout",
          "output_type": "stream",
          "text": [
            "City          Rome\n",
            "Population     2.8\n",
            "Name: 3, dtype: object\n"
          ]
        }
      ],
      "source": [
        "print(df.iloc[3])"
      ]
    },
    {
      "cell_type": "markdown",
      "metadata": {
        "id": "iCwgDYNLdWhl"
      },
      "source": [
        "5. Upload the file called `Biostats2.csv` and read it using the `read_csv`. Print the data and have a look at the values."
      ]
    },
    {
      "cell_type": "code",
      "execution_count": 14,
      "metadata": {
        "colab": {
          "base_uri": "https://localhost:8080/",
          "height": 618
        },
        "id": "MTfdxQAed12f",
        "outputId": "709a1efc-bf11-46a0-eb2a-d235be891a11"
      },
      "outputs": [
        {
          "data": {
            "text/plain": [
              "<bound method NDFrame.head of     Name Sex   Age  Height(in)  Weight(lbs)\n",
              "0   Alex   M  41.0        74.0        170.0\n",
              "1   Bert   M  42.0        68.0        166.0\n",
              "2   Dave   M  32.0        70.0        155.0\n",
              "3   Dave   M   NaN        72.0        167.0\n",
              "4   Elly   F  30.0        66.0        124.0\n",
              "5   Fran   F  33.0        66.0        115.0\n",
              "6   Gwen   F  26.0        64.0        121.0\n",
              "7   Hank   M   NaN        71.0          NaN\n",
              "8   Luke   M  53.0        72.0        175.0\n",
              "9   Jake   M  32.0        69.0        143.0\n",
              "10  Kate   F  47.0        69.0        139.0\n",
              "11  Luke   M   NaN        72.0        163.0\n",
              "12  Myra   F  23.0         NaN         98.0\n",
              "13  Neil   M  36.0        75.0        160.0\n",
              "14  Omar   M  38.0        70.0        145.0\n",
              "15  Page   F  31.0        67.0        135.0\n",
              "16  Luke   M  29.0        71.0          NaN\n",
              "17  Ruth   F  28.0        65.0        131.0>"
            ]
          },
          "execution_count": 14,
          "metadata": {},
          "output_type": "execute_result"
        }
      ],
      "source": [
        "df2 = pd.read_csv('Biostats2.csv')\n",
        "df2.head"
      ]
    },
    {
      "cell_type": "markdown",
      "metadata": {
        "id": "oU1ig6-CeDkm"
      },
      "source": [
        "`.iloc` → Index-based selection (integer position)"
      ]
    },
    {
      "cell_type": "code",
      "execution_count": 15,
      "metadata": {
        "colab": {
          "base_uri": "https://localhost:8080/"
        },
        "id": "-bZANs0-eFhH",
        "outputId": "50d4b735-771d-4207-b26b-8091386fb966"
      },
      "outputs": [
        {
          "name": "stdout",
          "output_type": "stream",
          "text": [
            "City          Paris\n",
            "Population      2.1\n",
            "Name: 2, dtype: object\n",
            "2.1\n"
          ]
        }
      ],
      "source": [
        "print(df.iloc[2])         # Row at position 2 (i.e., 3rd row)\n",
        "print(df.iloc[2, 1])      # Value in 3rd row, 2nd column"
      ]
    },
    {
      "cell_type": "markdown",
      "metadata": {
        "id": "XpAYwAeteBz8"
      },
      "source": [
        "`.loc` → Label-based selection"
      ]
    },
    {
      "cell_type": "code",
      "execution_count": null,
      "metadata": {
        "colab": {
          "base_uri": "https://localhost:8080/"
        },
        "id": "IdlRqFsQeZDc",
        "outputId": "2f6e4c60-f8f9-4dd1-be79-f21f3aed884e"
      },
      "outputs": [
        {
          "name": "stdout",
          "output_type": "stream",
          "text": [
            "Name            Dave\n",
            "Sex                M\n",
            "Age             32.0\n",
            "Height(in)      70.0\n",
            "Weight(lbs)    155.0\n",
            "Name: 2, dtype: object\n",
            "32.0\n"
          ]
        }
      ],
      "source": [
        "print(df.loc[2])          # Row with label/index 2\n",
        "print(df.loc[2, 'Age'])   # Value in row 2, column 'City'"
      ]
    },
    {
      "cell_type": "markdown",
      "metadata": {
        "id": "n1-FsWu-emrk"
      },
      "source": [
        "| Feature   | `.iloc`             | `.loc`                    |\n",
        "| --------- | ------------------- | ------------------------- |\n",
        "| Based on  | Integer position    | Label/index name          |\n",
        "| Accepts   | ints, slices, lists | labels, slices, lists     |\n",
        "| Errors if | Index out of range  | Label not found           |\n",
        "| Example   | `df.iloc[0, 1]`     | `df.loc[0, 'Population']` |\n"
      ]
    },
    {
      "cell_type": "code",
      "execution_count": 17,
      "metadata": {
        "colab": {
          "base_uri": "https://localhost:8080/",
          "height": 618
        },
        "id": "4hesXbsFenOi",
        "outputId": "f2bf8b67-89ed-4b36-fa70-d2d328742fef"
      },
      "outputs": [
        {
          "data": {
            "text/html": [
              "<div>\n",
              "<style scoped>\n",
              "    .dataframe tbody tr th:only-of-type {\n",
              "        vertical-align: middle;\n",
              "    }\n",
              "\n",
              "    .dataframe tbody tr th {\n",
              "        vertical-align: top;\n",
              "    }\n",
              "\n",
              "    .dataframe thead th {\n",
              "        text-align: right;\n",
              "    }\n",
              "</style>\n",
              "<table border=\"1\" class=\"dataframe\">\n",
              "  <thead>\n",
              "    <tr style=\"text-align: right;\">\n",
              "      <th></th>\n",
              "      <th>Name</th>\n",
              "      <th>Sex</th>\n",
              "      <th>Age</th>\n",
              "      <th>Height(in)</th>\n",
              "      <th>Weight(lbs)</th>\n",
              "    </tr>\n",
              "  </thead>\n",
              "  <tbody>\n",
              "    <tr>\n",
              "      <th>0</th>\n",
              "      <td>Alex</td>\n",
              "      <td>M</td>\n",
              "      <td>41.0</td>\n",
              "      <td>74.0</td>\n",
              "      <td>170.0</td>\n",
              "    </tr>\n",
              "    <tr>\n",
              "      <th>1</th>\n",
              "      <td>Bert</td>\n",
              "      <td>M</td>\n",
              "      <td>42.0</td>\n",
              "      <td>68.0</td>\n",
              "      <td>166.0</td>\n",
              "    </tr>\n",
              "    <tr>\n",
              "      <th>2</th>\n",
              "      <td>Dave</td>\n",
              "      <td>M</td>\n",
              "      <td>32.0</td>\n",
              "      <td>70.0</td>\n",
              "      <td>155.0</td>\n",
              "    </tr>\n",
              "    <tr>\n",
              "      <th>3</th>\n",
              "      <td>Dave</td>\n",
              "      <td>M</td>\n",
              "      <td>NaN</td>\n",
              "      <td>72.0</td>\n",
              "      <td>167.0</td>\n",
              "    </tr>\n",
              "    <tr>\n",
              "      <th>4</th>\n",
              "      <td>Elly</td>\n",
              "      <td>F</td>\n",
              "      <td>30.0</td>\n",
              "      <td>66.0</td>\n",
              "      <td>124.0</td>\n",
              "    </tr>\n",
              "    <tr>\n",
              "      <th>5</th>\n",
              "      <td>Fran</td>\n",
              "      <td>F</td>\n",
              "      <td>33.0</td>\n",
              "      <td>66.0</td>\n",
              "      <td>115.0</td>\n",
              "    </tr>\n",
              "    <tr>\n",
              "      <th>6</th>\n",
              "      <td>Gwen</td>\n",
              "      <td>F</td>\n",
              "      <td>26.0</td>\n",
              "      <td>64.0</td>\n",
              "      <td>121.0</td>\n",
              "    </tr>\n",
              "    <tr>\n",
              "      <th>7</th>\n",
              "      <td>Hank</td>\n",
              "      <td>M</td>\n",
              "      <td>NaN</td>\n",
              "      <td>71.0</td>\n",
              "      <td>NaN</td>\n",
              "    </tr>\n",
              "    <tr>\n",
              "      <th>8</th>\n",
              "      <td>Luke</td>\n",
              "      <td>M</td>\n",
              "      <td>53.0</td>\n",
              "      <td>72.0</td>\n",
              "      <td>175.0</td>\n",
              "    </tr>\n",
              "    <tr>\n",
              "      <th>9</th>\n",
              "      <td>Jake</td>\n",
              "      <td>M</td>\n",
              "      <td>32.0</td>\n",
              "      <td>69.0</td>\n",
              "      <td>143.0</td>\n",
              "    </tr>\n",
              "    <tr>\n",
              "      <th>10</th>\n",
              "      <td>Kate</td>\n",
              "      <td>F</td>\n",
              "      <td>47.0</td>\n",
              "      <td>69.0</td>\n",
              "      <td>139.0</td>\n",
              "    </tr>\n",
              "    <tr>\n",
              "      <th>11</th>\n",
              "      <td>Luke</td>\n",
              "      <td>M</td>\n",
              "      <td>NaN</td>\n",
              "      <td>72.0</td>\n",
              "      <td>163.0</td>\n",
              "    </tr>\n",
              "    <tr>\n",
              "      <th>12</th>\n",
              "      <td>Myra</td>\n",
              "      <td>F</td>\n",
              "      <td>23.0</td>\n",
              "      <td>NaN</td>\n",
              "      <td>98.0</td>\n",
              "    </tr>\n",
              "    <tr>\n",
              "      <th>13</th>\n",
              "      <td>Neil</td>\n",
              "      <td>M</td>\n",
              "      <td>36.0</td>\n",
              "      <td>75.0</td>\n",
              "      <td>160.0</td>\n",
              "    </tr>\n",
              "    <tr>\n",
              "      <th>14</th>\n",
              "      <td>Omar</td>\n",
              "      <td>M</td>\n",
              "      <td>38.0</td>\n",
              "      <td>70.0</td>\n",
              "      <td>145.0</td>\n",
              "    </tr>\n",
              "    <tr>\n",
              "      <th>15</th>\n",
              "      <td>Page</td>\n",
              "      <td>F</td>\n",
              "      <td>31.0</td>\n",
              "      <td>67.0</td>\n",
              "      <td>135.0</td>\n",
              "    </tr>\n",
              "    <tr>\n",
              "      <th>16</th>\n",
              "      <td>Luke</td>\n",
              "      <td>M</td>\n",
              "      <td>29.0</td>\n",
              "      <td>71.0</td>\n",
              "      <td>NaN</td>\n",
              "    </tr>\n",
              "    <tr>\n",
              "      <th>17</th>\n",
              "      <td>Ruth</td>\n",
              "      <td>F</td>\n",
              "      <td>28.0</td>\n",
              "      <td>65.0</td>\n",
              "      <td>131.0</td>\n",
              "    </tr>\n",
              "  </tbody>\n",
              "</table>\n",
              "</div>"
            ],
            "text/plain": [
              "    Name Sex   Age  Height(in)  Weight(lbs)\n",
              "0   Alex   M  41.0        74.0        170.0\n",
              "1   Bert   M  42.0        68.0        166.0\n",
              "2   Dave   M  32.0        70.0        155.0\n",
              "3   Dave   M   NaN        72.0        167.0\n",
              "4   Elly   F  30.0        66.0        124.0\n",
              "5   Fran   F  33.0        66.0        115.0\n",
              "6   Gwen   F  26.0        64.0        121.0\n",
              "7   Hank   M   NaN        71.0          NaN\n",
              "8   Luke   M  53.0        72.0        175.0\n",
              "9   Jake   M  32.0        69.0        143.0\n",
              "10  Kate   F  47.0        69.0        139.0\n",
              "11  Luke   M   NaN        72.0        163.0\n",
              "12  Myra   F  23.0         NaN         98.0\n",
              "13  Neil   M  36.0        75.0        160.0\n",
              "14  Omar   M  38.0        70.0        145.0\n",
              "15  Page   F  31.0        67.0        135.0\n",
              "16  Luke   M  29.0        71.0          NaN\n",
              "17  Ruth   F  28.0        65.0        131.0"
            ]
          },
          "execution_count": 17,
          "metadata": {},
          "output_type": "execute_result"
        }
      ],
      "source": [
        "df2"
      ]
    },
    {
      "cell_type": "markdown",
      "metadata": {
        "id": "kTi89q5EewvI"
      },
      "source": [
        "6. Extract the `female` users."
      ]
    },
    {
      "cell_type": "code",
      "execution_count": 25,
      "metadata": {
        "colab": {
          "base_uri": "https://localhost:8080/",
          "height": 282
        },
        "id": "PYlDAYZKeuYr",
        "outputId": "d849404a-b068-4ceb-be8e-e19c7220b9e0"
      },
      "outputs": [
        {
          "data": {
            "text/html": [
              "<div>\n",
              "<style scoped>\n",
              "    .dataframe tbody tr th:only-of-type {\n",
              "        vertical-align: middle;\n",
              "    }\n",
              "\n",
              "    .dataframe tbody tr th {\n",
              "        vertical-align: top;\n",
              "    }\n",
              "\n",
              "    .dataframe thead th {\n",
              "        text-align: right;\n",
              "    }\n",
              "</style>\n",
              "<table border=\"1\" class=\"dataframe\">\n",
              "  <thead>\n",
              "    <tr style=\"text-align: right;\">\n",
              "      <th></th>\n",
              "      <th>Name</th>\n",
              "      <th>Sex</th>\n",
              "      <th>Age</th>\n",
              "      <th>Height(in)</th>\n",
              "      <th>Weight(lbs)</th>\n",
              "    </tr>\n",
              "  </thead>\n",
              "  <tbody>\n",
              "    <tr>\n",
              "      <th>4</th>\n",
              "      <td>Elly</td>\n",
              "      <td>F</td>\n",
              "      <td>30.0</td>\n",
              "      <td>66.0</td>\n",
              "      <td>124.0</td>\n",
              "    </tr>\n",
              "    <tr>\n",
              "      <th>5</th>\n",
              "      <td>Fran</td>\n",
              "      <td>F</td>\n",
              "      <td>33.0</td>\n",
              "      <td>66.0</td>\n",
              "      <td>115.0</td>\n",
              "    </tr>\n",
              "    <tr>\n",
              "      <th>6</th>\n",
              "      <td>Gwen</td>\n",
              "      <td>F</td>\n",
              "      <td>26.0</td>\n",
              "      <td>64.0</td>\n",
              "      <td>121.0</td>\n",
              "    </tr>\n",
              "    <tr>\n",
              "      <th>10</th>\n",
              "      <td>Kate</td>\n",
              "      <td>F</td>\n",
              "      <td>47.0</td>\n",
              "      <td>69.0</td>\n",
              "      <td>139.0</td>\n",
              "    </tr>\n",
              "    <tr>\n",
              "      <th>12</th>\n",
              "      <td>Myra</td>\n",
              "      <td>F</td>\n",
              "      <td>23.0</td>\n",
              "      <td>NaN</td>\n",
              "      <td>98.0</td>\n",
              "    </tr>\n",
              "    <tr>\n",
              "      <th>15</th>\n",
              "      <td>Page</td>\n",
              "      <td>F</td>\n",
              "      <td>31.0</td>\n",
              "      <td>67.0</td>\n",
              "      <td>135.0</td>\n",
              "    </tr>\n",
              "    <tr>\n",
              "      <th>17</th>\n",
              "      <td>Ruth</td>\n",
              "      <td>F</td>\n",
              "      <td>28.0</td>\n",
              "      <td>65.0</td>\n",
              "      <td>131.0</td>\n",
              "    </tr>\n",
              "  </tbody>\n",
              "</table>\n",
              "</div>"
            ],
            "text/plain": [
              "    Name Sex   Age  Height(in)  Weight(lbs)\n",
              "4   Elly   F  30.0        66.0        124.0\n",
              "5   Fran   F  33.0        66.0        115.0\n",
              "6   Gwen   F  26.0        64.0        121.0\n",
              "10  Kate   F  47.0        69.0        139.0\n",
              "12  Myra   F  23.0         NaN         98.0\n",
              "15  Page   F  31.0        67.0        135.0\n",
              "17  Ruth   F  28.0        65.0        131.0"
            ]
          },
          "execution_count": 25,
          "metadata": {},
          "output_type": "execute_result"
        }
      ],
      "source": [
        "query = df2['Sex'] == 'F'\n",
        "df2.loc[query]"
      ]
    },
    {
      "cell_type": "markdown",
      "metadata": {
        "id": "o8PNC4WWe26q"
      },
      "source": [
        "7. Extract all the data from columns `Name`, `Sex` and `Age`."
      ]
    },
    {
      "cell_type": "code",
      "execution_count": 31,
      "metadata": {
        "colab": {
          "base_uri": "https://localhost:8080/",
          "height": 618
        },
        "id": "kNbt7N80fMj8",
        "outputId": "9b6cb73b-7e5d-480f-e54f-d983ee216a85"
      },
      "outputs": [
        {
          "data": {
            "text/html": [
              "<div>\n",
              "<style scoped>\n",
              "    .dataframe tbody tr th:only-of-type {\n",
              "        vertical-align: middle;\n",
              "    }\n",
              "\n",
              "    .dataframe tbody tr th {\n",
              "        vertical-align: top;\n",
              "    }\n",
              "\n",
              "    .dataframe thead th {\n",
              "        text-align: right;\n",
              "    }\n",
              "</style>\n",
              "<table border=\"1\" class=\"dataframe\">\n",
              "  <thead>\n",
              "    <tr style=\"text-align: right;\">\n",
              "      <th></th>\n",
              "      <th>Name</th>\n",
              "      <th>Sex</th>\n",
              "      <th>Age</th>\n",
              "    </tr>\n",
              "  </thead>\n",
              "  <tbody>\n",
              "    <tr>\n",
              "      <th>0</th>\n",
              "      <td>Alex</td>\n",
              "      <td>M</td>\n",
              "      <td>41.0</td>\n",
              "    </tr>\n",
              "    <tr>\n",
              "      <th>1</th>\n",
              "      <td>Bert</td>\n",
              "      <td>M</td>\n",
              "      <td>42.0</td>\n",
              "    </tr>\n",
              "    <tr>\n",
              "      <th>2</th>\n",
              "      <td>Dave</td>\n",
              "      <td>M</td>\n",
              "      <td>32.0</td>\n",
              "    </tr>\n",
              "    <tr>\n",
              "      <th>3</th>\n",
              "      <td>Dave</td>\n",
              "      <td>M</td>\n",
              "      <td>NaN</td>\n",
              "    </tr>\n",
              "    <tr>\n",
              "      <th>4</th>\n",
              "      <td>Elly</td>\n",
              "      <td>F</td>\n",
              "      <td>30.0</td>\n",
              "    </tr>\n",
              "    <tr>\n",
              "      <th>5</th>\n",
              "      <td>Fran</td>\n",
              "      <td>F</td>\n",
              "      <td>33.0</td>\n",
              "    </tr>\n",
              "    <tr>\n",
              "      <th>6</th>\n",
              "      <td>Gwen</td>\n",
              "      <td>F</td>\n",
              "      <td>26.0</td>\n",
              "    </tr>\n",
              "    <tr>\n",
              "      <th>7</th>\n",
              "      <td>Hank</td>\n",
              "      <td>M</td>\n",
              "      <td>NaN</td>\n",
              "    </tr>\n",
              "    <tr>\n",
              "      <th>8</th>\n",
              "      <td>Luke</td>\n",
              "      <td>M</td>\n",
              "      <td>53.0</td>\n",
              "    </tr>\n",
              "    <tr>\n",
              "      <th>9</th>\n",
              "      <td>Jake</td>\n",
              "      <td>M</td>\n",
              "      <td>32.0</td>\n",
              "    </tr>\n",
              "    <tr>\n",
              "      <th>10</th>\n",
              "      <td>Kate</td>\n",
              "      <td>F</td>\n",
              "      <td>47.0</td>\n",
              "    </tr>\n",
              "    <tr>\n",
              "      <th>11</th>\n",
              "      <td>Luke</td>\n",
              "      <td>M</td>\n",
              "      <td>NaN</td>\n",
              "    </tr>\n",
              "    <tr>\n",
              "      <th>12</th>\n",
              "      <td>Myra</td>\n",
              "      <td>F</td>\n",
              "      <td>23.0</td>\n",
              "    </tr>\n",
              "    <tr>\n",
              "      <th>13</th>\n",
              "      <td>Neil</td>\n",
              "      <td>M</td>\n",
              "      <td>36.0</td>\n",
              "    </tr>\n",
              "    <tr>\n",
              "      <th>14</th>\n",
              "      <td>Omar</td>\n",
              "      <td>M</td>\n",
              "      <td>38.0</td>\n",
              "    </tr>\n",
              "    <tr>\n",
              "      <th>15</th>\n",
              "      <td>Page</td>\n",
              "      <td>F</td>\n",
              "      <td>31.0</td>\n",
              "    </tr>\n",
              "    <tr>\n",
              "      <th>16</th>\n",
              "      <td>Luke</td>\n",
              "      <td>M</td>\n",
              "      <td>29.0</td>\n",
              "    </tr>\n",
              "    <tr>\n",
              "      <th>17</th>\n",
              "      <td>Ruth</td>\n",
              "      <td>F</td>\n",
              "      <td>28.0</td>\n",
              "    </tr>\n",
              "  </tbody>\n",
              "</table>\n",
              "</div>"
            ],
            "text/plain": [
              "    Name Sex   Age\n",
              "0   Alex   M  41.0\n",
              "1   Bert   M  42.0\n",
              "2   Dave   M  32.0\n",
              "3   Dave   M   NaN\n",
              "4   Elly   F  30.0\n",
              "5   Fran   F  33.0\n",
              "6   Gwen   F  26.0\n",
              "7   Hank   M   NaN\n",
              "8   Luke   M  53.0\n",
              "9   Jake   M  32.0\n",
              "10  Kate   F  47.0\n",
              "11  Luke   M   NaN\n",
              "12  Myra   F  23.0\n",
              "13  Neil   M  36.0\n",
              "14  Omar   M  38.0\n",
              "15  Page   F  31.0\n",
              "16  Luke   M  29.0\n",
              "17  Ruth   F  28.0"
            ]
          },
          "execution_count": 31,
          "metadata": {},
          "output_type": "execute_result"
        }
      ],
      "source": [
        "query = ['Name','Sex','Age']\n",
        "df2[query]"
      ]
    },
    {
      "cell_type": "markdown",
      "metadata": {
        "id": "adtBMKFmfnb9"
      },
      "source": [
        "8. Filter the dataset to display the names of male employees."
      ]
    },
    {
      "cell_type": "code",
      "execution_count": 34,
      "metadata": {
        "colab": {
          "base_uri": "https://localhost:8080/",
          "height": 438
        },
        "id": "a70Jbrlbfo_U",
        "outputId": "4e095e5f-5859-4689-c054-26f058cc747c"
      },
      "outputs": [
        {
          "data": {
            "text/plain": [
              "0     Alex\n",
              "1     Bert\n",
              "2     Dave\n",
              "3     Dave\n",
              "7     Hank\n",
              "8     Luke\n",
              "9     Jake\n",
              "11    Luke\n",
              "13    Neil\n",
              "14    Omar\n",
              "16    Luke\n",
              "Name: Name, dtype: object"
            ]
          },
          "execution_count": 34,
          "metadata": {},
          "output_type": "execute_result"
        }
      ],
      "source": [
        "male = df2[\"Sex\"] == \"M\"\n",
        "df2[male]['Name']"
      ]
    },
    {
      "cell_type": "markdown",
      "metadata": {
        "id": "KqykHypEgBx7"
      },
      "source": [
        "9. Filter the dataset to display records of female employees who are 33 years old."
      ]
    },
    {
      "cell_type": "code",
      "execution_count": 35,
      "metadata": {
        "colab": {
          "base_uri": "https://localhost:8080/",
          "height": 100
        },
        "id": "UABGy9qggEZI",
        "outputId": "4de70172-dc77-4ec6-a327-17083fbf1a75"
      },
      "outputs": [
        {
          "data": {
            "text/html": [
              "<div>\n",
              "<style scoped>\n",
              "    .dataframe tbody tr th:only-of-type {\n",
              "        vertical-align: middle;\n",
              "    }\n",
              "\n",
              "    .dataframe tbody tr th {\n",
              "        vertical-align: top;\n",
              "    }\n",
              "\n",
              "    .dataframe thead th {\n",
              "        text-align: right;\n",
              "    }\n",
              "</style>\n",
              "<table border=\"1\" class=\"dataframe\">\n",
              "  <thead>\n",
              "    <tr style=\"text-align: right;\">\n",
              "      <th></th>\n",
              "      <th>Name</th>\n",
              "      <th>Sex</th>\n",
              "      <th>Age</th>\n",
              "      <th>Height(in)</th>\n",
              "      <th>Weight(lbs)</th>\n",
              "    </tr>\n",
              "  </thead>\n",
              "  <tbody>\n",
              "    <tr>\n",
              "      <th>5</th>\n",
              "      <td>Fran</td>\n",
              "      <td>F</td>\n",
              "      <td>33.0</td>\n",
              "      <td>66.0</td>\n",
              "      <td>115.0</td>\n",
              "    </tr>\n",
              "  </tbody>\n",
              "</table>\n",
              "</div>"
            ],
            "text/plain": [
              "   Name Sex   Age  Height(in)  Weight(lbs)\n",
              "5  Fran   F  33.0        66.0        115.0"
            ]
          },
          "execution_count": 35,
          "metadata": {},
          "output_type": "execute_result"
        }
      ],
      "source": [
        "female = df2['Sex'] == 'F'\n",
        "age = df2['Age'] == 33\n",
        "\n",
        "df2[female & age]"
      ]
    },
    {
      "cell_type": "markdown",
      "metadata": {
        "id": "SGGme_3RgiGk"
      },
      "source": [
        "10. Check if there are any employees named Luke or Kate in the dataset. Print the employee data."
      ]
    },
    {
      "cell_type": "code",
      "execution_count": 36,
      "metadata": {
        "colab": {
          "base_uri": "https://localhost:8080/",
          "height": 191
        },
        "id": "37ikgeg9goQ4",
        "outputId": "d595f864-b8de-485c-bdb7-70b913dd4a7a"
      },
      "outputs": [
        {
          "data": {
            "text/html": [
              "<div>\n",
              "<style scoped>\n",
              "    .dataframe tbody tr th:only-of-type {\n",
              "        vertical-align: middle;\n",
              "    }\n",
              "\n",
              "    .dataframe tbody tr th {\n",
              "        vertical-align: top;\n",
              "    }\n",
              "\n",
              "    .dataframe thead th {\n",
              "        text-align: right;\n",
              "    }\n",
              "</style>\n",
              "<table border=\"1\" class=\"dataframe\">\n",
              "  <thead>\n",
              "    <tr style=\"text-align: right;\">\n",
              "      <th></th>\n",
              "      <th>Name</th>\n",
              "      <th>Sex</th>\n",
              "      <th>Age</th>\n",
              "      <th>Height(in)</th>\n",
              "      <th>Weight(lbs)</th>\n",
              "    </tr>\n",
              "  </thead>\n",
              "  <tbody>\n",
              "    <tr>\n",
              "      <th>8</th>\n",
              "      <td>Luke</td>\n",
              "      <td>M</td>\n",
              "      <td>53.0</td>\n",
              "      <td>72.0</td>\n",
              "      <td>175.0</td>\n",
              "    </tr>\n",
              "    <tr>\n",
              "      <th>10</th>\n",
              "      <td>Kate</td>\n",
              "      <td>F</td>\n",
              "      <td>47.0</td>\n",
              "      <td>69.0</td>\n",
              "      <td>139.0</td>\n",
              "    </tr>\n",
              "    <tr>\n",
              "      <th>11</th>\n",
              "      <td>Luke</td>\n",
              "      <td>M</td>\n",
              "      <td>NaN</td>\n",
              "      <td>72.0</td>\n",
              "      <td>163.0</td>\n",
              "    </tr>\n",
              "    <tr>\n",
              "      <th>16</th>\n",
              "      <td>Luke</td>\n",
              "      <td>M</td>\n",
              "      <td>29.0</td>\n",
              "      <td>71.0</td>\n",
              "      <td>NaN</td>\n",
              "    </tr>\n",
              "  </tbody>\n",
              "</table>\n",
              "</div>"
            ],
            "text/plain": [
              "    Name Sex   Age  Height(in)  Weight(lbs)\n",
              "8   Luke   M  53.0        72.0        175.0\n",
              "10  Kate   F  47.0        69.0        139.0\n",
              "11  Luke   M   NaN        72.0        163.0\n",
              "16  Luke   M  29.0        71.0          NaN"
            ]
          },
          "execution_count": 36,
          "metadata": {},
          "output_type": "execute_result"
        }
      ],
      "source": [
        "Luke = df2['Name'] == 'Luke'\n",
        "Kate = df2['Name'] == 'Kate'\n",
        "\n",
        "df2[Luke|Kate]"
      ]
    },
    {
      "cell_type": "markdown",
      "metadata": {
        "id": "ekD-NVnfg0iP"
      },
      "source": [
        "11. Use the `describe` method to explore stats."
      ]
    },
    {
      "cell_type": "code",
      "execution_count": 38,
      "metadata": {
        "colab": {
          "base_uri": "https://localhost:8080/",
          "height": 313
        },
        "id": "I-MrOK2pg5jq",
        "outputId": "00e7c153-257b-44e2-f731-db1fbbc95a17"
      },
      "outputs": [
        {
          "data": {
            "text/html": [
              "<div>\n",
              "<style scoped>\n",
              "    .dataframe tbody tr th:only-of-type {\n",
              "        vertical-align: middle;\n",
              "    }\n",
              "\n",
              "    .dataframe tbody tr th {\n",
              "        vertical-align: top;\n",
              "    }\n",
              "\n",
              "    .dataframe thead th {\n",
              "        text-align: right;\n",
              "    }\n",
              "</style>\n",
              "<table border=\"1\" class=\"dataframe\">\n",
              "  <thead>\n",
              "    <tr style=\"text-align: right;\">\n",
              "      <th></th>\n",
              "      <th>Age</th>\n",
              "      <th>Height(in)</th>\n",
              "      <th>Weight(lbs)</th>\n",
              "    </tr>\n",
              "  </thead>\n",
              "  <tbody>\n",
              "    <tr>\n",
              "      <th>count</th>\n",
              "      <td>15.000000</td>\n",
              "      <td>17.000000</td>\n",
              "      <td>16.000000</td>\n",
              "    </tr>\n",
              "    <tr>\n",
              "      <th>mean</th>\n",
              "      <td>34.733333</td>\n",
              "      <td>69.470588</td>\n",
              "      <td>144.187500</td>\n",
              "    </tr>\n",
              "    <tr>\n",
              "      <th>std</th>\n",
              "      <td>8.171961</td>\n",
              "      <td>3.144790</td>\n",
              "      <td>22.435742</td>\n",
              "    </tr>\n",
              "    <tr>\n",
              "      <th>min</th>\n",
              "      <td>23.000000</td>\n",
              "      <td>64.000000</td>\n",
              "      <td>98.000000</td>\n",
              "    </tr>\n",
              "    <tr>\n",
              "      <th>25%</th>\n",
              "      <td>29.500000</td>\n",
              "      <td>67.000000</td>\n",
              "      <td>129.250000</td>\n",
              "    </tr>\n",
              "    <tr>\n",
              "      <th>50%</th>\n",
              "      <td>32.000000</td>\n",
              "      <td>70.000000</td>\n",
              "      <td>144.000000</td>\n",
              "    </tr>\n",
              "    <tr>\n",
              "      <th>75%</th>\n",
              "      <td>39.500000</td>\n",
              "      <td>72.000000</td>\n",
              "      <td>163.750000</td>\n",
              "    </tr>\n",
              "    <tr>\n",
              "      <th>max</th>\n",
              "      <td>53.000000</td>\n",
              "      <td>75.000000</td>\n",
              "      <td>175.000000</td>\n",
              "    </tr>\n",
              "  </tbody>\n",
              "</table>\n",
              "</div>"
            ],
            "text/plain": [
              "             Age  Height(in)  Weight(lbs)\n",
              "count  15.000000   17.000000    16.000000\n",
              "mean   34.733333   69.470588   144.187500\n",
              "std     8.171961    3.144790    22.435742\n",
              "min    23.000000   64.000000    98.000000\n",
              "25%    29.500000   67.000000   129.250000\n",
              "50%    32.000000   70.000000   144.000000\n",
              "75%    39.500000   72.000000   163.750000\n",
              "max    53.000000   75.000000   175.000000"
            ]
          },
          "execution_count": 38,
          "metadata": {},
          "output_type": "execute_result"
        }
      ],
      "source": [
        "df2.describe()"
      ]
    },
    {
      "cell_type": "markdown",
      "metadata": {
        "id": "rROYsXAGg8AD"
      },
      "source": [
        "12. Use the groupby method to count the number of male and female employees in the dataset. Print the results."
      ]
    },
    {
      "cell_type": "code",
      "execution_count": 42,
      "metadata": {
        "colab": {
          "base_uri": "https://localhost:8080/",
          "height": 160
        },
        "id": "f0qLWO2-g8Kw",
        "outputId": "c845407d-3552-4780-8810-6fd7fb0afd43"
      },
      "outputs": [
        {
          "data": {
            "text/html": [
              "<div>\n",
              "<style scoped>\n",
              "    .dataframe tbody tr th:only-of-type {\n",
              "        vertical-align: middle;\n",
              "    }\n",
              "\n",
              "    .dataframe tbody tr th {\n",
              "        vertical-align: top;\n",
              "    }\n",
              "\n",
              "    .dataframe thead th {\n",
              "        text-align: right;\n",
              "    }\n",
              "</style>\n",
              "<table border=\"1\" class=\"dataframe\">\n",
              "  <thead>\n",
              "    <tr style=\"text-align: right;\">\n",
              "      <th></th>\n",
              "      <th>Name</th>\n",
              "    </tr>\n",
              "    <tr>\n",
              "      <th>Sex</th>\n",
              "      <th></th>\n",
              "    </tr>\n",
              "  </thead>\n",
              "  <tbody>\n",
              "    <tr>\n",
              "      <th>F</th>\n",
              "      <td>7</td>\n",
              "    </tr>\n",
              "    <tr>\n",
              "      <th>M</th>\n",
              "      <td>11</td>\n",
              "    </tr>\n",
              "  </tbody>\n",
              "</table>\n",
              "</div>"
            ],
            "text/plain": [
              "     Name\n",
              "Sex      \n",
              "F       7\n",
              "M      11"
            ]
          },
          "execution_count": 42,
          "metadata": {},
          "output_type": "execute_result"
        }
      ],
      "source": [
        "df2.groupby(['Sex']).count().filter(['Name'])"
      ]
    },
    {
      "cell_type": "markdown",
      "metadata": {
        "id": "XXkfG2w4hM2m"
      },
      "source": [
        "13. Count the number of missing (empty) values in the Age column."
      ]
    },
    {
      "cell_type": "code",
      "execution_count": 45,
      "metadata": {
        "colab": {
          "base_uri": "https://localhost:8080/",
          "height": 254
        },
        "id": "WqyXcBaMhRBd",
        "outputId": "a8332a3b-b050-4913-8413-5c46420f2204"
      },
      "outputs": [
        {
          "name": "stdout",
          "output_type": "stream",
          "text": [
            "3\n"
          ]
        }
      ],
      "source": [
        "nulls = df2['Age'].isnull().sum()\n",
        "print(nulls)"
      ]
    },
    {
      "cell_type": "markdown",
      "metadata": {
        "id": "7jB15cDVhaDq"
      },
      "source": [
        "14. Who is the oldest employee?"
      ]
    },
    {
      "cell_type": "code",
      "execution_count": 50,
      "metadata": {
        "colab": {
          "base_uri": "https://localhost:8080/",
          "height": 133
        },
        "id": "4RT3FCLlhdwc",
        "outputId": "e07e37f6-9aaf-4460-ad8e-f872b24da9cc"
      },
      "outputs": [
        {
          "name": "stdout",
          "output_type": "stream",
          "text": [
            "8    Luke\n",
            "Name: Name, dtype: object\n"
          ]
        }
      ],
      "source": [
        "max_age = df2[\"Age\"].max()\n",
        "query = df2[df2[\"Age\"] == max_age]\n",
        "print(query[\"Name\"])"
      ]
    },
    {
      "cell_type": "markdown",
      "metadata": {
        "id": "T0OINkBIh1wD"
      },
      "source": [
        "15. Filter the dataset to find users whose height is between 70 and 75 inches (inclusive)."
      ]
    },
    {
      "cell_type": "code",
      "execution_count": 54,
      "metadata": {
        "colab": {
          "base_uri": "https://localhost:8080/",
          "height": 343
        },
        "id": "_DnS0uPWiCC8",
        "outputId": "1a2dc5bf-2206-434d-e8f1-b63d9445b72e"
      },
      "outputs": [
        {
          "name": "stdout",
          "output_type": "stream",
          "text": [
            "    Name Sex   Age  Height(in)  Weight(lbs)\n",
            "0   Alex   M  41.0        74.0        170.0\n",
            "2   Dave   M  32.0        70.0        155.0\n",
            "3   Dave   M   NaN        72.0        167.0\n",
            "7   Hank   M   NaN        71.0          NaN\n",
            "8   Luke   M  53.0        72.0        175.0\n",
            "11  Luke   M   NaN        72.0        163.0\n",
            "13  Neil   M  36.0        75.0        160.0\n",
            "14  Omar   M  38.0        70.0        145.0\n",
            "16  Luke   M  29.0        71.0          NaN\n"
          ]
        }
      ],
      "source": [
        "print(df2[(df2['Height(in)'] >= 70) & (df2['Height(in)'] <= 75)])"
      ]
    },
    {
      "cell_type": "markdown",
      "metadata": {
        "id": "kidCV_VkiYtI"
      },
      "source": [
        "# Part 2: Data cleaning"
      ]
    },
    {
      "cell_type": "markdown",
      "metadata": {
        "id": "qu8eaMUMiabS"
      },
      "source": [
        "1. Import the `Movies.csv` file."
      ]
    },
    {
      "cell_type": "code",
      "execution_count": 57,
      "metadata": {
        "colab": {
          "base_uri": "https://localhost:8080/",
          "height": 221
        },
        "id": "0JaGYC_iiiTZ",
        "outputId": "77ae8e18-11e7-4db7-e42e-4a0334f4bd97"
      },
      "outputs": [
        {
          "data": {
            "text/html": [
              "<div>\n",
              "<style scoped>\n",
              "    .dataframe tbody tr th:only-of-type {\n",
              "        vertical-align: middle;\n",
              "    }\n",
              "\n",
              "    .dataframe tbody tr th {\n",
              "        vertical-align: top;\n",
              "    }\n",
              "\n",
              "    .dataframe thead th {\n",
              "        text-align: right;\n",
              "    }\n",
              "</style>\n",
              "<table border=\"1\" class=\"dataframe\">\n",
              "  <thead>\n",
              "    <tr style=\"text-align: right;\">\n",
              "      <th></th>\n",
              "      <th>Film</th>\n",
              "      <th>Genre</th>\n",
              "      <th>Lead Studio</th>\n",
              "      <th>Audience score %</th>\n",
              "      <th>Profitability</th>\n",
              "      <th>Rotten Tomatoes %</th>\n",
              "      <th>Worldwide Gross</th>\n",
              "      <th>Year</th>\n",
              "    </tr>\n",
              "  </thead>\n",
              "  <tbody>\n",
              "    <tr>\n",
              "      <th>0</th>\n",
              "      <td>You Will Meet a Tall Dark Stranger</td>\n",
              "      <td>Comedy</td>\n",
              "      <td>Independent</td>\n",
              "      <td>35.0</td>\n",
              "      <td>1.211818</td>\n",
              "      <td>43</td>\n",
              "      <td>$26.66</td>\n",
              "      <td>2010</td>\n",
              "    </tr>\n",
              "    <tr>\n",
              "      <th>1</th>\n",
              "      <td>Love Happens</td>\n",
              "      <td>Drama</td>\n",
              "      <td>Universal</td>\n",
              "      <td>40.0</td>\n",
              "      <td>2.004444</td>\n",
              "      <td>18</td>\n",
              "      <td>$36.08</td>\n",
              "      <td>2009</td>\n",
              "    </tr>\n",
              "    <tr>\n",
              "      <th>2</th>\n",
              "      <td>The Heartbreak Kid</td>\n",
              "      <td>Comedy</td>\n",
              "      <td>Paramount</td>\n",
              "      <td>41.0</td>\n",
              "      <td>2.129444</td>\n",
              "      <td>30</td>\n",
              "      <td>$127.77</td>\n",
              "      <td>2007</td>\n",
              "    </tr>\n",
              "    <tr>\n",
              "      <th>3</th>\n",
              "      <td>When in Rome</td>\n",
              "      <td>Comedy</td>\n",
              "      <td>Disney</td>\n",
              "      <td>44.0</td>\n",
              "      <td>0.000000</td>\n",
              "      <td>15</td>\n",
              "      <td>$43.04</td>\n",
              "      <td>2010</td>\n",
              "    </tr>\n",
              "    <tr>\n",
              "      <th>4</th>\n",
              "      <td>Killers</td>\n",
              "      <td>Action</td>\n",
              "      <td>Lionsgate</td>\n",
              "      <td>45.0</td>\n",
              "      <td>1.245333</td>\n",
              "      <td>11</td>\n",
              "      <td>$93.40</td>\n",
              "      <td>2010</td>\n",
              "    </tr>\n",
              "  </tbody>\n",
              "</table>\n",
              "</div>"
            ],
            "text/plain": [
              "                                 Film   Genre  Lead Studio  Audience score %  \\\n",
              "0  You Will Meet a Tall Dark Stranger  Comedy  Independent              35.0   \n",
              "1                        Love Happens   Drama    Universal              40.0   \n",
              "2                  The Heartbreak Kid  Comedy    Paramount              41.0   \n",
              "3                        When in Rome  Comedy       Disney              44.0   \n",
              "4                             Killers  Action    Lionsgate              45.0   \n",
              "\n",
              "   Profitability  Rotten Tomatoes % Worldwide Gross  Year  \n",
              "0       1.211818                 43         $26.66   2010  \n",
              "1       2.004444                 18         $36.08   2009  \n",
              "2       2.129444                 30        $127.77   2007  \n",
              "3       0.000000                 15         $43.04   2010  \n",
              "4       1.245333                 11         $93.40   2010  "
            ]
          },
          "execution_count": 57,
          "metadata": {},
          "output_type": "execute_result"
        }
      ],
      "source": [
        "df = pd.read_csv('Movies.csv')\n",
        "df.head()"
      ]
    },
    {
      "cell_type": "markdown",
      "metadata": {
        "id": "Fb0dYizoisQu"
      },
      "source": [
        "2. Examine the data schema by printing the data type of each column. Then, provide a brief answer or comment for each data type shown."
      ]
    },
    {
      "cell_type": "code",
      "execution_count": 61,
      "metadata": {
        "colab": {
          "base_uri": "https://localhost:8080/",
          "height": 346
        },
        "id": "3-cR5KRXiy6m",
        "outputId": "f2818603-3efb-45fd-91a7-655643856ce7"
      },
      "outputs": [
        {
          "data": {
            "text/plain": [
              "Film                  object\n",
              "Genre                 object\n",
              "Lead Studio           object\n",
              "Audience score %     float64\n",
              "Profitability        float64\n",
              "Rotten Tomatoes %      int64\n",
              "Worldwide Gross       object\n",
              "Year                   int64\n",
              "dtype: object"
            ]
          },
          "execution_count": 61,
          "metadata": {},
          "output_type": "execute_result"
        }
      ],
      "source": [
        "df.dtypes"
      ]
    },
    {
      "cell_type": "markdown",
      "metadata": {
        "id": "jerhH28ui3pc"
      },
      "source": [
        "3. Continue examining the dataset by focusing on the numerical columns: Audience score %, Profitability, and Rotten Tomatoes %."
      ]
    },
    {
      "cell_type": "code",
      "execution_count": 62,
      "metadata": {
        "colab": {
          "base_uri": "https://localhost:8080/",
          "height": 313
        },
        "id": "zV-rakZqi5k0",
        "outputId": "714e09d9-e7bb-4de4-c30d-6ce364b499ce"
      },
      "outputs": [
        {
          "data": {
            "text/html": [
              "<div>\n",
              "<style scoped>\n",
              "    .dataframe tbody tr th:only-of-type {\n",
              "        vertical-align: middle;\n",
              "    }\n",
              "\n",
              "    .dataframe tbody tr th {\n",
              "        vertical-align: top;\n",
              "    }\n",
              "\n",
              "    .dataframe thead th {\n",
              "        text-align: right;\n",
              "    }\n",
              "</style>\n",
              "<table border=\"1\" class=\"dataframe\">\n",
              "  <thead>\n",
              "    <tr style=\"text-align: right;\">\n",
              "      <th></th>\n",
              "      <th>Audience score %</th>\n",
              "      <th>Profitability</th>\n",
              "      <th>Rotten Tomatoes %</th>\n",
              "      <th>Year</th>\n",
              "    </tr>\n",
              "  </thead>\n",
              "  <tbody>\n",
              "    <tr>\n",
              "      <th>count</th>\n",
              "      <td>74.000000</td>\n",
              "      <td>76.000000</td>\n",
              "      <td>76.000000</td>\n",
              "      <td>76.000000</td>\n",
              "    </tr>\n",
              "    <tr>\n",
              "      <th>mean</th>\n",
              "      <td>63.378378</td>\n",
              "      <td>4.637009</td>\n",
              "      <td>46.473684</td>\n",
              "      <td>2009.092105</td>\n",
              "    </tr>\n",
              "    <tr>\n",
              "      <th>std</th>\n",
              "      <td>13.707015</td>\n",
              "      <td>8.078562</td>\n",
              "      <td>26.191334</td>\n",
              "      <td>1.358211</td>\n",
              "    </tr>\n",
              "    <tr>\n",
              "      <th>min</th>\n",
              "      <td>35.000000</td>\n",
              "      <td>0.000000</td>\n",
              "      <td>3.000000</td>\n",
              "      <td>2007.000000</td>\n",
              "    </tr>\n",
              "    <tr>\n",
              "      <th>25%</th>\n",
              "      <td>52.000000</td>\n",
              "      <td>1.775796</td>\n",
              "      <td>26.000000</td>\n",
              "      <td>2008.000000</td>\n",
              "    </tr>\n",
              "    <tr>\n",
              "      <th>50%</th>\n",
              "      <td>63.000000</td>\n",
              "      <td>2.645711</td>\n",
              "      <td>44.000000</td>\n",
              "      <td>2009.000000</td>\n",
              "    </tr>\n",
              "    <tr>\n",
              "      <th>75%</th>\n",
              "      <td>75.500000</td>\n",
              "      <td>5.163243</td>\n",
              "      <td>63.500000</td>\n",
              "      <td>2010.000000</td>\n",
              "    </tr>\n",
              "    <tr>\n",
              "      <th>max</th>\n",
              "      <td>89.000000</td>\n",
              "      <td>66.934000</td>\n",
              "      <td>96.000000</td>\n",
              "      <td>2011.000000</td>\n",
              "    </tr>\n",
              "  </tbody>\n",
              "</table>\n",
              "</div>"
            ],
            "text/plain": [
              "       Audience score %  Profitability  Rotten Tomatoes %         Year\n",
              "count         74.000000      76.000000          76.000000    76.000000\n",
              "mean          63.378378       4.637009          46.473684  2009.092105\n",
              "std           13.707015       8.078562          26.191334     1.358211\n",
              "min           35.000000       0.000000           3.000000  2007.000000\n",
              "25%           52.000000       1.775796          26.000000  2008.000000\n",
              "50%           63.000000       2.645711          44.000000  2009.000000\n",
              "75%           75.500000       5.163243          63.500000  2010.000000\n",
              "max           89.000000      66.934000          96.000000  2011.000000"
            ]
          },
          "execution_count": 62,
          "metadata": {},
          "output_type": "execute_result"
        }
      ],
      "source": [
        "df.describe()"
      ]
    },
    {
      "cell_type": "markdown",
      "metadata": {
        "id": "ML24dqdejAnX"
      },
      "source": [
        "4. How many empty cells per record?"
      ]
    },
    {
      "cell_type": "code",
      "execution_count": 63,
      "metadata": {
        "colab": {
          "base_uri": "https://localhost:8080/",
          "height": 346
        },
        "id": "DveTdymWjGmC",
        "outputId": "749fe349-8441-489d-bd8e-3893ea23e0da"
      },
      "outputs": [
        {
          "data": {
            "text/plain": [
              "Film                 0\n",
              "Genre                0\n",
              "Lead Studio          1\n",
              "Audience score %     2\n",
              "Profitability        0\n",
              "Rotten Tomatoes %    0\n",
              "Worldwide Gross      0\n",
              "Year                 0\n",
              "dtype: int64"
            ]
          },
          "execution_count": 63,
          "metadata": {},
          "output_type": "execute_result"
        }
      ],
      "source": [
        "df.isnull().sum()"
      ]
    },
    {
      "cell_type": "markdown",
      "metadata": {
        "id": "O3MYFpQrjN6V"
      },
      "source": [
        "5. Print the empty record of the `Lead Studio` column."
      ]
    },
    {
      "cell_type": "code",
      "execution_count": 64,
      "metadata": {
        "colab": {
          "base_uri": "https://localhost:8080/",
          "height": 100
        },
        "id": "W00ugaJQjUAk",
        "outputId": "f5761522-7657-40c0-c281-589d32cc2834"
      },
      "outputs": [
        {
          "data": {
            "text/html": [
              "<div>\n",
              "<style scoped>\n",
              "    .dataframe tbody tr th:only-of-type {\n",
              "        vertical-align: middle;\n",
              "    }\n",
              "\n",
              "    .dataframe tbody tr th {\n",
              "        vertical-align: top;\n",
              "    }\n",
              "\n",
              "    .dataframe thead th {\n",
              "        text-align: right;\n",
              "    }\n",
              "</style>\n",
              "<table border=\"1\" class=\"dataframe\">\n",
              "  <thead>\n",
              "    <tr style=\"text-align: right;\">\n",
              "      <th></th>\n",
              "      <th>Film</th>\n",
              "      <th>Genre</th>\n",
              "      <th>Lead Studio</th>\n",
              "      <th>Audience score %</th>\n",
              "      <th>Profitability</th>\n",
              "      <th>Rotten Tomatoes %</th>\n",
              "      <th>Worldwide Gross</th>\n",
              "      <th>Year</th>\n",
              "    </tr>\n",
              "  </thead>\n",
              "  <tbody>\n",
              "    <tr>\n",
              "      <th>75</th>\n",
              "      <td>WALL-E</td>\n",
              "      <td>Animation</td>\n",
              "      <td>NaN</td>\n",
              "      <td>89.0</td>\n",
              "      <td>2.896019</td>\n",
              "      <td>96</td>\n",
              "      <td>$521.28</td>\n",
              "      <td>2008</td>\n",
              "    </tr>\n",
              "  </tbody>\n",
              "</table>\n",
              "</div>"
            ],
            "text/plain": [
              "      Film      Genre Lead Studio  Audience score %  Profitability  \\\n",
              "75  WALL-E  Animation         NaN              89.0       2.896019   \n",
              "\n",
              "    Rotten Tomatoes % Worldwide Gross  Year  \n",
              "75                 96        $521.28   2008  "
            ]
          },
          "execution_count": 64,
          "metadata": {},
          "output_type": "execute_result"
        }
      ],
      "source": [
        "df[df['Lead Studio'].isnull()]"
      ]
    },
    {
      "cell_type": "markdown",
      "metadata": {
        "id": "bkYjy_MFjWOb"
      },
      "source": [
        "6. Create two copies of the dataset."
      ]
    },
    {
      "cell_type": "code",
      "execution_count": 65,
      "metadata": {
        "id": "ZcG9ih8OjgmP"
      },
      "outputs": [],
      "source": [
        "df_c1 = df\n",
        "df_c2 = df"
      ]
    },
    {
      "cell_type": "markdown",
      "metadata": {
        "id": "v6Q-STlrjk6I"
      },
      "source": [
        "7. Use the first copy, replace all empty cells in the Lead Studio column with the keyword \"missing\".\n",
        "\n",
        "Make sure to use inplace=True to apply the change directly. Print the last 3 rows of the dataset to verify the update."
      ]
    },
    {
      "cell_type": "code",
      "execution_count": 68,
      "metadata": {
        "colab": {
          "base_uri": "https://localhost:8080/",
          "height": 276
        },
        "id": "vZOBQbHOj1D9",
        "outputId": "8add8c7b-761d-40be-a95e-2cefde6854b6"
      },
      "outputs": [
        {
          "name": "stdout",
          "output_type": "stream",
          "text": [
            "      Film      Genre Lead Studio  Audience score %  Profitability  \\\n",
            "75  WALL-E  Animation     missing              89.0       2.896019   \n",
            "\n",
            "    Rotten Tomatoes % Worldwide Gross  Year  \n",
            "75                 96        $521.28   2008  \n",
            "                  Film      Genre  Lead Studio  Audience score %  \\\n",
            "73             Tangled  Animation       Disney              88.0   \n",
            "74  A Dangerous Method      Drama  Independent              89.0   \n",
            "75              WALL-E  Animation      missing              89.0   \n",
            "\n",
            "    Profitability  Rotten Tomatoes % Worldwide Gross  Year  \n",
            "73       1.365692                 89        $355.01   2010  \n",
            "74       0.448645                 79          $8.97   2011  \n",
            "75       2.896019                 96        $521.28   2008  \n"
          ]
        }
      ],
      "source": [
        "df_c1['Lead Studio'].fillna('missing',inplace = True)\n",
        "empty = df_c1['Lead Studio'] == 'missing'\n",
        "print(df_c1[empty])\n",
        "print(df_c1.tail(3))\n"
      ]
    },
    {
      "cell_type": "markdown",
      "metadata": {
        "id": "M0p1mxX3j63c"
      },
      "source": [
        "8. Use the second copy, replace the missing value of the column Lead Studio and row 75 to Disney. Then use the loc to print the 75th row."
      ]
    },
    {
      "cell_type": "code",
      "execution_count": 70,
      "metadata": {
        "colab": {
          "base_uri": "https://localhost:8080/",
          "height": 100
        },
        "id": "XTgMWEQlj_KS",
        "outputId": "136e0747-2006-49b2-e47d-8906b89c821a"
      },
      "outputs": [
        {
          "name": "stdout",
          "output_type": "stream",
          "text": [
            "Film                    WALL-E\n",
            "Genre                Animation\n",
            "Lead Studio             Disney\n",
            "Audience score %          89.0\n",
            "Profitability         2.896019\n",
            "Rotten Tomatoes %           96\n",
            "Worldwide Gross       $521.28 \n",
            "Year                      2008\n",
            "Name: 75, dtype: object\n"
          ]
        }
      ],
      "source": [
        "df_c2.at[75,'Lead Studio'] = 'Disney'\n",
        "print(df_c2.loc[75])"
      ]
    },
    {
      "cell_type": "markdown",
      "metadata": {
        "id": "CQLhGojQkJKJ"
      },
      "source": [
        "9. Print all the `Disney` movies for the second copy of your data."
      ]
    },
    {
      "cell_type": "code",
      "execution_count": 71,
      "metadata": {
        "colab": {
          "base_uri": "https://localhost:8080/",
          "height": 313
        },
        "id": "SzXCm7xQkLfP",
        "outputId": "886e771b-559c-414d-a84d-8fb8ef567515"
      },
      "outputs": [
        {
          "data": {
            "text/html": [
              "<div>\n",
              "<style scoped>\n",
              "    .dataframe tbody tr th:only-of-type {\n",
              "        vertical-align: middle;\n",
              "    }\n",
              "\n",
              "    .dataframe tbody tr th {\n",
              "        vertical-align: top;\n",
              "    }\n",
              "\n",
              "    .dataframe thead th {\n",
              "        text-align: right;\n",
              "    }\n",
              "</style>\n",
              "<table border=\"1\" class=\"dataframe\">\n",
              "  <thead>\n",
              "    <tr style=\"text-align: right;\">\n",
              "      <th></th>\n",
              "      <th>Film</th>\n",
              "      <th>Genre</th>\n",
              "      <th>Lead Studio</th>\n",
              "      <th>Audience score %</th>\n",
              "      <th>Profitability</th>\n",
              "      <th>Rotten Tomatoes %</th>\n",
              "      <th>Worldwide Gross</th>\n",
              "      <th>Year</th>\n",
              "    </tr>\n",
              "  </thead>\n",
              "  <tbody>\n",
              "    <tr>\n",
              "      <th>3</th>\n",
              "      <td>When in Rome</td>\n",
              "      <td>Comedy</td>\n",
              "      <td>Disney</td>\n",
              "      <td>44.0</td>\n",
              "      <td>0.000000</td>\n",
              "      <td>15</td>\n",
              "      <td>$43.04</td>\n",
              "      <td>2010</td>\n",
              "    </tr>\n",
              "    <tr>\n",
              "      <th>20</th>\n",
              "      <td>Gnomeo and Juliet</td>\n",
              "      <td>Animation</td>\n",
              "      <td>Disney</td>\n",
              "      <td>52.0</td>\n",
              "      <td>5.387972</td>\n",
              "      <td>56</td>\n",
              "      <td>$193.97</td>\n",
              "      <td>2011</td>\n",
              "    </tr>\n",
              "    <tr>\n",
              "      <th>21</th>\n",
              "      <td>Gnomeo and Juliet</td>\n",
              "      <td>Animation</td>\n",
              "      <td>Disney</td>\n",
              "      <td>52.0</td>\n",
              "      <td>5.387972</td>\n",
              "      <td>56</td>\n",
              "      <td>$193.97</td>\n",
              "      <td>2011</td>\n",
              "    </tr>\n",
              "    <tr>\n",
              "      <th>55</th>\n",
              "      <td>The Proposal</td>\n",
              "      <td>Comedy</td>\n",
              "      <td>Disney</td>\n",
              "      <td>74.0</td>\n",
              "      <td>7.867500</td>\n",
              "      <td>43</td>\n",
              "      <td>$314.70</td>\n",
              "      <td>2009</td>\n",
              "    </tr>\n",
              "    <tr>\n",
              "      <th>58</th>\n",
              "      <td>High School Musical 3: Senior Year</td>\n",
              "      <td>Comedy</td>\n",
              "      <td>Disney</td>\n",
              "      <td>76.0</td>\n",
              "      <td>22.913136</td>\n",
              "      <td>65</td>\n",
              "      <td>$252.04</td>\n",
              "      <td>2008</td>\n",
              "    </tr>\n",
              "    <tr>\n",
              "      <th>62</th>\n",
              "      <td>Enchanted</td>\n",
              "      <td>Comedy</td>\n",
              "      <td>Disney</td>\n",
              "      <td>80.0</td>\n",
              "      <td>4.005737</td>\n",
              "      <td>93</td>\n",
              "      <td>$340.49</td>\n",
              "      <td>2007</td>\n",
              "    </tr>\n",
              "    <tr>\n",
              "      <th>73</th>\n",
              "      <td>Tangled</td>\n",
              "      <td>Animation</td>\n",
              "      <td>Disney</td>\n",
              "      <td>88.0</td>\n",
              "      <td>1.365692</td>\n",
              "      <td>89</td>\n",
              "      <td>$355.01</td>\n",
              "      <td>2010</td>\n",
              "    </tr>\n",
              "    <tr>\n",
              "      <th>75</th>\n",
              "      <td>WALL-E</td>\n",
              "      <td>Animation</td>\n",
              "      <td>Disney</td>\n",
              "      <td>89.0</td>\n",
              "      <td>2.896019</td>\n",
              "      <td>96</td>\n",
              "      <td>$521.28</td>\n",
              "      <td>2008</td>\n",
              "    </tr>\n",
              "  </tbody>\n",
              "</table>\n",
              "</div>"
            ],
            "text/plain": [
              "                                  Film      Genre Lead Studio  \\\n",
              "3                         When in Rome     Comedy      Disney   \n",
              "20                   Gnomeo and Juliet  Animation      Disney   \n",
              "21                   Gnomeo and Juliet  Animation      Disney   \n",
              "55                        The Proposal     Comedy      Disney   \n",
              "58  High School Musical 3: Senior Year     Comedy      Disney   \n",
              "62                           Enchanted     Comedy      Disney   \n",
              "73                             Tangled  Animation      Disney   \n",
              "75                              WALL-E  Animation      Disney   \n",
              "\n",
              "    Audience score %  Profitability  Rotten Tomatoes % Worldwide Gross  Year  \n",
              "3               44.0       0.000000                 15         $43.04   2010  \n",
              "20              52.0       5.387972                 56        $193.97   2011  \n",
              "21              52.0       5.387972                 56        $193.97   2011  \n",
              "55              74.0       7.867500                 43        $314.70   2009  \n",
              "58              76.0      22.913136                 65        $252.04   2008  \n",
              "62              80.0       4.005737                 93        $340.49   2007  \n",
              "73              88.0       1.365692                 89        $355.01   2010  \n",
              "75              89.0       2.896019                 96        $521.28   2008  "
            ]
          },
          "execution_count": 71,
          "metadata": {},
          "output_type": "execute_result"
        }
      ],
      "source": [
        "df_c2[df_c2['Lead Studio'] == 'Disney']"
      ]
    },
    {
      "cell_type": "markdown",
      "metadata": {
        "id": "JInSK0QjkW7D"
      },
      "source": [
        "10. Query the dataset to count the number of movies in each Genre. Use the groupby method as shown in class, and apply the filter method to count entries in the Film column."
      ]
    },
    {
      "cell_type": "code",
      "execution_count": 73,
      "metadata": {
        "colab": {
          "base_uri": "https://localhost:8080/",
          "height": 405
        },
        "id": "fiuUrXMikYbm",
        "outputId": "8ff94d64-069b-498a-9ec2-be084056622c"
      },
      "outputs": [
        {
          "data": {
            "text/html": [
              "<div>\n",
              "<style scoped>\n",
              "    .dataframe tbody tr th:only-of-type {\n",
              "        vertical-align: middle;\n",
              "    }\n",
              "\n",
              "    .dataframe tbody tr th {\n",
              "        vertical-align: top;\n",
              "    }\n",
              "\n",
              "    .dataframe thead th {\n",
              "        text-align: right;\n",
              "    }\n",
              "</style>\n",
              "<table border=\"1\" class=\"dataframe\">\n",
              "  <thead>\n",
              "    <tr style=\"text-align: right;\">\n",
              "      <th></th>\n",
              "      <th>Film</th>\n",
              "    </tr>\n",
              "    <tr>\n",
              "      <th>Genre</th>\n",
              "      <th></th>\n",
              "    </tr>\n",
              "  </thead>\n",
              "  <tbody>\n",
              "    <tr>\n",
              "      <th>Action</th>\n",
              "      <td>1</td>\n",
              "    </tr>\n",
              "    <tr>\n",
              "      <th>Animation</th>\n",
              "      <td>4</td>\n",
              "    </tr>\n",
              "    <tr>\n",
              "      <th>Comdy</th>\n",
              "      <td>1</td>\n",
              "    </tr>\n",
              "    <tr>\n",
              "      <th>Comedy</th>\n",
              "      <td>41</td>\n",
              "    </tr>\n",
              "    <tr>\n",
              "      <th>Drama</th>\n",
              "      <td>13</td>\n",
              "    </tr>\n",
              "    <tr>\n",
              "      <th>Fantasy</th>\n",
              "      <td>1</td>\n",
              "    </tr>\n",
              "    <tr>\n",
              "      <th>Romance</th>\n",
              "      <td>12</td>\n",
              "    </tr>\n",
              "    <tr>\n",
              "      <th>Romence</th>\n",
              "      <td>1</td>\n",
              "    </tr>\n",
              "    <tr>\n",
              "      <th>comedy</th>\n",
              "      <td>1</td>\n",
              "    </tr>\n",
              "    <tr>\n",
              "      <th>romance</th>\n",
              "      <td>1</td>\n",
              "    </tr>\n",
              "  </tbody>\n",
              "</table>\n",
              "</div>"
            ],
            "text/plain": [
              "           Film\n",
              "Genre          \n",
              "Action        1\n",
              "Animation     4\n",
              "Comdy         1\n",
              "Comedy       41\n",
              "Drama        13\n",
              "Fantasy       1\n",
              "Romance      12\n",
              "Romence       1\n",
              "comedy        1\n",
              "romance       1"
            ]
          },
          "execution_count": 73,
          "metadata": {},
          "output_type": "execute_result"
        }
      ],
      "source": [
        "df_c2.groupby(['Genre']).count().filter(['Film'])"
      ]
    },
    {
      "cell_type": "markdown",
      "metadata": {
        "id": "1Uvy4KsrknG0"
      },
      "source": [
        "11. Fix errors and inconsistencies."
      ]
    },
    {
      "cell_type": "code",
      "execution_count": 77,
      "metadata": {
        "colab": {
          "base_uri": "https://localhost:8080/",
          "height": 282
        },
        "id": "dQEnVUjxkpXs",
        "outputId": "f7ce2151-d802-4330-9ab9-2292e10a117a"
      },
      "outputs": [
        {
          "name": "stdout",
          "output_type": "stream",
          "text": [
            "           Film\n",
            "Genre          \n",
            "Action        1\n",
            "Animation     4\n",
            "Comedy       43\n",
            "Drama        13\n",
            "Fantasy       1\n",
            "Romance      14\n"
          ]
        }
      ],
      "source": [
        "corrections = {'Comdy': 'Comedy',\n",
        "               'comedy': 'Comedy',\n",
        "               'Romence':'Romance',\n",
        "               'romance': 'Romance'}\n",
        "\n",
        "df['Genre'] = df['Genre'].replace(corrections)\n",
        "df['Genre'] = df['Genre'].str.strip().str.capitalize()\n",
        "print(df.groupby(['Genre']).count().filter(['Film']))"
      ]
    },
    {
      "cell_type": "markdown",
      "metadata": {
        "id": "d5idyuE2lFWr"
      },
      "source": [
        "* `df['Genre']`\n",
        "Accesses the Genre column of the DataFrame.\n",
        "\n",
        "* `.str`\n",
        "Activates string methods for all entries in the column. This lets you apply string functions like .strip(), .lower(), .capitalize(), etc., to each cell in the column.\n",
        "\n",
        "* `.strip()`\n",
        "Removes any leading or trailing whitespace from each value.\n",
        "For example:\n",
        "' Drama ' → 'Drama'\n",
        "\n",
        "* `.capitalize()`\n",
        "Converts the first character to uppercase and the rest to lowercase.\n",
        "For example:\n",
        "\n",
        "'comedy' → 'Comedy'\n",
        "\n",
        "'ROMANCE' → 'Romance'\n",
        "\n",
        "⚠️ Note: This is useful for standardizing the format, but it will also change multi-word genres:\n",
        "\n",
        "'Science Fiction' → 'Science fiction'\n",
        "If you want to preserve multi-word capitalization, use .title() instead of .capitalize()."
      ]
    },
    {
      "cell_type": "markdown",
      "metadata": {
        "id": "WMqu6nsLlWgE"
      },
      "source": [
        "12. Show rows with missing Audience score % values and note their indexes."
      ]
    },
    {
      "cell_type": "code",
      "execution_count": 87,
      "metadata": {
        "colab": {
          "base_uri": "https://localhost:8080/"
        },
        "id": "HD6h_CzglL2U",
        "outputId": "96f66680-8e59-47c2-a7aa-4ce8d0147b0f"
      },
      "outputs": [
        {
          "name": "stdout",
          "output_type": "stream",
          "text": [
            "                   Film    Genre  Lead Studio  Audience score %  \\\n",
            "37     It's Complicated   Comedy    Universal               NaN   \n",
            "70  Across the Universe  Romance  Independent               NaN   \n",
            "\n",
            "    Profitability  Rotten Tomatoes % Worldwide Gross  Year  \n",
            "37       2.642353                 56        $224.60   2009  \n",
            "70       0.652603                 54         $29.37   2007  \n",
            "[37, 70]\n"
          ]
        }
      ],
      "source": [
        "missing = df[df['Audience score %'].isnull()]\n",
        "print(missing)\n",
        "print(missing.index.tolist())"
      ]
    },
    {
      "cell_type": "markdown",
      "metadata": {
        "id": "Lob21ho3lf4v"
      },
      "source": [
        "13. Create two copies of the data."
      ]
    },
    {
      "cell_type": "code",
      "execution_count": 88,
      "metadata": {
        "id": "ey4D6VE6lyOj"
      },
      "outputs": [],
      "source": [
        "df_c1 = df\n",
        "df_c2 = df"
      ]
    },
    {
      "cell_type": "markdown",
      "metadata": {
        "id": "UJMkThx0l4mf"
      },
      "source": [
        "14. Write a script to fill the missing values in the Audience score % column with the column's mean. Then, print all rows from index 35 to 71 (inclusive). Run and review the output."
      ]
    },
    {
      "cell_type": "code",
      "execution_count": 94,
      "metadata": {
        "colab": {
          "base_uri": "https://localhost:8080/"
        },
        "id": "ZBSAS-3BmcD8",
        "outputId": "0eaa94f3-d39d-41db-9b10-ce515f20c9fd"
      },
      "outputs": [
        {
          "data": {
            "text/plain": [
              "[]"
            ]
          },
          "execution_count": 94,
          "metadata": {},
          "output_type": "execute_result"
        }
      ],
      "source": [
        "missing = df_c1[df_c1['Audience score %'].isnull()]\n",
        "missing.index.tolist()"
      ]
    },
    {
      "cell_type": "code",
      "execution_count": 97,
      "metadata": {
        "colab": {
          "base_uri": "https://localhost:8080/"
        },
        "id": "NKayZUjql3D6",
        "outputId": "f6cf3a25-07aa-40b4-d39e-cc292940ad6b"
      },
      "outputs": [
        {
          "name": "stderr",
          "output_type": "stream",
          "text": [
            "C:\\Users\\markt\\AppData\\Local\\Temp\\ipykernel_39568\\2701753791.py:2: FutureWarning: A value is trying to be set on a copy of a DataFrame or Series through chained assignment using an inplace method.\n",
            "The behavior will change in pandas 3.0. This inplace method will never work because the intermediate object on which we are setting values always behaves as a copy.\n",
            "\n",
            "For example, when doing 'df[col].method(value, inplace=True)', try using 'df.method({col: value}, inplace=True)' or df[col] = df[col].method(value) instead, to perform the operation inplace on the original object.\n",
            "\n",
            "\n",
            "  df_c1['Audience score %'].fillna(mean_score, inplace = True)\n"
          ]
        },
        {
          "data": {
            "text/html": [
              "<div>\n",
              "<style scoped>\n",
              "    .dataframe tbody tr th:only-of-type {\n",
              "        vertical-align: middle;\n",
              "    }\n",
              "\n",
              "    .dataframe tbody tr th {\n",
              "        vertical-align: top;\n",
              "    }\n",
              "\n",
              "    .dataframe thead th {\n",
              "        text-align: right;\n",
              "    }\n",
              "</style>\n",
              "<table border=\"1\" class=\"dataframe\">\n",
              "  <thead>\n",
              "    <tr style=\"text-align: right;\">\n",
              "      <th></th>\n",
              "      <th>Film</th>\n",
              "      <th>Genre</th>\n",
              "      <th>Lead Studio</th>\n",
              "      <th>Audience score %</th>\n",
              "      <th>Profitability</th>\n",
              "      <th>Rotten Tomatoes %</th>\n",
              "      <th>Worldwide Gross</th>\n",
              "      <th>Year</th>\n",
              "    </tr>\n",
              "  </thead>\n",
              "  <tbody>\n",
              "    <tr>\n",
              "      <th>35</th>\n",
              "      <td>Life as We Know It</td>\n",
              "      <td>Comedy</td>\n",
              "      <td>Independent</td>\n",
              "      <td>62.000000</td>\n",
              "      <td>2.530526</td>\n",
              "      <td>28</td>\n",
              "      <td>$96.16</td>\n",
              "      <td>2010</td>\n",
              "    </tr>\n",
              "    <tr>\n",
              "      <th>36</th>\n",
              "      <td>Letters to Juliet</td>\n",
              "      <td>Comedy</td>\n",
              "      <td>Summit</td>\n",
              "      <td>62.000000</td>\n",
              "      <td>2.639333</td>\n",
              "      <td>40</td>\n",
              "      <td>$79.18</td>\n",
              "      <td>2010</td>\n",
              "    </tr>\n",
              "    <tr>\n",
              "      <th>37</th>\n",
              "      <td>It's Complicated</td>\n",
              "      <td>Comedy</td>\n",
              "      <td>Universal</td>\n",
              "      <td>63.378378</td>\n",
              "      <td>2.642353</td>\n",
              "      <td>56</td>\n",
              "      <td>$224.60</td>\n",
              "      <td>2009</td>\n",
              "    </tr>\n",
              "    <tr>\n",
              "      <th>38</th>\n",
              "      <td>No Reservations</td>\n",
              "      <td>Comedy</td>\n",
              "      <td>Warner Bros.</td>\n",
              "      <td>64.000000</td>\n",
              "      <td>3.307180</td>\n",
              "      <td>39</td>\n",
              "      <td>$92.60</td>\n",
              "      <td>2007</td>\n",
              "    </tr>\n",
              "    <tr>\n",
              "      <th>39</th>\n",
              "      <td>A Serious Man</td>\n",
              "      <td>Drama</td>\n",
              "      <td>Universal</td>\n",
              "      <td>64.000000</td>\n",
              "      <td>4.382857</td>\n",
              "      <td>89</td>\n",
              "      <td>$30.68</td>\n",
              "      <td>2009</td>\n",
              "    </tr>\n",
              "    <tr>\n",
              "      <th>40</th>\n",
              "      <td>The Time Traveler's Wife</td>\n",
              "      <td>Drama</td>\n",
              "      <td>Paramount</td>\n",
              "      <td>65.000000</td>\n",
              "      <td>2.598205</td>\n",
              "      <td>38</td>\n",
              "      <td>$101.33</td>\n",
              "      <td>2009</td>\n",
              "    </tr>\n",
              "    <tr>\n",
              "      <th>41</th>\n",
              "      <td>Not Easily Broken</td>\n",
              "      <td>Drama</td>\n",
              "      <td>Independent</td>\n",
              "      <td>66.000000</td>\n",
              "      <td>2.140000</td>\n",
              "      <td>34</td>\n",
              "      <td>$10.70</td>\n",
              "      <td>2009</td>\n",
              "    </tr>\n",
              "    <tr>\n",
              "      <th>42</th>\n",
              "      <td>Dear John</td>\n",
              "      <td>Drama</td>\n",
              "      <td>Sony</td>\n",
              "      <td>66.000000</td>\n",
              "      <td>4.598800</td>\n",
              "      <td>29</td>\n",
              "      <td>$114.97</td>\n",
              "      <td>2010</td>\n",
              "    </tr>\n",
              "    <tr>\n",
              "      <th>43</th>\n",
              "      <td>Nick and Norah's Infinite Playlist</td>\n",
              "      <td>Comedy</td>\n",
              "      <td>Sony</td>\n",
              "      <td>67.000000</td>\n",
              "      <td>3.352729</td>\n",
              "      <td>73</td>\n",
              "      <td>$33.53</td>\n",
              "      <td>2008</td>\n",
              "    </tr>\n",
              "    <tr>\n",
              "      <th>44</th>\n",
              "      <td>Waitress</td>\n",
              "      <td>Romance</td>\n",
              "      <td>Independent</td>\n",
              "      <td>67.000000</td>\n",
              "      <td>11.089742</td>\n",
              "      <td>89</td>\n",
              "      <td>$22.18</td>\n",
              "      <td>2007</td>\n",
              "    </tr>\n",
              "    <tr>\n",
              "      <th>45</th>\n",
              "      <td>The Duchess</td>\n",
              "      <td>Drama</td>\n",
              "      <td>Paramount</td>\n",
              "      <td>68.000000</td>\n",
              "      <td>3.207850</td>\n",
              "      <td>60</td>\n",
              "      <td>$43.31</td>\n",
              "      <td>2008</td>\n",
              "    </tr>\n",
              "    <tr>\n",
              "      <th>46</th>\n",
              "      <td>The Ugly Truth</td>\n",
              "      <td>Comedy</td>\n",
              "      <td>Independent</td>\n",
              "      <td>68.000000</td>\n",
              "      <td>5.402632</td>\n",
              "      <td>14</td>\n",
              "      <td>$205.30</td>\n",
              "      <td>2009</td>\n",
              "    </tr>\n",
              "    <tr>\n",
              "      <th>47</th>\n",
              "      <td>Twilight: Breaking Dawn</td>\n",
              "      <td>Romance</td>\n",
              "      <td>Independent</td>\n",
              "      <td>68.000000</td>\n",
              "      <td>6.383364</td>\n",
              "      <td>26</td>\n",
              "      <td>$702.17</td>\n",
              "      <td>2011</td>\n",
              "    </tr>\n",
              "    <tr>\n",
              "      <th>48</th>\n",
              "      <td>Miss Pettigrew Lives for a Day</td>\n",
              "      <td>Comedy</td>\n",
              "      <td>Independent</td>\n",
              "      <td>70.000000</td>\n",
              "      <td>0.252895</td>\n",
              "      <td>78</td>\n",
              "      <td>$15.17</td>\n",
              "      <td>2008</td>\n",
              "    </tr>\n",
              "    <tr>\n",
              "      <th>49</th>\n",
              "      <td>Remember Me</td>\n",
              "      <td>Drama</td>\n",
              "      <td>Summit</td>\n",
              "      <td>70.000000</td>\n",
              "      <td>3.491250</td>\n",
              "      <td>28</td>\n",
              "      <td>$55.86</td>\n",
              "      <td>2010</td>\n",
              "    </tr>\n",
              "    <tr>\n",
              "      <th>50</th>\n",
              "      <td>Music and Lyrics</td>\n",
              "      <td>Romance</td>\n",
              "      <td>Warner Bros.</td>\n",
              "      <td>70.000000</td>\n",
              "      <td>3.647411</td>\n",
              "      <td>63</td>\n",
              "      <td>$145.90</td>\n",
              "      <td>2007</td>\n",
              "    </tr>\n",
              "    <tr>\n",
              "      <th>51</th>\n",
              "      <td>27 Dresses</td>\n",
              "      <td>Comedy</td>\n",
              "      <td>Fox</td>\n",
              "      <td>71.000000</td>\n",
              "      <td>5.343622</td>\n",
              "      <td>40</td>\n",
              "      <td>$160.31</td>\n",
              "      <td>2008</td>\n",
              "    </tr>\n",
              "    <tr>\n",
              "      <th>52</th>\n",
              "      <td>Water For Elephants</td>\n",
              "      <td>Drama</td>\n",
              "      <td>20th Century Fox</td>\n",
              "      <td>72.000000</td>\n",
              "      <td>3.081421</td>\n",
              "      <td>60</td>\n",
              "      <td>$117.09</td>\n",
              "      <td>2011</td>\n",
              "    </tr>\n",
              "    <tr>\n",
              "      <th>53</th>\n",
              "      <td>What Happens in Vegas</td>\n",
              "      <td>Comedy</td>\n",
              "      <td>Fox</td>\n",
              "      <td>72.000000</td>\n",
              "      <td>6.267647</td>\n",
              "      <td>28</td>\n",
              "      <td>$219.37</td>\n",
              "      <td>2008</td>\n",
              "    </tr>\n",
              "    <tr>\n",
              "      <th>54</th>\n",
              "      <td>Penelope</td>\n",
              "      <td>Comedy</td>\n",
              "      <td>Summit</td>\n",
              "      <td>74.000000</td>\n",
              "      <td>1.382800</td>\n",
              "      <td>52</td>\n",
              "      <td>$20.74</td>\n",
              "      <td>2008</td>\n",
              "    </tr>\n",
              "    <tr>\n",
              "      <th>55</th>\n",
              "      <td>The Proposal</td>\n",
              "      <td>Comedy</td>\n",
              "      <td>Disney</td>\n",
              "      <td>74.000000</td>\n",
              "      <td>7.867500</td>\n",
              "      <td>43</td>\n",
              "      <td>$314.70</td>\n",
              "      <td>2009</td>\n",
              "    </tr>\n",
              "    <tr>\n",
              "      <th>56</th>\n",
              "      <td>Mamma Mia!</td>\n",
              "      <td>Comedy</td>\n",
              "      <td>Universal</td>\n",
              "      <td>76.000000</td>\n",
              "      <td>9.234454</td>\n",
              "      <td>53</td>\n",
              "      <td>$609.47</td>\n",
              "      <td>2008</td>\n",
              "    </tr>\n",
              "    <tr>\n",
              "      <th>57</th>\n",
              "      <td>Mamma Mia!</td>\n",
              "      <td>Comedy</td>\n",
              "      <td>Universal</td>\n",
              "      <td>76.000000</td>\n",
              "      <td>9.234454</td>\n",
              "      <td>53</td>\n",
              "      <td>$609.47</td>\n",
              "      <td>2008</td>\n",
              "    </tr>\n",
              "    <tr>\n",
              "      <th>58</th>\n",
              "      <td>High School Musical 3: Senior Year</td>\n",
              "      <td>Comedy</td>\n",
              "      <td>Disney</td>\n",
              "      <td>76.000000</td>\n",
              "      <td>22.913136</td>\n",
              "      <td>65</td>\n",
              "      <td>$252.04</td>\n",
              "      <td>2008</td>\n",
              "    </tr>\n",
              "    <tr>\n",
              "      <th>59</th>\n",
              "      <td>Jane Eyre</td>\n",
              "      <td>Romance</td>\n",
              "      <td>Universal</td>\n",
              "      <td>77.000000</td>\n",
              "      <td>0.000000</td>\n",
              "      <td>85</td>\n",
              "      <td>$30.15</td>\n",
              "      <td>2011</td>\n",
              "    </tr>\n",
              "    <tr>\n",
              "      <th>60</th>\n",
              "      <td>Marley and Me</td>\n",
              "      <td>Comedy</td>\n",
              "      <td>Fox</td>\n",
              "      <td>77.000000</td>\n",
              "      <td>3.746782</td>\n",
              "      <td>63</td>\n",
              "      <td>$206.07</td>\n",
              "      <td>2008</td>\n",
              "    </tr>\n",
              "    <tr>\n",
              "      <th>61</th>\n",
              "      <td>The Twilight Saga: New Moon</td>\n",
              "      <td>Drama</td>\n",
              "      <td>Summit</td>\n",
              "      <td>78.000000</td>\n",
              "      <td>14.196400</td>\n",
              "      <td>27</td>\n",
              "      <td>$709.82</td>\n",
              "      <td>2009</td>\n",
              "    </tr>\n",
              "    <tr>\n",
              "      <th>62</th>\n",
              "      <td>Enchanted</td>\n",
              "      <td>Comedy</td>\n",
              "      <td>Disney</td>\n",
              "      <td>80.000000</td>\n",
              "      <td>4.005737</td>\n",
              "      <td>93</td>\n",
              "      <td>$340.49</td>\n",
              "      <td>2007</td>\n",
              "    </tr>\n",
              "    <tr>\n",
              "      <th>63</th>\n",
              "      <td>Beginners</td>\n",
              "      <td>Comedy</td>\n",
              "      <td>Independent</td>\n",
              "      <td>80.000000</td>\n",
              "      <td>4.471875</td>\n",
              "      <td>84</td>\n",
              "      <td>$14.31</td>\n",
              "      <td>2011</td>\n",
              "    </tr>\n",
              "    <tr>\n",
              "      <th>64</th>\n",
              "      <td>The Curious Case of Benjamin Button</td>\n",
              "      <td>Fantasy</td>\n",
              "      <td>Warner Bros.</td>\n",
              "      <td>81.000000</td>\n",
              "      <td>1.783944</td>\n",
              "      <td>73</td>\n",
              "      <td>$285.43</td>\n",
              "      <td>2008</td>\n",
              "    </tr>\n",
              "    <tr>\n",
              "      <th>65</th>\n",
              "      <td>Sex and the City</td>\n",
              "      <td>Comedy</td>\n",
              "      <td>Warner Bros.</td>\n",
              "      <td>81.000000</td>\n",
              "      <td>7.221796</td>\n",
              "      <td>49</td>\n",
              "      <td>$415.25</td>\n",
              "      <td>2008</td>\n",
              "    </tr>\n",
              "    <tr>\n",
              "      <th>66</th>\n",
              "      <td>(500) Days of Summer</td>\n",
              "      <td>Comedy</td>\n",
              "      <td>Fox</td>\n",
              "      <td>81.000000</td>\n",
              "      <td>8.096000</td>\n",
              "      <td>87</td>\n",
              "      <td>$60.72</td>\n",
              "      <td>2009</td>\n",
              "    </tr>\n",
              "    <tr>\n",
              "      <th>67</th>\n",
              "      <td>P.S. I Love You</td>\n",
              "      <td>Romance</td>\n",
              "      <td>Independent</td>\n",
              "      <td>82.000000</td>\n",
              "      <td>5.103117</td>\n",
              "      <td>21</td>\n",
              "      <td>$153.09</td>\n",
              "      <td>2007</td>\n",
              "    </tr>\n",
              "    <tr>\n",
              "      <th>68</th>\n",
              "      <td>Twilight</td>\n",
              "      <td>Romance</td>\n",
              "      <td>Summit</td>\n",
              "      <td>82.000000</td>\n",
              "      <td>10.180027</td>\n",
              "      <td>49</td>\n",
              "      <td>$376.66</td>\n",
              "      <td>2008</td>\n",
              "    </tr>\n",
              "    <tr>\n",
              "      <th>69</th>\n",
              "      <td>Knocked Up</td>\n",
              "      <td>Comedy</td>\n",
              "      <td>Universal</td>\n",
              "      <td>83.000000</td>\n",
              "      <td>6.636402</td>\n",
              "      <td>91</td>\n",
              "      <td>$219</td>\n",
              "      <td>2007</td>\n",
              "    </tr>\n",
              "    <tr>\n",
              "      <th>70</th>\n",
              "      <td>Across the Universe</td>\n",
              "      <td>Romance</td>\n",
              "      <td>Independent</td>\n",
              "      <td>63.378378</td>\n",
              "      <td>0.652603</td>\n",
              "      <td>54</td>\n",
              "      <td>$29.37</td>\n",
              "      <td>2007</td>\n",
              "    </tr>\n",
              "    <tr>\n",
              "      <th>71</th>\n",
              "      <td>My Week with Marilyn</td>\n",
              "      <td>Drama</td>\n",
              "      <td>The Weinstein Company</td>\n",
              "      <td>84.000000</td>\n",
              "      <td>0.825800</td>\n",
              "      <td>83</td>\n",
              "      <td>$8.26</td>\n",
              "      <td>2011</td>\n",
              "    </tr>\n",
              "  </tbody>\n",
              "</table>\n",
              "</div>"
            ],
            "text/plain": [
              "                                   Film    Genre            Lead Studio  \\\n",
              "35                   Life as We Know It   Comedy            Independent   \n",
              "36                    Letters to Juliet   Comedy                 Summit   \n",
              "37                     It's Complicated   Comedy              Universal   \n",
              "38                      No Reservations   Comedy           Warner Bros.   \n",
              "39                        A Serious Man    Drama              Universal   \n",
              "40             The Time Traveler's Wife    Drama              Paramount   \n",
              "41                    Not Easily Broken    Drama            Independent   \n",
              "42                            Dear John    Drama                   Sony   \n",
              "43   Nick and Norah's Infinite Playlist   Comedy                   Sony   \n",
              "44                             Waitress  Romance            Independent   \n",
              "45                          The Duchess    Drama              Paramount   \n",
              "46                       The Ugly Truth   Comedy            Independent   \n",
              "47              Twilight: Breaking Dawn  Romance            Independent   \n",
              "48       Miss Pettigrew Lives for a Day   Comedy            Independent   \n",
              "49                          Remember Me    Drama                 Summit   \n",
              "50                     Music and Lyrics  Romance           Warner Bros.   \n",
              "51                           27 Dresses   Comedy                    Fox   \n",
              "52                  Water For Elephants    Drama       20th Century Fox   \n",
              "53                What Happens in Vegas   Comedy                    Fox   \n",
              "54                             Penelope   Comedy                 Summit   \n",
              "55                         The Proposal   Comedy                 Disney   \n",
              "56                           Mamma Mia!   Comedy              Universal   \n",
              "57                           Mamma Mia!   Comedy              Universal   \n",
              "58   High School Musical 3: Senior Year   Comedy                 Disney   \n",
              "59                            Jane Eyre  Romance              Universal   \n",
              "60                        Marley and Me   Comedy                    Fox   \n",
              "61          The Twilight Saga: New Moon    Drama                 Summit   \n",
              "62                            Enchanted   Comedy                 Disney   \n",
              "63                            Beginners   Comedy            Independent   \n",
              "64  The Curious Case of Benjamin Button  Fantasy           Warner Bros.   \n",
              "65                     Sex and the City   Comedy           Warner Bros.   \n",
              "66                 (500) Days of Summer   Comedy                    Fox   \n",
              "67                      P.S. I Love You  Romance            Independent   \n",
              "68                             Twilight  Romance                 Summit   \n",
              "69                           Knocked Up   Comedy              Universal   \n",
              "70                  Across the Universe  Romance            Independent   \n",
              "71                 My Week with Marilyn    Drama  The Weinstein Company   \n",
              "\n",
              "    Audience score %  Profitability  Rotten Tomatoes % Worldwide Gross  Year  \n",
              "35         62.000000       2.530526                 28         $96.16   2010  \n",
              "36         62.000000       2.639333                 40         $79.18   2010  \n",
              "37         63.378378       2.642353                 56        $224.60   2009  \n",
              "38         64.000000       3.307180                 39         $92.60   2007  \n",
              "39         64.000000       4.382857                 89         $30.68   2009  \n",
              "40         65.000000       2.598205                 38        $101.33   2009  \n",
              "41         66.000000       2.140000                 34         $10.70   2009  \n",
              "42         66.000000       4.598800                 29        $114.97   2010  \n",
              "43         67.000000       3.352729                 73         $33.53   2008  \n",
              "44         67.000000      11.089742                 89         $22.18   2007  \n",
              "45         68.000000       3.207850                 60         $43.31   2008  \n",
              "46         68.000000       5.402632                 14        $205.30   2009  \n",
              "47         68.000000       6.383364                 26        $702.17   2011  \n",
              "48         70.000000       0.252895                 78         $15.17   2008  \n",
              "49         70.000000       3.491250                 28         $55.86   2010  \n",
              "50         70.000000       3.647411                 63        $145.90   2007  \n",
              "51         71.000000       5.343622                 40        $160.31   2008  \n",
              "52         72.000000       3.081421                 60        $117.09   2011  \n",
              "53         72.000000       6.267647                 28        $219.37   2008  \n",
              "54         74.000000       1.382800                 52         $20.74   2008  \n",
              "55         74.000000       7.867500                 43        $314.70   2009  \n",
              "56         76.000000       9.234454                 53        $609.47   2008  \n",
              "57         76.000000       9.234454                 53        $609.47   2008  \n",
              "58         76.000000      22.913136                 65        $252.04   2008  \n",
              "59         77.000000       0.000000                 85         $30.15   2011  \n",
              "60         77.000000       3.746782                 63        $206.07   2008  \n",
              "61         78.000000      14.196400                 27        $709.82   2009  \n",
              "62         80.000000       4.005737                 93        $340.49   2007  \n",
              "63         80.000000       4.471875                 84         $14.31   2011  \n",
              "64         81.000000       1.783944                 73        $285.43   2008  \n",
              "65         81.000000       7.221796                 49        $415.25   2008  \n",
              "66         81.000000       8.096000                 87         $60.72   2009  \n",
              "67         82.000000       5.103117                 21        $153.09   2007  \n",
              "68         82.000000      10.180027                 49        $376.66   2008  \n",
              "69         83.000000       6.636402                 91           $219   2007  \n",
              "70         63.378378       0.652603                 54         $29.37   2007  \n",
              "71         84.000000       0.825800                 83          $8.26   2011  "
            ]
          },
          "execution_count": 97,
          "metadata": {},
          "output_type": "execute_result"
        }
      ],
      "source": [
        "mean_score = df_c1['Audience score %'].mean()\n",
        "df_c1['Audience score %'].fillna(mean_score, inplace = True)\n",
        "df_c1.iloc[35:72]"
      ]
    },
    {
      "cell_type": "code",
      "execution_count": 98,
      "metadata": {
        "colab": {
          "base_uri": "https://localhost:8080/",
          "height": 191
        },
        "id": "d1WVNhRNmKz0",
        "outputId": "d829f6fd-7467-4dc5-e9be-a129e16f7548"
      },
      "outputs": [
        {
          "data": {
            "text/html": [
              "<div>\n",
              "<style scoped>\n",
              "    .dataframe tbody tr th:only-of-type {\n",
              "        vertical-align: middle;\n",
              "    }\n",
              "\n",
              "    .dataframe tbody tr th {\n",
              "        vertical-align: top;\n",
              "    }\n",
              "\n",
              "    .dataframe thead th {\n",
              "        text-align: right;\n",
              "    }\n",
              "</style>\n",
              "<table border=\"1\" class=\"dataframe\">\n",
              "  <thead>\n",
              "    <tr style=\"text-align: right;\">\n",
              "      <th></th>\n",
              "      <th>Film</th>\n",
              "      <th>Genre</th>\n",
              "      <th>Lead Studio</th>\n",
              "      <th>Audience score %</th>\n",
              "      <th>Profitability</th>\n",
              "      <th>Rotten Tomatoes %</th>\n",
              "      <th>Worldwide Gross</th>\n",
              "      <th>Year</th>\n",
              "    </tr>\n",
              "  </thead>\n",
              "  <tbody>\n",
              "    <tr>\n",
              "      <th>35</th>\n",
              "      <td>Life as We Know It</td>\n",
              "      <td>Comedy</td>\n",
              "      <td>Independent</td>\n",
              "      <td>62.000000</td>\n",
              "      <td>2.530526</td>\n",
              "      <td>28</td>\n",
              "      <td>$96.16</td>\n",
              "      <td>2010</td>\n",
              "    </tr>\n",
              "    <tr>\n",
              "      <th>36</th>\n",
              "      <td>Letters to Juliet</td>\n",
              "      <td>Comedy</td>\n",
              "      <td>Summit</td>\n",
              "      <td>62.000000</td>\n",
              "      <td>2.639333</td>\n",
              "      <td>40</td>\n",
              "      <td>$79.18</td>\n",
              "      <td>2010</td>\n",
              "    </tr>\n",
              "    <tr>\n",
              "      <th>37</th>\n",
              "      <td>It's Complicated</td>\n",
              "      <td>Comedy</td>\n",
              "      <td>Universal</td>\n",
              "      <td>63.378378</td>\n",
              "      <td>2.642353</td>\n",
              "      <td>56</td>\n",
              "      <td>$224.60</td>\n",
              "      <td>2009</td>\n",
              "    </tr>\n",
              "    <tr>\n",
              "      <th>38</th>\n",
              "      <td>No Reservations</td>\n",
              "      <td>Comedy</td>\n",
              "      <td>Warner Bros.</td>\n",
              "      <td>64.000000</td>\n",
              "      <td>3.307180</td>\n",
              "      <td>39</td>\n",
              "      <td>$92.60</td>\n",
              "      <td>2007</td>\n",
              "    </tr>\n",
              "  </tbody>\n",
              "</table>\n",
              "</div>"
            ],
            "text/plain": [
              "                  Film   Genre   Lead Studio  Audience score %  Profitability  \\\n",
              "35  Life as We Know It  Comedy   Independent         62.000000       2.530526   \n",
              "36   Letters to Juliet  Comedy        Summit         62.000000       2.639333   \n",
              "37    It's Complicated  Comedy     Universal         63.378378       2.642353   \n",
              "38     No Reservations  Comedy  Warner Bros.         64.000000       3.307180   \n",
              "\n",
              "    Rotten Tomatoes % Worldwide Gross  Year  \n",
              "35                 28         $96.16   2010  \n",
              "36                 40         $79.18   2010  \n",
              "37                 56        $224.60   2009  \n",
              "38                 39         $92.60   2007  "
            ]
          },
          "execution_count": 98,
          "metadata": {},
          "output_type": "execute_result"
        }
      ],
      "source": [
        "df_c1['Audience score %'] = df_c1['Audience score %'].fillna(mean_score)\n",
        "df_c1.iloc[35:39]"
      ]
    },
    {
      "cell_type": "code",
      "execution_count": 99,
      "metadata": {
        "colab": {
          "base_uri": "https://localhost:8080/",
          "height": 221
        },
        "id": "bOOsQl-PmrPS",
        "outputId": "04b40832-cd7c-4761-f342-ee18ebde8836"
      },
      "outputs": [
        {
          "data": {
            "text/html": [
              "<div>\n",
              "<style scoped>\n",
              "    .dataframe tbody tr th:only-of-type {\n",
              "        vertical-align: middle;\n",
              "    }\n",
              "\n",
              "    .dataframe tbody tr th {\n",
              "        vertical-align: top;\n",
              "    }\n",
              "\n",
              "    .dataframe thead th {\n",
              "        text-align: right;\n",
              "    }\n",
              "</style>\n",
              "<table border=\"1\" class=\"dataframe\">\n",
              "  <thead>\n",
              "    <tr style=\"text-align: right;\">\n",
              "      <th></th>\n",
              "      <th>Film</th>\n",
              "      <th>Genre</th>\n",
              "      <th>Lead Studio</th>\n",
              "      <th>Audience score %</th>\n",
              "      <th>Profitability</th>\n",
              "      <th>Rotten Tomatoes %</th>\n",
              "      <th>Worldwide Gross</th>\n",
              "      <th>Year</th>\n",
              "    </tr>\n",
              "  </thead>\n",
              "  <tbody>\n",
              "    <tr>\n",
              "      <th>68</th>\n",
              "      <td>Twilight</td>\n",
              "      <td>Romance</td>\n",
              "      <td>Summit</td>\n",
              "      <td>82.000000</td>\n",
              "      <td>10.180027</td>\n",
              "      <td>49</td>\n",
              "      <td>$376.66</td>\n",
              "      <td>2008</td>\n",
              "    </tr>\n",
              "    <tr>\n",
              "      <th>69</th>\n",
              "      <td>Knocked Up</td>\n",
              "      <td>Comedy</td>\n",
              "      <td>Universal</td>\n",
              "      <td>83.000000</td>\n",
              "      <td>6.636402</td>\n",
              "      <td>91</td>\n",
              "      <td>$219</td>\n",
              "      <td>2007</td>\n",
              "    </tr>\n",
              "    <tr>\n",
              "      <th>70</th>\n",
              "      <td>Across the Universe</td>\n",
              "      <td>Romance</td>\n",
              "      <td>Independent</td>\n",
              "      <td>63.378378</td>\n",
              "      <td>0.652603</td>\n",
              "      <td>54</td>\n",
              "      <td>$29.37</td>\n",
              "      <td>2007</td>\n",
              "    </tr>\n",
              "    <tr>\n",
              "      <th>71</th>\n",
              "      <td>My Week with Marilyn</td>\n",
              "      <td>Drama</td>\n",
              "      <td>The Weinstein Company</td>\n",
              "      <td>84.000000</td>\n",
              "      <td>0.825800</td>\n",
              "      <td>83</td>\n",
              "      <td>$8.26</td>\n",
              "      <td>2011</td>\n",
              "    </tr>\n",
              "    <tr>\n",
              "      <th>72</th>\n",
              "      <td>Midnight in Paris</td>\n",
              "      <td>Romance</td>\n",
              "      <td>Sony</td>\n",
              "      <td>84.000000</td>\n",
              "      <td>8.744706</td>\n",
              "      <td>93</td>\n",
              "      <td>$148.66</td>\n",
              "      <td>2011</td>\n",
              "    </tr>\n",
              "  </tbody>\n",
              "</table>\n",
              "</div>"
            ],
            "text/plain": [
              "                    Film    Genre            Lead Studio  Audience score %  \\\n",
              "68              Twilight  Romance                 Summit         82.000000   \n",
              "69            Knocked Up   Comedy              Universal         83.000000   \n",
              "70   Across the Universe  Romance            Independent         63.378378   \n",
              "71  My Week with Marilyn    Drama  The Weinstein Company         84.000000   \n",
              "72     Midnight in Paris  Romance                   Sony         84.000000   \n",
              "\n",
              "    Profitability  Rotten Tomatoes % Worldwide Gross  Year  \n",
              "68      10.180027                 49        $376.66   2008  \n",
              "69       6.636402                 91           $219   2007  \n",
              "70       0.652603                 54         $29.37   2007  \n",
              "71       0.825800                 83          $8.26   2011  \n",
              "72       8.744706                 93        $148.66   2011  "
            ]
          },
          "execution_count": 99,
          "metadata": {},
          "output_type": "execute_result"
        }
      ],
      "source": [
        "df_c1.iloc[68:73]"
      ]
    },
    {
      "cell_type": "markdown",
      "metadata": {
        "id": "UDovyfx2mz_T"
      },
      "source": [
        "15. Fill all missing values in the Audience score % column using interpolation. Ensure the changes are saved permanently to the df DataFrame."
      ]
    },
    {
      "cell_type": "code",
      "execution_count": 111,
      "metadata": {
        "colab": {
          "base_uri": "https://localhost:8080/",
          "height": 130
        },
        "id": "jesp7_RXm5hZ",
        "outputId": "df9f483a-0731-4e28-b862-38b7fb8b339b"
      },
      "outputs": [
        {
          "data": {
            "text/html": [
              "<div>\n",
              "<style scoped>\n",
              "    .dataframe tbody tr th:only-of-type {\n",
              "        vertical-align: middle;\n",
              "    }\n",
              "\n",
              "    .dataframe tbody tr th {\n",
              "        vertical-align: top;\n",
              "    }\n",
              "\n",
              "    .dataframe thead th {\n",
              "        text-align: right;\n",
              "    }\n",
              "</style>\n",
              "<table border=\"1\" class=\"dataframe\">\n",
              "  <thead>\n",
              "    <tr style=\"text-align: right;\">\n",
              "      <th></th>\n",
              "      <th>Film</th>\n",
              "      <th>Genre</th>\n",
              "      <th>Lead Studio</th>\n",
              "      <th>Audience score %</th>\n",
              "      <th>Profitability</th>\n",
              "      <th>Rotten Tomatoes %</th>\n",
              "      <th>Worldwide Gross</th>\n",
              "      <th>Year</th>\n",
              "      <th>(37, Audience score %)</th>\n",
              "      <th>(70, Audience score %)</th>\n",
              "    </tr>\n",
              "  </thead>\n",
              "  <tbody>\n",
              "    <tr>\n",
              "      <th>34</th>\n",
              "      <td>Made of Honor</td>\n",
              "      <td>Comedy</td>\n",
              "      <td>Sony</td>\n",
              "      <td>61.0</td>\n",
              "      <td>2.649068</td>\n",
              "      <td>13</td>\n",
              "      <td>$105.96</td>\n",
              "      <td>2008</td>\n",
              "      <td>NaN</td>\n",
              "      <td>NaN</td>\n",
              "    </tr>\n",
              "    <tr>\n",
              "      <th>35</th>\n",
              "      <td>Life as We Know It</td>\n",
              "      <td>Comedy</td>\n",
              "      <td>Independent</td>\n",
              "      <td>62.0</td>\n",
              "      <td>2.530526</td>\n",
              "      <td>28</td>\n",
              "      <td>$96.16</td>\n",
              "      <td>2010</td>\n",
              "      <td>NaN</td>\n",
              "      <td>NaN</td>\n",
              "    </tr>\n",
              "    <tr>\n",
              "      <th>36</th>\n",
              "      <td>Letters to Juliet</td>\n",
              "      <td>Comedy</td>\n",
              "      <td>Summit</td>\n",
              "      <td>62.0</td>\n",
              "      <td>2.639333</td>\n",
              "      <td>40</td>\n",
              "      <td>$79.18</td>\n",
              "      <td>2010</td>\n",
              "      <td>NaN</td>\n",
              "      <td>NaN</td>\n",
              "    </tr>\n",
              "    <tr>\n",
              "      <th>37</th>\n",
              "      <td>It's Complicated</td>\n",
              "      <td>Comedy</td>\n",
              "      <td>Universal</td>\n",
              "      <td>63.0</td>\n",
              "      <td>2.642353</td>\n",
              "      <td>56</td>\n",
              "      <td>$224.60</td>\n",
              "      <td>2009</td>\n",
              "      <td>NaN</td>\n",
              "      <td>NaN</td>\n",
              "    </tr>\n",
              "    <tr>\n",
              "      <th>69</th>\n",
              "      <td>Knocked Up</td>\n",
              "      <td>Comedy</td>\n",
              "      <td>Universal</td>\n",
              "      <td>83.0</td>\n",
              "      <td>6.636402</td>\n",
              "      <td>91</td>\n",
              "      <td>$219</td>\n",
              "      <td>2007</td>\n",
              "      <td>NaN</td>\n",
              "      <td>NaN</td>\n",
              "    </tr>\n",
              "    <tr>\n",
              "      <th>70</th>\n",
              "      <td>Across the Universe</td>\n",
              "      <td>Romance</td>\n",
              "      <td>Independent</td>\n",
              "      <td>83.5</td>\n",
              "      <td>0.652603</td>\n",
              "      <td>54</td>\n",
              "      <td>$29.37</td>\n",
              "      <td>2007</td>\n",
              "      <td>NaN</td>\n",
              "      <td>NaN</td>\n",
              "    </tr>\n",
              "    <tr>\n",
              "      <th>71</th>\n",
              "      <td>My Week with Marilyn</td>\n",
              "      <td>Drama</td>\n",
              "      <td>The Weinstein Company</td>\n",
              "      <td>84.0</td>\n",
              "      <td>0.825800</td>\n",
              "      <td>83</td>\n",
              "      <td>$8.26</td>\n",
              "      <td>2011</td>\n",
              "      <td>NaN</td>\n",
              "      <td>NaN</td>\n",
              "    </tr>\n",
              "    <tr>\n",
              "      <th>72</th>\n",
              "      <td>Midnight in Paris</td>\n",
              "      <td>Romance</td>\n",
              "      <td>Sony</td>\n",
              "      <td>84.0</td>\n",
              "      <td>8.744706</td>\n",
              "      <td>93</td>\n",
              "      <td>$148.66</td>\n",
              "      <td>2011</td>\n",
              "      <td>NaN</td>\n",
              "      <td>NaN</td>\n",
              "    </tr>\n",
              "    <tr>\n",
              "      <th>73</th>\n",
              "      <td>Tangled</td>\n",
              "      <td>Animation</td>\n",
              "      <td>Disney</td>\n",
              "      <td>88.0</td>\n",
              "      <td>1.365692</td>\n",
              "      <td>89</td>\n",
              "      <td>$355.01</td>\n",
              "      <td>2010</td>\n",
              "      <td>NaN</td>\n",
              "      <td>NaN</td>\n",
              "    </tr>\n",
              "    <tr>\n",
              "      <th>74</th>\n",
              "      <td>A Dangerous Method</td>\n",
              "      <td>Drama</td>\n",
              "      <td>Independent</td>\n",
              "      <td>89.0</td>\n",
              "      <td>0.448645</td>\n",
              "      <td>79</td>\n",
              "      <td>$8.97</td>\n",
              "      <td>2011</td>\n",
              "      <td>NaN</td>\n",
              "      <td>NaN</td>\n",
              "    </tr>\n",
              "  </tbody>\n",
              "</table>\n",
              "</div>"
            ],
            "text/plain": [
              "                    Film      Genre            Lead Studio  Audience score %  \\\n",
              "34         Made of Honor     Comedy                   Sony              61.0   \n",
              "35    Life as We Know It     Comedy            Independent              62.0   \n",
              "36     Letters to Juliet     Comedy                 Summit              62.0   \n",
              "37      It's Complicated     Comedy              Universal              63.0   \n",
              "69            Knocked Up     Comedy              Universal              83.0   \n",
              "70   Across the Universe    Romance            Independent              83.5   \n",
              "71  My Week with Marilyn      Drama  The Weinstein Company              84.0   \n",
              "72     Midnight in Paris    Romance                   Sony              84.0   \n",
              "73               Tangled  Animation                 Disney              88.0   \n",
              "74    A Dangerous Method      Drama            Independent              89.0   \n",
              "\n",
              "    Profitability  Rotten Tomatoes % Worldwide Gross  Year  \\\n",
              "34       2.649068                 13        $105.96   2008   \n",
              "35       2.530526                 28         $96.16   2010   \n",
              "36       2.639333                 40         $79.18   2010   \n",
              "37       2.642353                 56        $224.60   2009   \n",
              "69       6.636402                 91           $219   2007   \n",
              "70       0.652603                 54         $29.37   2007   \n",
              "71       0.825800                 83          $8.26   2011   \n",
              "72       8.744706                 93        $148.66   2011   \n",
              "73       1.365692                 89        $355.01   2010   \n",
              "74       0.448645                 79          $8.97   2011   \n",
              "\n",
              "   (37, Audience score %) (70, Audience score %)  \n",
              "34                    NaN                    NaN  \n",
              "35                    NaN                    NaN  \n",
              "36                    NaN                    NaN  \n",
              "37                    NaN                    NaN  \n",
              "69                    NaN                    NaN  \n",
              "70                    NaN                    NaN  \n",
              "71                    NaN                    NaN  \n",
              "72                    NaN                    NaN  \n",
              "73                    NaN                    NaN  \n",
              "74                    NaN                    NaN  "
            ]
          },
          "execution_count": 111,
          "metadata": {},
          "output_type": "execute_result"
        }
      ],
      "source": [
        "import numpy as np\n",
        "\n",
        "df.loc[[37,70],'Audience score %'] = np.nan\n",
        "df['Audience score %'] = df['Audience score %'].interpolate()\n",
        "pd.concat([df.iloc[34:38], df.iloc[69:75]])"
      ]
    },
    {
      "cell_type": "markdown",
      "metadata": {
        "id": "KZ_ced_cnK0h"
      },
      "source": [
        "# Part 3: Visualizations"
      ]
    },
    {
      "cell_type": "code",
      "execution_count": 113,
      "metadata": {
        "colab": {
          "base_uri": "https://localhost:8080/"
        },
        "id": "NGSawOSsnL9B",
        "outputId": "c86fc5a5-901d-4cd4-e5b6-5d49178ed0df"
      },
      "outputs": [
        {
          "name": "stdout",
          "output_type": "stream",
          "text": [
            "Pandas, Matplotlib, and Seaborn are ready.\n"
          ]
        }
      ],
      "source": [
        "import pandas as pd\n",
        "import matplotlib.pyplot as plt\n",
        "import seaborn as sns\n",
        "%matplotlib inline\n",
        "\n",
        "print(\"Pandas, Matplotlib, and Seaborn are ready.\")"
      ]
    },
    {
      "cell_type": "markdown",
      "metadata": {
        "id": "DoqviTogoCYT"
      },
      "source": [
        "1. Create a scatter plot with a regression line to visualize the relationship between `Audience score %` and `Rotten Tomatoes %`."
      ]
    },
    {
      "cell_type": "markdown",
      "metadata": {
        "id": "wLuCLLwknZqR"
      },
      "source": [
        "* matplotlib.pyplot is conventionally imported as plt.\n",
        "* %matplotlib inline ensures plots display inside Jupyter notebooks.\n",
        "* Seaborn works automatically with Matplotlib, so no extra setup needed."
      ]
    },
    {
      "cell_type": "code",
      "execution_count": 116,
      "metadata": {
        "colab": {
          "base_uri": "https://localhost:8080/",
          "height": 1000
        },
        "id": "UjKP9sW9nc-S",
        "outputId": "d49786b6-fc39-419c-fabb-596ffe1cc3a3"
      },
      "outputs": [
        {
          "data": {
            "text/plain": [
              "<seaborn.axisgrid.FacetGrid at 0x14e364ca0d0>"
            ]
          },
          "execution_count": 116,
          "metadata": {},
          "output_type": "execute_result"
        },
        {
          "data": {
            "image/png": "[encoded data removed]",
            "text/plain": [
              "<Figure size 1000x1000 with 1 Axes>"
            ]
          },
          "metadata": {},
          "output_type": "display_data"
        }
      ],
      "source": [
        "sns.lmplot(data = df, x = 'Rotten Tomatoes %', y = 'Audience score %', height = 10, scatter_kws = {\"s\": 100})"
      ]
    },
    {
      "cell_type": "markdown",
      "metadata": {
        "id": "xBBGPDqZoL2C"
      },
      "source": [
        "2. Create a scatter plot of `Audience score %` vs `Rotten Tomatoes %`, grouped by Genre, without a regression line."
      ]
    },
    {
      "cell_type": "code",
      "execution_count": 117,
      "metadata": {
        "colab": {
          "base_uri": "https://localhost:8080/",
          "height": 1000
        },
        "id": "t3Nwzi2vnlil",
        "outputId": "4412b15b-70f8-4a39-92f7-c3bb28fa0621"
      },
      "outputs": [
        {
          "data": {
            "text/plain": [
              "<seaborn.axisgrid.FacetGrid at 0x14e38d1bc50>"
            ]
          },
          "execution_count": 117,
          "metadata": {},
          "output_type": "execute_result"
        },
        {
          "data": {
            "image/png": "[encoded data removed]",
            "text/plain": [
              "<Figure size 1120.88x1000 with 1 Axes>"
            ]
          },
          "metadata": {},
          "output_type": "display_data"
        }
      ],
      "source": [
        "sns.lmplot(data = df, x = 'Audience score %', y = 'Rotten Tomatoes %', height = 10, fit_reg=False, hue='Genre',scatter_kws={\"s\":100})"
      ]
    },
    {
      "cell_type": "markdown",
      "metadata": {
        "id": "Oj6kG-TooP8s"
      },
      "source": [
        "3. Plot the distribution of `Audience score %` using a histogram with a KDE (Kernel Density Estimate) curve."
      ]
    },
    {
      "cell_type": "code",
      "execution_count": 119,
      "metadata": {
        "colab": {
          "base_uri": "https://localhost:8080/",
          "height": 486
        },
        "id": "EfTwpbLWnxQ9",
        "outputId": "b89e109e-8f0c-4eae-a7d8-90103dc4f5bf"
      },
      "outputs": [
        {
          "data": {
            "text/plain": [
              "<Axes: xlabel='Audience score %', ylabel='Count'>"
            ]
          },
          "execution_count": 119,
          "metadata": {},
          "output_type": "execute_result"
        },
        {
          "data": {
            "image/png": "[encoded data removed]",
            "text/plain": [
              "<Figure size 640x480 with 1 Axes>"
            ]
          },
          "metadata": {},
          "output_type": "display_data"
        }
      ],
      "source": [
        "sns.histplot(df['Audience score %'], kde = True)"
      ]
    },
    {
      "cell_type": "markdown",
      "metadata": {
        "id": "HOwOnL60n41f"
      },
      "source": [
        "4. Create a boxplot to visualize the distribution and outliers of all numerical columns in the dataset.Use sns.boxplot(data=df) to quickly compare ranges, medians, and potential outliers across multiple columns."
      ]
    },
    {
      "cell_type": "code",
      "execution_count": null,
      "metadata": {
        "colab": {
          "base_uri": "https://localhost:8080/",
          "height": 466
        },
        "id": "rHgxJ6IUn5EA",
        "outputId": "8dea0af9-8268-4e54-9196-13a22dbeb79f"
      },
      "outputs": [
        {
          "data": {
            "text/plain": [
              "<Axes: >"
            ]
          },
          "execution_count": 89,
          "metadata": {},
          "output_type": "execute_result"
        },
        {
          "data": {
            "image/png": "[encoded data removed]",
            "text/plain": [
              "<Figure size 640x480 with 1 Axes>"
            ]
          },
          "metadata": {},
          "output_type": "display_data"
        }
      ],
      "source": [
        "sns.boxplot(data=df)"
      ]
    },
    {
      "cell_type": "markdown",
      "metadata": {
        "id": "gg133prXn7cI"
      },
      "source": [
        "5. Create a boxplot of the dataset after removing the Profitability and Year columns. Drop these columns using drop(axis=1) to focus the boxplot on the remaining numerical features. Use sns.boxplot(data=stats_df) to visualize their distributions and detect any outliers."
      ]
    },
    {
      "cell_type": "code",
      "execution_count": null,
      "metadata": {
        "colab": {
          "base_uri": "https://localhost:8080/",
          "height": 470
        },
        "id": "_1OHD9Wln7n-",
        "outputId": "472486d0-7b6c-42ad-c491-f40c77c4c920"
      },
      "outputs": [
        {
          "data": {
            "text/plain": [
              "<Axes: >"
            ]
          },
          "execution_count": 90,
          "metadata": {},
          "output_type": "execute_result"
        },
        {
          "data": {
            "image/png": "[encoded data removed]",
            "text/plain": [
              "<Figure size 640x480 with 1 Axes>"
            ]
          },
          "metadata": {},
          "output_type": "display_data"
        }
      ],
      "source": [
        "stats_df = df.drop(['Profitability','Year'], axis=1)\n",
        "sns.boxplot(data=stats_df)"
      ]
    },
    {
      "cell_type": "markdown",
      "metadata": {
        "id": "ShBUDVeBonR1"
      },
      "source": [
        "* `axis=0` → Operate down rows (i.e. affect rows)\n",
        "Often used when dropping or aggregating rows.\n",
        "\n",
        "Think: vertical movement (top to bottom).\n",
        "\n",
        "`df.drop([0, 1], axis=0)  # Drops rows with index 0 and 1`\n",
        "\n",
        "* `axis=1` → Operate across columns (i.e. affect columns)\n",
        "Used when dropping or modifying columns.\n",
        "\n",
        "Think: horizontal movement (left to right).\n",
        "\n",
        "`df.drop(['Profitability', 'Year'], axis=1)  # Drops those columns`\n"
      ]
    }
  ],
  "metadata": {
    "colab": {
      "provenance": [],
      "toc_visible": true
    },
    "kernelspec": {
      "display_name": "Python 3",
      "name": "python3"
    },
    "language_info": {
      "codemirror_mode": {
        "name": "ipython",
        "version": 3
      },
      "file_extension": ".py",
      "mimetype": "text/x-python",
      "name": "python",
      "nbconvert_exporter": "python",
      "pygments_lexer": "ipython3",
      "version": "3.13.3"
    }
  },
  "nbformat": 4,
  "nbformat_minor": 0
}

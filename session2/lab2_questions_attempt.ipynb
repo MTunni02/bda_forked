{
 "cells": [
  {
   "cell_type": "markdown",
   "id": "c0e34105",
   "metadata": {},
   "source": [
    "Provide the solutions to the following questions using the `rockyou.txt` file."
   ]
  },
  {
   "cell_type": "code",
   "execution_count": 1,
   "id": "bf416c07",
   "metadata": {},
   "outputs": [],
   "source": [
    "with open('C:/Users/markt/OneDrive/Documents/Birkbeck/MSc Data Science/Big Data Analytics/Lab-Exercises/rockyou.txt',\"r\",encoding=\"latin-1\") as file:\n",
    "    lines = file.readlines()\n"
   ]
  },
  {
   "cell_type": "markdown",
   "id": "17fdefde",
   "metadata": {},
   "source": [
    "- Time:  O(n) - reads all lines once\n",
    "- Space:  O(n) - stores all lines in memory\n",
    "\n",
    "Print first 5 lines from the file"
   ]
  },
  {
   "cell_type": "code",
   "execution_count": 3,
   "id": "b55b286f",
   "metadata": {},
   "outputs": [
    {
     "name": "stdout",
     "output_type": "stream",
     "text": [
      "123456\n",
      "\n",
      "12345\n",
      "\n",
      "123456789\n",
      "\n",
      "password\n",
      "\n",
      "iloveyou\n",
      "\n"
     ]
    }
   ],
   "source": [
    "count = 0\n",
    "lines_to_show = 5\n",
    "it = iter(lines)\n",
    "while count < lines_to_show:\n",
    "    print(next(it))\n",
    "    count += 1\n"
   ]
  },
  {
   "cell_type": "markdown",
   "id": "3d1f61bd",
   "metadata": {},
   "source": [
    "1. Count how many passwords start with the letter `'a'`."
   ]
  },
  {
   "cell_type": "code",
   "execution_count": 4,
   "id": "a3c7819a",
   "metadata": {},
   "outputs": [
    {
     "name": "stdout",
     "output_type": "stream",
     "text": [
      "701664\n"
     ]
    }
   ],
   "source": [
    "def count_a_init(passwords):\n",
    "    total = 0\n",
    "    for p in passwords:\n",
    "        if p.strip().startswith('a'):\n",
    "            total += 1\n",
    "    return total\n",
    "print(count_a_init(lines))"
   ]
  },
  {
   "cell_type": "markdown",
   "id": "97f41521",
   "metadata": {},
   "source": [
    "2. Count how many anagram groups exist in the password list.\n",
    "   -  *Anagram:* Words that contain the same letters in a different order (e.g., `\"listen\"` and `\"silent\"`).#"
   ]
  },
  {
   "cell_type": "code",
   "execution_count": 21,
   "id": "e4b6e813",
   "metadata": {},
   "outputs": [
    {
     "name": "stdout",
     "output_type": "stream",
     "text": [
      "1377251\n"
     ]
    }
   ],
   "source": [
    "def count_anagrams(passwords):\n",
    "    groups = {}\n",
    "    for password in passwords:\n",
    "        p = ''.join(sorted(str(password).strip()))\n",
    "        if p in groups:\n",
    "            groups[p].append(str(password).strip())\n",
    "        else: groups[p] = [str(password).strip()]\n",
    "   \n",
    "    count = 0\n",
    "    for group in groups.values():\n",
    "        if len(group) > 1:\n",
    "            count += 1\n",
    "    return count\n",
    "\n",
    "print(count_anagrams(lines))\n"
   ]
  },
  {
   "cell_type": "markdown",
   "id": "fa73be81",
   "metadata": {},
   "source": [
    "3. Count how many passwords are palindromes.\n",
    "   -  *Palindrome:* A word that reads the same forward and backward (e.g., `\"racecar\"`, `\"level\"`).\n",
    "\n"
   ]
  },
  {
   "cell_type": "code",
   "execution_count": 22,
   "id": "f96f33a3",
   "metadata": {},
   "outputs": [
    {
     "name": "stdout",
     "output_type": "stream",
     "text": [
      "13928\n"
     ]
    }
   ],
   "source": [
    "def count_palins(list):\n",
    "    count = 0\n",
    "    for line in list:\n",
    "        word = line.strip()\n",
    "        if word == word[::-1]:\n",
    "            count += 1\n",
    "    return count\n",
    "\n",
    "print(count_palins(lines))"
   ]
  },
  {
   "cell_type": "markdown",
   "id": "597539dd",
   "metadata": {},
   "source": [
    "4. Find the top 5 most frequent starting letters in the password list.\n"
   ]
  },
  {
   "cell_type": "code",
   "execution_count": 25,
   "id": "05440905",
   "metadata": {},
   "outputs": [
    {
     "ename": "IndexError",
     "evalue": "string index out of range",
     "output_type": "error",
     "traceback": [
      "\u001b[1;31m---------------------------------------------------------------------------\u001b[0m",
      "\u001b[1;31mIndexError\u001b[0m                                Traceback (most recent call last)",
      "Cell \u001b[1;32mIn[25], line 20\u001b[0m\n\u001b[0;32m     16\u001b[0m                 items[i],items[j] \u001b[38;5;241m=\u001b[39m items[j],items[i]\n\u001b[0;32m     18\u001b[0m     \u001b[38;5;28;01mreturn\u001b[39;00m items[:\u001b[38;5;241m5\u001b[39m]\n\u001b[1;32m---> 20\u001b[0m \u001b[38;5;28mprint\u001b[39m(frequent_starters(lines))\n",
      "Cell \u001b[1;32mIn[25], line 5\u001b[0m, in \u001b[0;36mfrequent_starters\u001b[1;34m(lines)\u001b[0m\n\u001b[0;32m      3\u001b[0m starters \u001b[38;5;241m=\u001b[39m {}\n\u001b[0;32m      4\u001b[0m \u001b[38;5;28;01mfor\u001b[39;00m line \u001b[38;5;129;01min\u001b[39;00m lines:\n\u001b[1;32m----> 5\u001b[0m     starting_letter \u001b[38;5;241m=\u001b[39m line\u001b[38;5;241m.\u001b[39mstrip()[\u001b[38;5;241m0\u001b[39m]\n\u001b[0;32m      6\u001b[0m     \u001b[38;5;28;01mif\u001b[39;00m starting_letter \u001b[38;5;129;01min\u001b[39;00m starters:\n\u001b[0;32m      7\u001b[0m         starters[starting_letter] \u001b[38;5;241m+\u001b[39m\u001b[38;5;241m=\u001b[39m \u001b[38;5;241m1\u001b[39m\n",
      "\u001b[1;31mIndexError\u001b[0m: string index out of range"
     ]
    }
   ],
   "source": [
    "def frequent_starters(lines):\n",
    "    \n",
    "    starters = {}\n",
    "    for line in lines:\n",
    "        starting_letter = line.strip()[0]\n",
    "        if starting_letter in starters:\n",
    "            starters[starting_letter] += 1\n",
    "        else:\n",
    "            starters[starting_letter] = 1\n",
    "\n",
    "    items = list(starters.items())\n",
    "\n",
    "    for i in range(0,len(items)):\n",
    "        for j in range(i+1,len(items)):\n",
    "            if items[j][1] > items[i][1]:\n",
    "                items[i],items[j] = items[j],items[i]\n",
    "\n",
    "    return items[:5]\n",
    "\n",
    "print(frequent_starters(lines))"
   ]
  },
  {
   "cell_type": "markdown",
   "id": "109a340a",
   "metadata": {},
   "source": [
    "5. Count how many passwords contain only numerics.\n",
    "\n",
    "```python\n",
    "\"123\".isdigit()      # True\n",
    "\"Ⅻ\".isdigit()      # False\n",
    "\"Ⅻ\".isnumeric()    # True\n",
    "\"123\".isdecimal()   # True\n",
    "\"²\".isdecimal()     # False\n",
    "```\n",
    "\n",
    "* Use this table as a reference.\n",
    "\n",
    "| **String** | **Description**             | `.isdecimal()` | `.isdigit()` | `.isnumeric()` | `.isalpha()` |\n",
    "| ---------- | --------------------------- | -------------- | ------------ | -------------- | ------------ |\n",
    "| `'123'`    | ASCII digits                | ✅ True         | ✅ True       | ✅ True         | ❌ False      |\n",
    "| `'²'`      | Superscript 2               | ❌ False        | ✅ True       | ✅ True         | ❌ False      |\n",
    "| `'Ⅻ'`      | Roman numeral 12            | ❌ False        | ❌ False      | ✅ True         | ❌ False      |\n",
    "| `'٣'`      | Arabic-Indic digit (3)      | ✅ True         | ✅ True       | ✅ True         | ❌ False      |\n",
    "| `'１２３'` | Full-width digits (Unicode) | ✅ True         | ✅ True       | ✅ True         | ❌ False      |\n",
    "| `'10.5'`   | Decimal number with dot     | ❌ False        | ❌ False      | ❌ False        | ❌ False      |\n",
    "| `'-123'`   | Negative number             | ❌ False        | ❌ False      | ❌ False        | ❌ False      |\n",
    "| `'abc'`    | Letters only                | ❌ False        | ❌ False      | ❌ False        | ✅ True       |\n",
    "\n"
   ]
  },
  {
   "cell_type": "code",
   "execution_count": 28,
   "id": "f8fa97e3",
   "metadata": {},
   "outputs": [
    {
     "name": "stdout",
     "output_type": "stream",
     "text": [
      "2346842\n"
     ]
    }
   ],
   "source": [
    "def count_numerics(list):\n",
    "    count = 0\n",
    "    for item in list:\n",
    "        if item.strip().isnumeric():\n",
    "            count+=1\n",
    "    return count\n",
    "\n",
    "print(count_numerics(lines))"
   ]
  },
  {
   "cell_type": "markdown",
   "id": "f762ad81",
   "metadata": {},
   "source": [
    "6. Find the longest password in the list.\n",
    "\n"
   ]
  },
  {
   "cell_type": "code",
   "execution_count": 34,
   "id": "aacbb1af",
   "metadata": {},
   "outputs": [
    {
     "name": "stdout",
     "output_type": "stream",
     "text": [
      "<div align=\\\\\\\\\\\\'center\\\\\\\\\\\\' style=\\\\\\\\\\\\'font:bold 11px Verdana; width:310px\\\\\\\\\\\\'><a style=\\\\\\\\\\\\'background-color:#eeeeee;display:block;width:310px;border:solid 2px black; padding:5px\\\\\\\\\\\\' href=\\\\\\\\\\\\'http://www.musik-live.net\\\\\\\\\\\\' target=\\\\\\\\\\\\'_blank\\\\\\\\\\\\'>Playing/Tangga\n"
     ]
    }
   ],
   "source": [
    "def longest_password(list):\n",
    "    longest = {}\n",
    "    longest['current_max'] = ''\n",
    "    for item in list:\n",
    "        if len(item.strip()) > len(longest['current_max']):\n",
    "            longest['current_max'] = item.strip()\n",
    "    return longest['current_max']\n",
    "\n",
    "print(longest_password(lines))"
   ]
  },
  {
   "cell_type": "markdown",
   "id": "aa8f4949",
   "metadata": {},
   "source": [
    "7. Count how many passwords are exactly 8 characters long.\n",
    "\n"
   ]
  },
  {
   "cell_type": "code",
   "execution_count": 30,
   "id": "7d4cb1e5",
   "metadata": {},
   "outputs": [
    {
     "name": "stdout",
     "output_type": "stream",
     "text": [
      "2966005\n"
     ]
    }
   ],
   "source": [
    "def count_8s(list):\n",
    "    count = 0\n",
    "    for item in list:\n",
    "        if len(item.strip()) == 8:\n",
    "            count += 1\n",
    "    return count\n",
    "\n",
    "print(count_8s(lines))"
   ]
  },
  {
   "cell_type": "markdown",
   "id": "62dca9ff",
   "metadata": {},
   "source": [
    "8. Count how many passwords are made of only lowercase letters.\n",
    "\n"
   ]
  },
  {
   "cell_type": "code",
   "execution_count": 37,
   "id": "db711052",
   "metadata": {},
   "outputs": [
    {
     "name": "stdout",
     "output_type": "stream",
     "text": [
      "3726774\n"
     ]
    }
   ],
   "source": [
    "def count_lower_case(list):\n",
    "    count = 0\n",
    "    for item in list:\n",
    "        if item.strip().isalpha() and item.strip().islower():\n",
    "            count += 1\n",
    "    return count\n",
    "\n",
    "print(count_lower_case(lines))"
   ]
  },
  {
   "cell_type": "markdown",
   "id": "7da5c5e0",
   "metadata": {},
   "source": [
    "9. Count how many passwords contain the substring `\"123\"`.\n",
    "\n"
   ]
  },
  {
   "cell_type": "code",
   "execution_count": 38,
   "id": "00acd9a0",
   "metadata": {},
   "outputs": [
    {
     "name": "stdout",
     "output_type": "stream",
     "text": [
      "276782\n"
     ]
    }
   ],
   "source": [
    "def count_123(list):\n",
    "    count = 0\n",
    "    for item in list:\n",
    "        if '123' in item.strip():\n",
    "            count += 1\n",
    "    return count\n",
    "\n",
    "print(count_123(lines))"
   ]
  },
  {
   "cell_type": "markdown",
   "id": "4fb3ab03",
   "metadata": {},
   "source": [
    "10. Calculate the average length of all passwords."
   ]
  },
  {
   "cell_type": "code",
   "execution_count": 40,
   "id": "8ec0c10e",
   "metadata": {},
   "outputs": [
    {
     "name": "stdout",
     "output_type": "stream",
     "text": [
      "8.754276706484088\n"
     ]
    }
   ],
   "source": [
    "def avg_pw_length(list):\n",
    "    total = 0\n",
    "    count = 0\n",
    "    for item in list:\n",
    "        total += len(item.strip())\n",
    "        count += 1\n",
    "    if count == 0:\n",
    "        return 0\n",
    "    else:\n",
    "        return total / count\n",
    "\n",
    "print(avg_pw_length(lines))"
   ]
  }
 ],
 "metadata": {
  "kernelspec": {
   "display_name": "base",
   "language": "python",
   "name": "python3"
  },
  "language_info": {
   "codemirror_mode": {
    "name": "ipython",
    "version": 3
   },
   "file_extension": ".py",
   "mimetype": "text/x-python",
   "name": "python",
   "nbconvert_exporter": "python",
   "pygments_lexer": "ipython3",
   "version": "3.12.7"
  }
 },
 "nbformat": 4,
 "nbformat_minor": 5
}

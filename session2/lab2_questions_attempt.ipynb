{
 "cells": [
  {
   "cell_type": "markdown",
   "id": "c0e34105",
   "metadata": {},
   "source": [
    "Provide the solutions to the following questions using the `rockyou.txt` file."
   ]
  },
  {
   "cell_type": "code",
   "execution_count": 9,
   "id": "bf416c07",
   "metadata": {},
   "outputs": [],
   "source": [
    "with open('rockyou.txt',\"r\",encoding=\"latin-1\") as file:\n",
    "    lines = file.readlines()\n",
    "    file.close()\n"
   ]
  },
  {
   "cell_type": "markdown",
   "id": "17fdefde",
   "metadata": {},
   "source": [
    "- Time:  O(n) - reads all lines once\n",
    "- Space:  O(n) - stores all lines in memory\n",
    "\n",
    "Print first 5 lines from the file"
   ]
  },
  {
   "cell_type": "code",
   "execution_count": 5,
   "id": "b55b286f",
   "metadata": {},
   "outputs": [
    {
     "name": "stdout",
     "output_type": "stream",
     "text": [
      "123456\n",
      "\n",
      "12345\n",
      "\n",
      "123456789\n",
      "\n",
      "password\n",
      "\n",
      "iloveyou\n",
      "\n"
     ]
    }
   ],
   "source": [
    "with open('rockyou.txt',\"r\",encoding=\"latin-1\") as file:\n",
    "    lines = file.readlines()\n",
    "\n",
    "count = 0\n",
    "lines_to_show = 5\n",
    "it = iter(lines)\n",
    "while count < lines_to_show:\n",
    "    print(next(it))\n",
    "    count += 1\n"
   ]
  },
  {
   "cell_type": "markdown",
   "id": "3d1f61bd",
   "metadata": {},
   "source": [
    "1. Count how many passwords start with the letter `'a'`."
   ]
  },
  {
   "cell_type": "code",
   "execution_count": 6,
   "id": "a3c7819a",
   "metadata": {},
   "outputs": [
    {
     "name": "stdout",
     "output_type": "stream",
     "text": [
      "701664\n"
     ]
    }
   ],
   "source": [
    "def count_a_init(passwords):\n",
    "    total = 0\n",
    "    for p in passwords:\n",
    "        if p.strip().startswith('a'):\n",
    "            total += 1\n",
    "    return total\n",
    "print(count_a_init(lines))"
   ]
  },
  {
   "cell_type": "markdown",
   "id": "97f41521",
   "metadata": {},
   "source": [
    "2. Count how many anagram groups exist in the password list.\n",
    "   -  *Anagram:* Words that contain the same letters in a different order (e.g., `\"listen\"` and `\"silent\"`).#"
   ]
  },
  {
   "cell_type": "code",
   "execution_count": null,
   "id": "e4b6e813",
   "metadata": {},
   "outputs": [
    {
     "name": "stdout",
     "output_type": "stream",
     "text": [
      "1377251\n"
     ]
    }
   ],
   "source": [
    "def count_anagrams(passwords):\n",
    "    groups = {}\n",
    "    for password in passwords:\n",
    "        p = ''.join(sorted(password.strip()))\n",
    "        if p in groups:\n",
    "            groups[p].append(password.strip())\n",
    "        else: groups[p] = [password.strip()]\n",
    "    \n",
    "    count = 0\n",
    "    for group in groups.values():\n",
    "        if len(group) > 1:\n",
    "            count += 1\n",
    "    return count\n"
   ]
  },
  {
   "cell_type": "code",
   "execution_count": 19,
   "id": "8245c3eb",
   "metadata": {},
   "outputs": [
    {
     "name": "stdout",
     "output_type": "stream",
     "text": [
      "1377251\n"
     ]
    }
   ],
   "source": [
    "\n",
    "number = count_anagrams(lines)\n",
    "print(number)"
   ]
  },
  {
   "cell_type": "markdown",
   "id": "fa73be81",
   "metadata": {},
   "source": [
    "3. Count how many passwords are palindromes.\n",
    "   -  *Palindrome:* A word that reads the same forward and backward (e.g., `\"racecar\"`, `\"level\"`).\n"
   ]
  },
  {
   "cell_type": "markdown",
   "id": "597539dd",
   "metadata": {},
   "source": [
    "4. Find the top 5 most frequent starting letters in the password list.\n"
   ]
  },
  {
   "cell_type": "markdown",
   "id": "109a340a",
   "metadata": {},
   "source": [
    "5. Count how many passwords contain only numerics.\n",
    "\n",
    "```python\n",
    "\"123\".isdigit()      # True\n",
    "\"Ⅻ\".isdigit()      # False\n",
    "\"Ⅻ\".isnumeric()    # True\n",
    "\"123\".isdecimal()   # True\n",
    "\"²\".isdecimal()     # False\n",
    "```\n",
    "\n",
    "* Use this table as a reference.\n",
    "\n",
    "| **String** | **Description**             | `.isdecimal()` | `.isdigit()` | `.isnumeric()` | `.isalpha()` |\n",
    "| ---------- | --------------------------- | -------------- | ------------ | -------------- | ------------ |\n",
    "| `'123'`    | ASCII digits                | ✅ True         | ✅ True       | ✅ True         | ❌ False      |\n",
    "| `'²'`      | Superscript 2               | ❌ False        | ✅ True       | ✅ True         | ❌ False      |\n",
    "| `'Ⅻ'`      | Roman numeral 12            | ❌ False        | ❌ False      | ✅ True         | ❌ False      |\n",
    "| `'٣'`      | Arabic-Indic digit (3)      | ✅ True         | ✅ True       | ✅ True         | ❌ False      |\n",
    "| `'１２３'` | Full-width digits (Unicode) | ✅ True         | ✅ True       | ✅ True         | ❌ False      |\n",
    "| `'10.5'`   | Decimal number with dot     | ❌ False        | ❌ False      | ❌ False        | ❌ False      |\n",
    "| `'-123'`   | Negative number             | ❌ False        | ❌ False      | ❌ False        | ❌ False      |\n",
    "| `'abc'`    | Letters only                | ❌ False        | ❌ False      | ❌ False        | ✅ True       |\n",
    "\n"
   ]
  },
  {
   "cell_type": "markdown",
   "id": "f762ad81",
   "metadata": {},
   "source": [
    "6. Find the longest password in the list.\n",
    "\n"
   ]
  },
  {
   "cell_type": "markdown",
   "id": "aa8f4949",
   "metadata": {},
   "source": [
    "7. Count how many passwords are exactly 8 characters long.\n",
    "\n"
   ]
  },
  {
   "cell_type": "markdown",
   "id": "62dca9ff",
   "metadata": {},
   "source": [
    "8. Count how many passwords are made of only lowercase letters.\n",
    "\n"
   ]
  },
  {
   "cell_type": "markdown",
   "id": "7da5c5e0",
   "metadata": {},
   "source": [
    "9. Count how many passwords contain the substring `\"123\"`.\n",
    "\n"
   ]
  },
  {
   "cell_type": "markdown",
   "id": "4fb3ab03",
   "metadata": {},
   "source": [
    "10. Calculate the average length of all passwords."
   ]
  }
 ],
 "metadata": {
  "kernelspec": {
   "display_name": "base",
   "language": "python",
   "name": "python3"
  },
  "language_info": {
   "codemirror_mode": {
    "name": "ipython",
    "version": 3
   },
   "file_extension": ".py",
   "mimetype": "text/x-python",
   "name": "python",
   "nbconvert_exporter": "python",
   "pygments_lexer": "ipython3",
   "version": "3.12.7"
  }
 },
 "nbformat": 4,
 "nbformat_minor": 5
}

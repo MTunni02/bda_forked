{
 "cells": [
  {
   "cell_type": "markdown",
   "id": "c0e34105",
   "metadata": {},
   "source": [
    "Provide the solutions to the following questions using the `rockyou.txt` file."
   ]
  },
  {
   "cell_type": "code",
   "execution_count": null,
   "id": "bf416c07",
   "metadata": {},
   "outputs": [],
   "source": []
  },
  {
   "cell_type": "markdown",
   "id": "3d1f61bd",
   "metadata": {},
   "source": [
    "1. Count how many passwords start with the letter `'a'`."
   ]
  },
  {
   "cell_type": "code",
   "execution_count": null,
   "id": "a3c7819a",
   "metadata": {},
   "outputs": [],
   "source": []
  },
  {
   "cell_type": "markdown",
   "id": "97f41521",
   "metadata": {},
   "source": [
    "2. Count how many anagram groups exist in the password list.\n",
    "   -  *Anagram:* Words that contain the same letters in a different order (e.g., `\"listen\"` and `\"silent\"`).#"
   ]
  },
  {
   "cell_type": "markdown",
   "id": "fa73be81",
   "metadata": {},
   "source": [
    "3. Count how many passwords are palindromes.\n",
    "   -  *Palindrome:* A word that reads the same forward and backward (e.g., `\"racecar\"`, `\"level\"`).\n"
   ]
  },
  {
   "cell_type": "markdown",
   "id": "597539dd",
   "metadata": {},
   "source": [
    "4. Find the top 5 most frequent starting letters in the password list.\n"
   ]
  },
  {
   "cell_type": "markdown",
   "id": "109a340a",
   "metadata": {},
   "source": [
    "5. Count how many passwords contain only numerics.\n",
    "\n",
    "```python\n",
    "\"123\".isdigit()      # True\n",
    "\"Ⅻ\".isdigit()      # False\n",
    "\"Ⅻ\".isnumeric()    # True\n",
    "\"123\".isdecimal()   # True\n",
    "\"²\".isdecimal()     # False\n",
    "```\n",
    "\n",
    "* Use this table as a reference.\n",
    "\n",
    "| **String** | **Description**             | `.isdecimal()` | `.isdigit()` | `.isnumeric()` | `.isalpha()` |\n",
    "| ---------- | --------------------------- | -------------- | ------------ | -------------- | ------------ |\n",
    "| `'123'`    | ASCII digits                | ✅ True         | ✅ True       | ✅ True         | ❌ False      |\n",
    "| `'²'`      | Superscript 2               | ❌ False        | ✅ True       | ✅ True         | ❌ False      |\n",
    "| `'Ⅻ'`      | Roman numeral 12            | ❌ False        | ❌ False      | ✅ True         | ❌ False      |\n",
    "| `'٣'`      | Arabic-Indic digit (3)      | ✅ True         | ✅ True       | ✅ True         | ❌ False      |\n",
    "| `'１２３'` | Full-width digits (Unicode) | ✅ True         | ✅ True       | ✅ True         | ❌ False      |\n",
    "| `'10.5'`   | Decimal number with dot     | ❌ False        | ❌ False      | ❌ False        | ❌ False      |\n",
    "| `'-123'`   | Negative number             | ❌ False        | ❌ False      | ❌ False        | ❌ False      |\n",
    "| `'abc'`    | Letters only                | ❌ False        | ❌ False      | ❌ False        | ✅ True       |\n",
    "\n"
   ]
  },
  {
   "cell_type": "markdown",
   "id": "f762ad81",
   "metadata": {},
   "source": [
    "6. Find the longest password in the list.\n",
    "\n"
   ]
  },
  {
   "cell_type": "markdown",
   "id": "aa8f4949",
   "metadata": {},
   "source": [
    "7. Count how many passwords are exactly 8 characters long.\n",
    "\n"
   ]
  },
  {
   "cell_type": "markdown",
   "id": "62dca9ff",
   "metadata": {},
   "source": [
    "8. Count how many passwords are made of only lowercase letters.\n",
    "\n"
   ]
  },
  {
   "cell_type": "markdown",
   "id": "7da5c5e0",
   "metadata": {},
   "source": [
    "9. Count how many passwords contain the substring `\"123\"`.\n",
    "\n"
   ]
  },
  {
   "cell_type": "markdown",
   "id": "4fb3ab03",
   "metadata": {},
   "source": [
    "10. Calculate the average length of all passwords."
   ]
  }
 ],
 "metadata": {
  "language_info": {
   "name": "python"
  }
 },
 "nbformat": 4,
 "nbformat_minor": 5
}
